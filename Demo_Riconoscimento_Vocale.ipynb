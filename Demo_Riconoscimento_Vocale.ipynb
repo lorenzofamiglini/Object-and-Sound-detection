{
 "cells": [
  {
   "cell_type": "code",
   "execution_count": 1,
   "metadata": {},
   "outputs": [],
   "source": [
    "import pandas as pd\n",
    "import numpy as np\n",
    "import matplotlib.pyplot as plt\n",
    "import IPython.display as ipd\n",
    "import scipy as sy\n",
    "from scipy.io import wavfile as wav #importare ed esportare file audio\n",
    "import pylab\n",
    "import os\n",
    "import sys\n",
    "import numpy as np\n",
    "import pandas as pd"
   ]
  },
  {
   "cell_type": "code",
   "execution_count": 2,
   "metadata": {},
   "outputs": [],
   "source": [
    "feat = pd.read_csv(\"D:/Data_Science_all/MSC_2_anno/PROGETTO_AML_DSIM/dataset_features.csv\")"
   ]
  },
  {
   "cell_type": "code",
   "execution_count": 3,
   "metadata": {},
   "outputs": [],
   "source": [
    "from sklearn.preprocessing import LabelEncoder\n",
    "encoder2 = LabelEncoder()\n",
    "feat[\"Chi2\"] = encoder2.fit_transform(feat.Chi)\n",
    "#feat[\"Chi2\"] = encoder2.inverse_transform(feat.Chi)\n",
    "encoder = LabelEncoder()\n",
    "feat[\"Cosa2\"] = encoder.fit_transform(feat.Cosa)"
   ]
  },
  {
   "cell_type": "code",
   "execution_count": 4,
   "metadata": {},
   "outputs": [
    {
     "data": {
      "text/html": [
       "<div>\n",
       "<style scoped>\n",
       "    .dataframe tbody tr th:only-of-type {\n",
       "        vertical-align: middle;\n",
       "    }\n",
       "\n",
       "    .dataframe tbody tr th {\n",
       "        vertical-align: top;\n",
       "    }\n",
       "\n",
       "    .dataframe thead th {\n",
       "        text-align: right;\n",
       "    }\n",
       "</style>\n",
       "<table border=\"1\" class=\"dataframe\">\n",
       "  <thead>\n",
       "    <tr style=\"text-align: right;\">\n",
       "      <th></th>\n",
       "      <th>Chi</th>\n",
       "      <th>Chi2</th>\n",
       "      <th>Cosa</th>\n",
       "      <th>Cosa2</th>\n",
       "    </tr>\n",
       "  </thead>\n",
       "  <tbody>\n",
       "    <tr>\n",
       "      <th>0</th>\n",
       "      <td>lorenzo</td>\n",
       "      <td>1</td>\n",
       "      <td>sanzione</td>\n",
       "      <td>1</td>\n",
       "    </tr>\n",
       "    <tr>\n",
       "      <th>1</th>\n",
       "      <td>sconosciuto</td>\n",
       "      <td>2</td>\n",
       "      <td>tipologia</td>\n",
       "      <td>2</td>\n",
       "    </tr>\n",
       "    <tr>\n",
       "      <th>2</th>\n",
       "      <td>sconosciuto</td>\n",
       "      <td>2</td>\n",
       "      <td>descrizione</td>\n",
       "      <td>0</td>\n",
       "    </tr>\n",
       "    <tr>\n",
       "      <th>3</th>\n",
       "      <td>lorenzo</td>\n",
       "      <td>1</td>\n",
       "      <td>sanzione</td>\n",
       "      <td>1</td>\n",
       "    </tr>\n",
       "    <tr>\n",
       "      <th>4</th>\n",
       "      <td>lorenzo</td>\n",
       "      <td>1</td>\n",
       "      <td>tipologia</td>\n",
       "      <td>2</td>\n",
       "    </tr>\n",
       "    <tr>\n",
       "      <th>5</th>\n",
       "      <td>giorgio</td>\n",
       "      <td>0</td>\n",
       "      <td>sanzione</td>\n",
       "      <td>1</td>\n",
       "    </tr>\n",
       "    <tr>\n",
       "      <th>6</th>\n",
       "      <td>giorgio</td>\n",
       "      <td>0</td>\n",
       "      <td>tipologia</td>\n",
       "      <td>2</td>\n",
       "    </tr>\n",
       "    <tr>\n",
       "      <th>7</th>\n",
       "      <td>sconosciuto</td>\n",
       "      <td>2</td>\n",
       "      <td>tipologia</td>\n",
       "      <td>2</td>\n",
       "    </tr>\n",
       "    <tr>\n",
       "      <th>8</th>\n",
       "      <td>sconosciuto</td>\n",
       "      <td>2</td>\n",
       "      <td>tipologia</td>\n",
       "      <td>2</td>\n",
       "    </tr>\n",
       "    <tr>\n",
       "      <th>9</th>\n",
       "      <td>lorenzo</td>\n",
       "      <td>1</td>\n",
       "      <td>tipologia</td>\n",
       "      <td>2</td>\n",
       "    </tr>\n",
       "    <tr>\n",
       "      <th>10</th>\n",
       "      <td>giorgio</td>\n",
       "      <td>0</td>\n",
       "      <td>sanzione</td>\n",
       "      <td>1</td>\n",
       "    </tr>\n",
       "    <tr>\n",
       "      <th>11</th>\n",
       "      <td>sconosciuto</td>\n",
       "      <td>2</td>\n",
       "      <td>sanzione</td>\n",
       "      <td>1</td>\n",
       "    </tr>\n",
       "    <tr>\n",
       "      <th>12</th>\n",
       "      <td>lorenzo</td>\n",
       "      <td>1</td>\n",
       "      <td>tipologia</td>\n",
       "      <td>2</td>\n",
       "    </tr>\n",
       "    <tr>\n",
       "      <th>13</th>\n",
       "      <td>giorgio</td>\n",
       "      <td>0</td>\n",
       "      <td>sanzione</td>\n",
       "      <td>1</td>\n",
       "    </tr>\n",
       "    <tr>\n",
       "      <th>14</th>\n",
       "      <td>lorenzo</td>\n",
       "      <td>1</td>\n",
       "      <td>tipologia</td>\n",
       "      <td>2</td>\n",
       "    </tr>\n",
       "    <tr>\n",
       "      <th>15</th>\n",
       "      <td>lorenzo</td>\n",
       "      <td>1</td>\n",
       "      <td>tipologia</td>\n",
       "      <td>2</td>\n",
       "    </tr>\n",
       "    <tr>\n",
       "      <th>16</th>\n",
       "      <td>lorenzo</td>\n",
       "      <td>1</td>\n",
       "      <td>tipologia</td>\n",
       "      <td>2</td>\n",
       "    </tr>\n",
       "    <tr>\n",
       "      <th>17</th>\n",
       "      <td>giorgio</td>\n",
       "      <td>0</td>\n",
       "      <td>tipologia</td>\n",
       "      <td>2</td>\n",
       "    </tr>\n",
       "    <tr>\n",
       "      <th>18</th>\n",
       "      <td>lorenzo</td>\n",
       "      <td>1</td>\n",
       "      <td>sanzione</td>\n",
       "      <td>1</td>\n",
       "    </tr>\n",
       "    <tr>\n",
       "      <th>19</th>\n",
       "      <td>sconosciuto</td>\n",
       "      <td>2</td>\n",
       "      <td>tipologia</td>\n",
       "      <td>2</td>\n",
       "    </tr>\n",
       "  </tbody>\n",
       "</table>\n",
       "</div>"
      ],
      "text/plain": [
       "            Chi  Chi2         Cosa  Cosa2\n",
       "0       lorenzo     1     sanzione      1\n",
       "1   sconosciuto     2    tipologia      2\n",
       "2   sconosciuto     2  descrizione      0\n",
       "3       lorenzo     1     sanzione      1\n",
       "4       lorenzo     1    tipologia      2\n",
       "5       giorgio     0     sanzione      1\n",
       "6       giorgio     0    tipologia      2\n",
       "7   sconosciuto     2    tipologia      2\n",
       "8   sconosciuto     2    tipologia      2\n",
       "9       lorenzo     1    tipologia      2\n",
       "10      giorgio     0     sanzione      1\n",
       "11  sconosciuto     2     sanzione      1\n",
       "12      lorenzo     1    tipologia      2\n",
       "13      giorgio     0     sanzione      1\n",
       "14      lorenzo     1    tipologia      2\n",
       "15      lorenzo     1    tipologia      2\n",
       "16      lorenzo     1    tipologia      2\n",
       "17      giorgio     0    tipologia      2\n",
       "18      lorenzo     1     sanzione      1\n",
       "19  sconosciuto     2    tipologia      2"
      ]
     },
     "execution_count": 4,
     "metadata": {},
     "output_type": "execute_result"
    }
   ],
   "source": [
    "feat[[\"Chi\",\"Chi2\",\"Cosa\",\"Cosa2\"]].head(20)"
   ]
  },
  {
   "cell_type": "code",
   "execution_count": 5,
   "metadata": {},
   "outputs": [],
   "source": [
    "import librosa\n",
    "\n",
    "def feat_prova(X):\n",
    "    sample_rate = 44100\n",
    "    # short term fourier transform: represents a signal in the time-frequency domain by computing discrete Fourier transforms (DFT) over short overlapping windows.\n",
    "    stft = np.abs(librosa.stft(X))\n",
    "    \n",
    "    # mfcc (mel-frequency cepstrum) The mel frequency cepstral coefficients (MFCCs) of a signal are a small set of features (usually about 10-20) which concisely describe the overall shape of a spectral envelope.\n",
    "    mfccs = np.mean(librosa.feature.mfcc(y=X, sr=sample_rate, n_mfcc=40).T,axis=0)\n",
    "\n",
    "    # chroma\n",
    "    chroma = np.mean(librosa.feature.chroma_stft(S=stft, sr=sample_rate).T,axis=0)\n",
    "\n",
    "    # melspectrogram It partitions the Hz scale into bins, and transforms each bin into a corresponding bin in the Mel Scale, using a overlapping triangular filters.\n",
    "    mel = np.mean(librosa.feature.melspectrogram(X, sr=sample_rate).T,axis=0)\n",
    "\n",
    "    # spectral contrast Each frame of a spectrogram S is divided into sub-bands. For each sub-band, the energy contrast is estimated by comparing the mean energy in the top quantile (peak energy) to that of the bottom quantile (valley energy). High contrast values generally correspond to clear, narrow-band signals, while low contrast values correspond to broad-band noise.\n",
    "    contrast = np.mean(librosa.feature.spectral_contrast(S=stft, sr=sample_rate).T,axis=0)\n",
    "\n",
    "    tonnetz = np.mean(librosa.feature.tonnetz(y=librosa.effects.harmonic(X), sr=sample_rate).T,axis=0)\n",
    "    \n",
    "    return mfccs,chroma,mel,contrast,tonnetz"
   ]
  },
  {
   "cell_type": "code",
   "execution_count": 6,
   "metadata": {},
   "outputs": [],
   "source": [
    "# !pip install numpy==1.17.5\n",
    "# #sklearn 0.22.1\n",
    "# !pip install scikit-learn==0.22.1"
   ]
  },
  {
   "cell_type": "code",
   "execution_count": 7,
   "metadata": {},
   "outputs": [
    {
     "data": {
      "text/plain": [
       "'0.22.1'"
      ]
     },
     "execution_count": 7,
     "metadata": {},
     "output_type": "execute_result"
    }
   ],
   "source": [
    "import sklearn \n",
    "sklearn.__version__"
   ]
  },
  {
   "cell_type": "code",
   "execution_count": null,
   "metadata": {},
   "outputs": [],
   "source": [
    "!pip install"
   ]
  },
  {
   "cell_type": "code",
   "execution_count": 8,
   "metadata": {},
   "outputs": [],
   "source": [
    "from joblib import dump, load\n",
    "clf_chi = load('C:/Users/loren/Downloads/modello_chi_finale.joblib') \n",
    "std_scaler = load('C:/Users/loren/Downloads/std_scaler_modello_chi.bin') \n",
    "clf_cosa = load('C:/Users/loren/Downloads/modello_cosa_finale.joblib') \n",
    "std_scaler_cosa = load('C:/Users/loren/Downloads/std_scaler_modello_cosa.bin') "
   ]
  },
  {
   "cell_type": "code",
   "execution_count": 9,
   "metadata": {},
   "outputs": [],
   "source": [
    "df = pd.read_csv(\"D:/Data_Science_all/MSC_2_anno/PROGETTO_AML_DSIM/Object-and-Sound-detection/risposte_domande_trafficlight.csv\", sep = \";\")\n",
    "df.drop(\"Unnamed: 0\", axis=1, inplace=True)\n",
    "df.columns = ['title', 'target', 'descrizione', 'tipologia', 'sanzione']"
   ]
  },
  {
   "cell_type": "code",
   "execution_count": null,
   "metadata": {},
   "outputs": [],
   "source": [
    "#!pip install sounddevice"
   ]
  },
  {
   "cell_type": "code",
   "execution_count": null,
   "metadata": {},
   "outputs": [],
   "source": [
    "mfccs_lista,chroma_lista,mel_lista, contrast_lis"
   ]
  },
  {
   "cell_type": "code",
   "execution_count": 217,
   "metadata": {},
   "outputs": [],
   "source": [
    "from gtts import gTTS\n",
    "from playsound import playsound\n",
    "import sounddevice as sd\n",
    "import numpy as np\n",
    "np.set_printoptions(suppress=True)\n",
    "def question_answer(segnale, audio, string):\n",
    "    #Preprocessing audio di input\n",
    "    mfccs,chroma,mel,contrast,tonnetz = feat_prova(audio.reshape(110250))\n",
    "    x_prova = np.concatenate([mfccs.reshape(1,40),chroma.reshape(1,12),mel.reshape(1,128),\n",
    "                              contrast.reshape(1,7)],axis = 1)\n",
    "    x = std_scaler.transform(x_prova)\n",
    "    x_cosa = std_scaler_cosa.transform(x_prova)\n",
    "    chi = ''.join(encoder2.inverse_transform(clf_chi.predict(x)))\n",
    "    print(clf_chi.predict_proba(x))\n",
    "    print(chi)\n",
    "    cosa = ''.join(encoder.inverse_transform(clf_cosa.predict(x_cosa)))\n",
    "    print(cosa)\n",
    "\n",
    "\n",
    "    #risposta = df[df[\"title\"]==segnale][cosa].iloc[0]\n",
    "\n",
    "#     if (cosa == \"descrizione\"):\n",
    "#         a = str(\"Ciao \"+chi+\", \"+\"il segnale di: \"+segnale+\", e' descritto nel seguente modo: \"+risposta)\n",
    "#     if (cosa == \"sanzione\"):\n",
    "#         a = str(\"Ciao \"+chi+\", \"+\"il segnale di: \"+segnale+\", presenta la seguente sanzione: \"+risposta)\n",
    "#     if (cosa == \"tipologia\"):\n",
    "#         a = str(\"Ciao \"+chi+\", \"+\"il segnale di: \"+segnale+\", rientra nella tipologia di: \"+risposta)\n",
    "    a = str(\"Ciao\"+chi)\n",
    "    language = \"it\"\n",
    "    text = a\n",
    "    myobj = gTTS(text=text, lang=language, slow=False)\n",
    "    myobj.save(\"D:/Data_Science_all/MSC_2_anno/PROGETTO_AML_DSIM/Object-and-Sound-detection/\"+str(string)+\".mp3\")\n",
    "\n",
    "    return a, playsound(\"D:/Data_Science_all/MSC_2_anno/PROGETTO_AML_DSIM/Object-and-Sound-detection/\"+str(string)+\".mp3\")"
   ]
  },
  {
   "cell_type": "code",
   "execution_count": 288,
   "metadata": {},
   "outputs": [],
   "source": [
    "duration = 2.5 # seconds\n",
    "fs = 44100\n",
    "audio_z1 = sd.rec(int(duration * fs), samplerate=fs, channels=1)"
   ]
  },
  {
   "cell_type": "code",
   "execution_count": 290,
   "metadata": {},
   "outputs": [],
   "source": [
    "sd.play(audio_z1)"
   ]
  }
 ],
 "metadata": {
  "kernelspec": {
   "display_name": "Python 3",
   "language": "python",
   "name": "python3"
  },
  "language_info": {
   "codemirror_mode": {
    "name": "ipython",
    "version": 3
   },
   "file_extension": ".py",
   "mimetype": "text/x-python",
   "name": "python",
   "nbconvert_exporter": "python",
   "pygments_lexer": "ipython3",
   "version": "3.7.3"
  }
 },
 "nbformat": 4,
 "nbformat_minor": 2
}

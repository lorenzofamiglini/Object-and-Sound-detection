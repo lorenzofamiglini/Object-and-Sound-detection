{
 "cells": [
  {
   "cell_type": "code",
   "execution_count": null,
   "metadata": {},
   "outputs": [],
   "source": [
    "from google.colab import drive\n",
    "drive.mount('/content/drive')\n",
    "import numpy as np\n",
    "from imblearn.under_sampling import RandomUnderSampler\n",
    "from keras.models import Sequential\n",
    "from keras.models import Model\n",
    "from keras.layers import Concatenate,Input, Dense, Flatten, Reshape, MaxPooling2D, Conv2D, GlobalMaxPooling2D, GlobalAveragePooling2D\n",
    "from keras.layers import Activation, Dense, Dropout, BatchNormalization, LeakyReLU\n",
    "from keras.optimizers import SGD\n",
    "from sklearn.metrics import confusion_matrix\n",
    "from sklearn.metrics import classification_report, explained_variance_score\n",
    "from imblearn.under_sampling import RandomUnderSampler\n",
    "from sklearn.utils import shuffle \n",
    "from keras.preprocessing import image as kimage\n",
    "import skimage.io as io\n",
    "import random\n",
    "import sys\n",
    "import pickle as pkl\n",
    "from imblearn.keras import BalancedBatchGenerator\n",
    "from keras.utils import np_utils\n",
    "from sklearn.metrics import classification_report\n",
    "import cv2\n",
    "import keras"
   ]
  },
  {
   "cell_type": "code",
   "execution_count": 0,
   "metadata": {
    "colab": {
     "base_uri": "https://localhost:8080/",
     "height": 34
    },
    "colab_type": "code",
    "id": "GZeAAiafLg5x",
    "outputId": "73e44764-946e-4def-cdfb-94be4a6657dc"
   },
   "outputs": [
    {
     "data": {
      "text/plain": [
       "'2.2.5'"
      ]
     },
     "execution_count": 3,
     "metadata": {
      "tags": []
     },
     "output_type": "execute_result"
    }
   ],
   "source": [
    "keras.__version__"
   ]
  },
  {
   "cell_type": "code",
   "execution_count": 0,
   "metadata": {
    "colab": {},
    "colab_type": "code",
    "id": "8fw8IqdA65Vj"
   },
   "outputs": [],
   "source": [
    "X_train = np.load(\"/content/drive/My Drive/Dataset/Train_segnali/train_speriamo_bene_completo_X.npy\")\n",
    "y_train = np.load(\"/content/drive/My Drive/Dataset/Train_segnali/train_speriamo_bene_completo_Y.npy\")\n",
    "X_test = np.load(\"/content/drive/My Drive/Dataset/Test_segnali/X_test_speriamo_bene.npy\")\n",
    "y_test = np.load(\"/content/drive/My Drive/Dataset/Test_segnali/y_test_speriamo_bene.npy\")"
   ]
  },
  {
   "cell_type": "code",
   "execution_count": 0,
   "metadata": {
    "colab": {
     "base_uri": "https://localhost:8080/",
     "height": 34
    },
    "colab_type": "code",
    "id": "MpnwqqdsFWvP",
    "outputId": "bb2514dd-f152-4626-c806-5591bb8a0485"
   },
   "outputs": [
    {
     "data": {
      "text/plain": [
       "array([132349,  78418])"
      ]
     },
     "execution_count": 50,
     "metadata": {
      "tags": []
     },
     "output_type": "execute_result"
    }
   ],
   "source": [
    "np.bincount(y_train.astype(np.int64))"
   ]
  },
  {
   "cell_type": "code",
   "execution_count": 0,
   "metadata": {
    "colab": {},
    "colab_type": "code",
    "id": "WHYOJgkD70Wm"
   },
   "outputs": [],
   "source": [
    "def balanced_flow_from_directory(flow_from_directory):\n",
    "    for immagini, classi in flow_from_directory:\n",
    "         yield custom_balance(immagini, classi)\n",
    "            \n",
    "def custom_balance(immagini, classi):\n",
    "    rus = RandomUnderSampler()\n",
    "    X_resampled, y_resampled = rus.fit_sample(immagini.reshape(immagini.shape[0], immagini.shape[1]*immagini.shape[2]*immagini.shape[3]), classi)     \n",
    "    X_resampled = X_resampled.reshape(X_resampled.shape[0], immagini.shape[1], immagini.shape[2], immagini.shape[3])\n",
    "    X_resampled, y_resampled = shuffle(X_resampled, y_resampled)\n",
    "    #y_resampled = y_resampled.reshape(y_resampled.shape[0], 1, 1, 1) #da mettere se uso model_conv()\n",
    "    y_resampled = np_utils.to_categorical(y_resampled, 2) #da mettere se uso model_flat()\n",
    "    return(X_resampled, y_resampled)"
   ]
  },
  {
   "cell_type": "code",
   "execution_count": 0,
   "metadata": {
    "colab": {},
    "colab_type": "code",
    "id": "zx14BGGQ-SzJ"
   },
   "outputs": [],
   "source": [
    "from keras.preprocessing import image as kimage\n",
    "from keras.preprocessing import image as kimage\n",
    "from keras.applications.resnet import  ResNet50\n",
    "from keras.applications import resnet\n",
    "from keras.applications import resnet_v2\n",
    "model = ResNet50(input_shape = (40, 40, 3),\n",
    "                 include_top=False)\n",
    "train_img_pro = kimage.ImageDataGenerator(preprocessing_function=resnet.preprocess_input)\n",
    "#test_img_pro = kimage.ImageDataGenerator(preprocessing_function=resnet.preprocess_input"
   ]
  },
  {
   "cell_type": "code",
   "execution_count": 0,
   "metadata": {
    "colab": {},
    "colab_type": "code",
    "id": "8Kg0hXWtAVU-"
   },
   "outputs": [],
   "source": [
    "#X_train = preprocess_input(X_train.astype(np.float64))\n",
    "#X_test = preprocess_input(X_test.astype(np.float64))"
   ]
  },
  {
   "cell_type": "code",
   "execution_count": 0,
   "metadata": {
    "colab": {},
    "colab_type": "code",
    "id": "6BNMwF6Y9q5T"
   },
   "outputs": [],
   "source": [
    "#train_processing_flow = .ImageDataGenerator() DA METTERE NEL PROGETTO FOGLIE MALATE!!\n",
    "#train_processing_flow = kimage.ImageDataGenerator()\n",
    "train_generator_flow = train_img_pro.flow((X_train, y_train), \n",
    "                    batch_size=200,\n",
    "                    shuffle=True #riordino i dati in maniera casuale\n",
    "                    )      \n",
    "train_generator_bal = balanced_flow_from_directory(train_generator_flow)"
   ]
  },
  {
   "cell_type": "code",
   "execution_count": 0,
   "metadata": {
    "colab": {},
    "colab_type": "code",
    "id": "SPNyV6raB53W"
   },
   "outputs": [],
   "source": [
    "base_net = ResNet50(input_shape=(40,40,3),\n",
    "                         include_top=False, #ignorare l'ultimo fully connected\n",
    "                         weights='imagenet', #pesi ottimizzati su imagenet\n",
    "                         pooling='avg')\n"
   ]
  },
  {
   "cell_type": "code",
   "execution_count": 0,
   "metadata": {
    "colab": {},
    "colab_type": "code",
    "id": "MMRPXb71C7eA"
   },
   "outputs": [],
   "source": [
    "for layer in base_net.layers:\n",
    "  layer.trainable = False #Blocchiamo tutti i livelli della rete e non alleniamoli"
   ]
  },
  {
   "cell_type": "code",
   "execution_count": 0,
   "metadata": {
    "colab": {},
    "colab_type": "code",
    "id": "l-Wh-nkGbHOo"
   },
   "outputs": [],
   "source": [
    "base_net.summary()"
   ]
  },
  {
   "cell_type": "code",
   "execution_count": 0,
   "metadata": {
    "colab": {
     "base_uri": "https://localhost:8080/",
     "height": 85
    },
    "colab_type": "code",
    "id": "iIVVk0RdDQmD",
    "outputId": "11017372-3df2-40fb-d7b2-cdce4d39c2de"
   },
   "outputs": [
    {
     "name": "stdout",
     "output_type": "stream",
     "text": [
      "WARNING:tensorflow:From /usr/local/lib/python3.6/dist-packages/keras/backend/tensorflow_backend.py:3733: calling dropout (from tensorflow.python.ops.nn_ops) with keep_prob is deprecated and will be removed in a future version.\n",
      "Instructions for updating:\n",
      "Please use `rate` instead of `keep_prob`. Rate should be set to `rate = 1 - keep_prob`.\n",
      "WARNING:tensorflow:Large dropout rate: 0.6 (>0.5). In TensorFlow 2.x, dropout() uses dropout rate instead of keep_prob. Please ensure that this is intended.\n"
     ]
    }
   ],
   "source": [
    "#Attacchiamo i full dense che servono a noi per il nostro problema\n",
    "from keras.models import Model\n",
    "from keras.layers import Dense\n",
    "import keras\n",
    "from keras.regularizers import l1_l2\n",
    "#base_net = Model(base_net.input, base_net.layers[-1].output)\n",
    "x = base_net.output\n",
    "x = Dense(512, activation = \"relu\", kernel_regularizer=l1_l2(l1=0.01))(x)\n",
    "#x = Dense(512, activation = \"relu\")(x)\n",
    "x = Dense(264, activation = \"relu\")(x)\n",
    "x = Dropout(0.6)(x)\n",
    "pred = Dense(2, activation = \"softmax\")(x)\n",
    "net = Model(inputs=base_net.input, outputs = pred)"
   ]
  },
  {
   "cell_type": "code",
   "execution_count": 0,
   "metadata": {
    "colab": {},
    "colab_type": "code",
    "id": "K_sUOL1Arqhd"
   },
   "outputs": [],
   "source": [
    "model.summary()"
   ]
  },
  {
   "cell_type": "code",
   "execution_count": 0,
   "metadata": {
    "colab": {},
    "colab_type": "code",
    "id": "iE0Y2njZWLp8"
   },
   "outputs": [],
   "source": [
    "import keras as ks\n",
    "opt = ks.optimizers.Nadam(lr=0.1, beta_1=0.9, beta_2=0.99)\n",
    "opt2 = SGD(lr=0.1, momentum=0.9, nesterov=True, decay=0.001) # lr = 0.01, decay=0.0001\n",
    "opt3 = ks.optimizers.RMSprop(lr=0.001, rho=0.9)\n",
    "opt4 = ks.optimizers.Adagrad(lr=0.01)\n",
    "opt5 = ks.optimizers.Adadelta(lr= 1.0, rho=0.95)\n",
    "opt6 = ks.optimizers.Adam(lr=0.001, beta_1=0.6, beta_2=0.999, amsgrad=False)\n",
    "opt7 = ks.optimizers.Adamax(lr=0.002, beta_1=0.9, beta_2=0.999)"
   ]
  },
  {
   "cell_type": "code",
   "execution_count": 0,
   "metadata": {
    "colab": {
     "base_uri": "https://localhost:8080/",
     "height": 85
    },
    "colab_type": "code",
    "id": "bvos0PO1DU09",
    "outputId": "787423ff-ce90-4da1-cdab-51db990d480c"
   },
   "outputs": [
    {
     "name": "stdout",
     "output_type": "stream",
     "text": [
      "WARNING:tensorflow:From /usr/local/lib/python3.6/dist-packages/keras/optimizers.py:793: The name tf.train.Optimizer is deprecated. Please use tf.compat.v1.train.Optimizer instead.\n",
      "\n",
      "WARNING:tensorflow:From /usr/local/lib/python3.6/dist-packages/keras/backend/tensorflow_backend.py:3576: The name tf.log is deprecated. Please use tf.math.log instead.\n",
      "\n"
     ]
    }
   ],
   "source": [
    "net.compile(loss = keras.losses.categorical_crossentropy, optimizer = opt2, metrics = ['accuracy'])"
   ]
  },
  {
   "cell_type": "code",
   "execution_count": 0,
   "metadata": {
    "colab": {},
    "colab_type": "code",
    "id": "MnimpqvcDZ6Y"
   },
   "outputs": [],
   "source": [
    "from keras.callbacks import History\n",
    "import warnings\n",
    "import warnings\n",
    "warnings.simplefilter(action='ignore', category=FutureWarning)\n",
    "history = History()\n",
    "net.fit_generator(train_generator_bal, epochs = 40, callbacks=[history], steps_per_epoch= 200)"
   ]
  },
  {
   "cell_type": "code",
   "execution_count": 0,
   "metadata": {
    "colab": {},
    "colab_type": "code",
    "id": "XEmKmtFbrsFX"
   },
   "outputs": [],
   "source": [
    "# test_generator_flow = test_img_pro.flow((X_test, y_test), \n",
    "#                     batch_size=200,\n",
    "#                     shuffle=True #riordino i dati in maniera casuale,\n",
    "#                     )      \n",
    "# test_generator_flow = balanced_flow_from_directory(test_generator_flow)"
   ]
  },
  {
   "cell_type": "code",
   "execution_count": 0,
   "metadata": {
    "colab": {},
    "colab_type": "code",
    "id": "pqfgyL35frNv"
   },
   "outputs": [],
   "source": [
    "prova = resnet.preprocess_input(X_train)"
   ]
  },
  {
   "cell_type": "code",
   "execution_count": 0,
   "metadata": {
    "colab": {
     "base_uri": "https://localhost:8080/",
     "height": 51
    },
    "colab_type": "code",
    "id": "lpRqL-KASZaa",
    "outputId": "9b5d0135-2899-4a2f-de43-6d9ff02cf566"
   },
   "outputs": [
    {
     "name": "stdout",
     "output_type": "stream",
     "text": [
      "210767/210767 [==============================] - 92s 437us/step\n"
     ]
    },
    {
     "data": {
      "text/plain": [
       "[5.305714778491514, 0.42020809709299844]"
      ]
     },
     "execution_count": 19,
     "metadata": {
      "tags": []
     },
     "output_type": "execute_result"
    }
   ],
   "source": [
    "net.evaluate(X_train,np_utils.to_categorical(y_train))"
   ]
  },
  {
   "cell_type": "code",
   "execution_count": 0,
   "metadata": {
    "colab": {},
    "colab_type": "code",
    "id": "O6vMkJPsLqI_"
   },
   "outputs": [],
   "source": [
    "X_test = resnet.preprocess_input(X_test)"
   ]
  },
  {
   "cell_type": "code",
   "execution_count": 0,
   "metadata": {
    "colab": {},
    "colab_type": "code",
    "id": "rBehYD5uDqHP"
   },
   "outputs": [],
   "source": [
    "prediction_test = net.predict(prova)"
   ]
  },
  {
   "cell_type": "code",
   "execution_count": 0,
   "metadata": {
    "colab": {
     "base_uri": "https://localhost:8080/",
     "height": 34
    },
    "colab_type": "code",
    "id": "-9T3zQtWGduj",
    "outputId": "71a4046c-459e-4441-ae18-c21c9479b768"
   },
   "outputs": [
    {
     "data": {
      "text/plain": [
       "array([0, 0, 0, ..., 1, 1, 1])"
      ]
     },
     "execution_count": 96,
     "metadata": {
      "tags": []
     },
     "output_type": "execute_result"
    }
   ],
   "source": [
    "prediction_test.shape\n",
    "np_utils.to_categorical(y_test).argmax(axis = -1)"
   ]
  },
  {
   "cell_type": "code",
   "execution_count": 0,
   "metadata": {
    "colab": {
     "base_uri": "https://localhost:8080/",
     "height": 51
    },
    "colab_type": "code",
    "id": "9ZEWAiiIYGxD",
    "outputId": "7b3da825-9a8e-43af-a77c-00b268e9a220"
   },
   "outputs": [
    {
     "name": "stdout",
     "output_type": "stream",
     "text": [
      "32792/32792 [==============================] - 19s 575us/step\n",
      "[4.169478711863208, 0.7604903635032935]\n"
     ]
    }
   ],
   "source": [
    "print(net.evaluate(X_test, np_utils.to_categorical(y_test)))"
   ]
  },
  {
   "cell_type": "code",
   "execution_count": 0,
   "metadata": {
    "colab": {},
    "colab_type": "code",
    "id": "CZggr6R3zE_k"
   },
   "outputs": [],
   "source": [
    "base_net.summary()"
   ]
  },
  {
   "cell_type": "markdown",
   "metadata": {
    "colab_type": "text",
    "id": "mNuuMe1SzJOJ"
   },
   "source": [
    "# Crop dei layers "
   ]
  },
  {
   "cell_type": "code",
   "execution_count": 0,
   "metadata": {
    "colab": {},
    "colab_type": "code",
    "id": "GW2LeFYzvJf9"
   },
   "outputs": [],
   "source": [
    "#X_train = resnet.preprocess_input(X_train)\n",
    "#X_test = resnet.preprocess_input(X_test)"
   ]
  },
  {
   "cell_type": "code",
   "execution_count": 0,
   "metadata": {
    "colab": {},
    "colab_type": "code",
    "id": "fu4JQfcC0UCL"
   },
   "outputs": [],
   "source": [
    "base_net = Model(base_net.input, base_net.layers[-9].output)\n",
    "#base_net2.summary()"
   ]
  },
  {
   "cell_type": "markdown",
   "metadata": {
    "colab_type": "text",
    "id": "NK-2oSK8tROs"
   },
   "source": []
  },
  {
   "cell_type": "code",
   "execution_count": 0,
   "metadata": {
    "colab": {},
    "colab_type": "code",
    "id": "8euuhA5bGPCc"
   },
   "outputs": [],
   "source": [
    "#base_net = Model(base_net.input, base_net.layers[-9].output)\n",
    "x = base_net.output\n",
    "x = Flatten()(x)\n",
    "x = Dense(512, activation = \"relu\")(x)#, kernel_regularizer=l1_l2(l1=0.01)\n",
    "#x = Dense(512, activation = \"relu\")(x)\n",
    "#x = Dense(264, activation = \"relu\")(x)\n",
    "x = Dropout(0.6)(x)\n",
    "pred = Dense(2, activation = \"softmax\")(x)\n",
    "net = Model(inputs=base_net.input, outputs = pred)"
   ]
  },
  {
   "cell_type": "code",
   "execution_count": 0,
   "metadata": {
    "colab": {},
    "colab_type": "code",
    "id": "jUcg_PfEz1AF"
   },
   "outputs": [],
   "source": [
    "opt = ks.optimizers.Nadam(lr=0.1, beta_1=0.9, beta_2=0.99)\n",
    "opt2 = SGD(lr=0.01, momentum=0.9, nesterov=True, decay=0.001) # lr = 0.01, decay=0.0001\n",
    "opt3 = ks.optimizers.RMSprop(lr=0.001, rho=0.9)\n",
    "opt4 = ks.optimizers.Adagrad(lr=0.01)\n",
    "opt5 = ks.optimizers.Adadelta(lr= 1.0, rho=0.95)\n",
    "opt6 = ks.optimizers.Adam(lr=0.001, beta_1=0.6, beta_2=0.999, amsgrad=False)\n",
    "opt7 = ks.optimizers.Adamax(lr=0.002, beta_1=0.9, beta_2=0.999)"
   ]
  },
  {
   "cell_type": "code",
   "execution_count": 0,
   "metadata": {
    "colab": {},
    "colab_type": "code",
    "id": "GK-6ftjq0i0x"
   },
   "outputs": [],
   "source": [
    "net.compile(loss = keras.losses.categorical_crossentropy, optimizer = opt2, metrics = ['accuracy'])"
   ]
  },
  {
   "cell_type": "code",
   "execution_count": 0,
   "metadata": {
    "colab": {},
    "colab_type": "code",
    "id": "cd2M07Hb0nhF"
   },
   "outputs": [],
   "source": [
    "from keras.callbacks import History\n",
    "import warnings\n",
    "import warnings\n",
    "warnings.simplefilter(action='ignore', category=FutureWarning)\n",
    "history = History()\n",
    "net.fit_generator(train_generator_bal, epochs = 50, callbacks=[history], steps_per_epoch= 200)"
   ]
  },
  {
   "cell_type": "code",
   "execution_count": 0,
   "metadata": {
    "colab": {},
    "colab_type": "code",
    "id": "N1uym5iNtcXH"
   },
   "outputs": [],
   "source": [
    "X_test = resnet.preprocess_input(X_test)\n",
    "prova = resnet.preprocess_input(X_train)"
   ]
  },
  {
   "cell_type": "code",
   "execution_count": 0,
   "metadata": {
    "colab": {},
    "colab_type": "code",
    "id": "zBYK6Z6a0qoy"
   },
   "outputs": [],
   "source": [
    "prediction_test = net.predict(X_test)"
   ]
  },
  {
   "cell_type": "code",
   "execution_count": 0,
   "metadata": {
    "colab": {},
    "colab_type": "code",
    "id": "hBbTqDwd2DrN"
   },
   "outputs": [],
   "source": [
    "import os\n",
    "import skimage.io as io\n",
    "from PIL import Image\n",
    "X = []\n",
    "Y = []\n",
    "conteggio = []\n",
    "i = 0 \n",
    "path = r\"/content/drive/My Drive/Dataset/dataset_classificazione_multiclasse_creato_da_noi/\"\n",
    "Class=os.listdir(path)\n",
    "for a in Class:\n",
    "    new_path = path+a\n",
    "    class_2 = os.listdir(new_path)\n",
    "    for j in class_2: \n",
    "        image = io.imread(path+a+\"/\"+j)\n",
    "        imResize = cv2.resize(image,(40,40))\n",
    "        #image_from_array = Image.fromarray(image, 'RGB')\n",
    "        X.append(np.asarray(imResize))\n",
    "        Y.append(1)\n",
    "      #train = np.concatenate([train,np.expand_dims(np.asarray(image), axis = 0)], axis = 0)\n",
    "      #train_labels = np.concatenate([train_labels,np.array([a])], axis = 0)"
   ]
  },
  {
   "cell_type": "code",
   "execution_count": 0,
   "metadata": {
    "colab": {},
    "colab_type": "code",
    "id": "4RaRF8TT31fE"
   },
   "outputs": [],
   "source": [
    "X_inference = resnet.preprocess_input(np.array(X))\n",
    "y_inference = np_utils.to_categorical(Y)"
   ]
  },
  {
   "cell_type": "code",
   "execution_count": 0,
   "metadata": {
    "colab": {},
    "colab_type": "code",
    "id": "XOsQHT31SJll"
   },
   "outputs": [],
   "source": [
    "#net.save_weights(\"/content/drive/My Drive/Pesi_modelli/pesi_si_no.hdf5\")"
   ]
  },
  {
   "cell_type": "code",
   "execution_count": 0,
   "metadata": {
    "colab": {},
    "colab_type": "code",
    "id": "Re9wdfxzSUMK"
   },
   "outputs": [],
   "source": [
    "#net.save(\"/content/drive/My Drive/Pesi_modelli/modello_si_no.h5\")"
   ]
  },
  {
   "cell_type": "code",
   "execution_count": 0,
   "metadata": {
    "colab": {
     "base_uri": "https://localhost:8080/",
     "height": 51
    },
    "colab_type": "code",
    "id": "mvPKpIEh5m8A",
    "outputId": "a7769f4c-cf7b-4e76-908c-500c2a527be2"
   },
   "outputs": [
    {
     "name": "stdout",
     "output_type": "stream",
     "text": [
      "155/155 [==============================] - 0s 306us/step\n",
      "[0.0007710352299674865, 1.0]\n"
     ]
    }
   ],
   "source": [
    "print(net.evaluate(X_inference, y_inference))"
   ]
  },
  {
   "cell_type": "code",
   "execution_count": 0,
   "metadata": {
    "colab": {
     "base_uri": "https://localhost:8080/",
     "height": 1000
    },
    "colab_type": "code",
    "id": "BR89x53U8yP1",
    "outputId": "2795f85d-146f-470e-daf7-c641950ad83f"
   },
   "outputs": [
    {
     "name": "stdout",
     "output_type": "stream",
     "text": [
      "predizione 1\n"
     ]
    },
    {
     "data": {
      "image/png": "[encoded data removed]",
      "text/plain": [
       "<Figure size 432x288 with 1 Axes>"
      ]
     },
     "metadata": {
      "tags": []
     },
     "output_type": "display_data"
    },
    {
     "name": "stdout",
     "output_type": "stream",
     "text": [
      "predizione 1\n"
     ]
    },
    {
     "data": {
      "image/png": "[encoded data removed]",
      "text/plain": [
       "<Figure size 432x288 with 1 Axes>"
      ]
     },
     "metadata": {
      "tags": []
     },
     "output_type": "display_data"
    },
    {
     "name": "stdout",
     "output_type": "stream",
     "text": [
      "predizione 1\n"
     ]
    },
    {
     "data": {
      "image/png": "[encoded data removed]",
      "text/plain": [
       "<Figure size 432x288 with 1 Axes>"
      ]
     },
     "metadata": {
      "tags": []
     },
     "output_type": "display_data"
    },
    {
     "name": "stdout",
     "output_type": "stream",
     "text": [
      "predizione 1\n"
     ]
    },
    {
     "data": {
      "image/png": "[encoded data removed]",
      "text/plain": [
       "<Figure size 432x288 with 1 Axes>"
      ]
     },
     "metadata": {
      "tags": []
     },
     "output_type": "display_data"
    },
    {
     "name": "stdout",
     "output_type": "stream",
     "text": [
      "predizione 1\n"
     ]
    },
    {
     "data": {
      "image/png": "[encoded data removed]",
      "text/plain": [
       "<Figure size 432x288 with 1 Axes>"
      ]
     },
     "metadata": {
      "tags": []
     },
     "output_type": "display_data"
    },
    {
     "name": "stdout",
     "output_type": "stream",
     "text": [
      "predizione 1\n"
     ]
    },
    {
     "data": {
      "image/png": "[encoded data removed]",
      "text/plain": [
       "<Figure size 432x288 with 1 Axes>"
      ]
     },
     "metadata": {
      "tags": []
     },
     "output_type": "display_data"
    },
    {
     "name": "stdout",
     "output_type": "stream",
     "text": [
      "predizione 1\n"
     ]
    },
    {
     "data": {
      "image/png": "[encoded data removed]",
      "text/plain": [
       "<Figure size 432x288 with 1 Axes>"
      ]
     },
     "metadata": {
      "tags": []
     },
     "output_type": "display_data"
    }
   ],
   "source": [
    "import matplotlib.pyplot as plt\n",
    "for i in range(78,85):\n",
    "  print(\"predizione \"+str(prediction.argmax(axis=-1)[i]))\n",
    "  plt.imshow(X[i])\n",
    "  plt.show()"
   ]
  }
 ],
 "metadata": {
  "accelerator": "GPU",
  "colab": {
   "collapsed_sections": [],
   "machine_shape": "hm",
   "name": "Transfer_learning_segnali_stradali.ipynb",
   "provenance": []
  },
  "kernelspec": {
   "display_name": "Python 3",
   "language": "python",
   "name": "python3"
  },
  "language_info": {
   "codemirror_mode": {
    "name": "ipython",
    "version": 3
   },
   "file_extension": ".py",
   "mimetype": "text/x-python",
   "name": "python",
   "nbconvert_exporter": "python",
   "pygments_lexer": "ipython3",
   "version": "3.7.3"
  }
 },
 "nbformat": 4,
 "nbformat_minor": 1
}

{
  "nbformat": 4,
  "nbformat_minor": 0,
  "metadata": {
    "kernelspec": {
      "name": "python3",
      "display_name": "Python 3"
    },
    "language_info": {
      "codemirror_mode": {
        "name": "ipython",
        "version": 3
      },
      "file_extension": ".py",
      "mimetype": "text/x-python",
      "name": "python",
      "nbconvert_exporter": "python",
      "pygments_lexer": "ipython3",
      "version": "3.7.3"
    },
    "colab": {
      "name": "Classificazione multiclasse.ipynb",
      "provenance": [],
      "collapsed_sections": [],
      "machine_shape": "hm"
    },
    "accelerator": "GPU"
  },
  "cells": [
    {
      "cell_type": "markdown",
      "metadata": {
        "id": "ls4IYlPkzkER",
        "colab_type": "text"
      },
      "source": [
        "# Trasfer Learning classificazione e regressione segnali stradali"
      ]
    },
    {
      "cell_type": "code",
      "metadata": {
        "id": "yxk7QeY_UYe0",
        "colab_type": "code",
        "outputId": "f05d2ee6-9f67-4ece-ee61-7341742c1879",
        "colab": {
          "base_uri": "https://localhost:8080/",
          "height": 122
        }
      },
      "source": [
        "from google.colab import drive\n",
        "drive.mount('/content/drive')"
      ],
      "execution_count": 0,
      "outputs": [
        {
          "output_type": "stream",
          "text": [
            "Go to this URL in a browser: https://accounts.google.com/o/oauth2/auth?client_id=947318989803-6bn6qk8qdgf4n4g3pfee6491hc0brc4i.apps.googleusercontent.com&redirect_uri=urn%3aietf%3awg%3aoauth%3a2.0%3aoob&response_type=code&scope=email%20https%3a%2f%2fwww.googleapis.com%2fauth%2fdocs.test%20https%3a%2f%2fwww.googleapis.com%2fauth%2fdrive%20https%3a%2f%2fwww.googleapis.com%2fauth%2fdrive.photos.readonly%20https%3a%2f%2fwww.googleapis.com%2fauth%2fpeopleapi.readonly\n",
            "\n",
            "Enter your authorization code:\n",
            "··········\n",
            "Mounted at /content/drive\n"
          ],
          "name": "stdout"
        }
      ]
    },
    {
      "cell_type": "code",
      "metadata": {
        "id": "Xuzk6uHMUFt_",
        "colab_type": "code",
        "outputId": "a15435c5-b1ad-48f7-e8ec-f80467aaadfa",
        "colab": {
          "base_uri": "https://localhost:8080/",
          "height": 202
        }
      },
      "source": [
        "import tensorflow as tf\n",
        "import numpy as np\n",
        "import pandas as pd\n",
        "import matplotlib.pyplot as plt\n",
        "import cv2\n",
        "from PIL import Image\n",
        "import os\n",
        "import keras as ks\n",
        "from keras.preprocessing import image as kimage\n",
        "import skimage.io as io\n",
        "import random\n",
        "import sys\n",
        "import pickle as pkl\n",
        "from imblearn.keras import BalancedBatchGenerator\n",
        "from keras.utils import np_utils\n",
        "lib_path = os.path.join(os.path.realpath(r\"/content/drive/My Drive/multi_task/DataAugmentationForObjectDetection-master\"), \"data_aug\")\n",
        "sys.path.append(lib_path)\n",
        "from bbox_util import *\n",
        "from data_aug import *\n",
        "from imblearn.under_sampling import NearMiss\n",
        "from sklearn.model_selection import train_test_split\n",
        "from keras.models import Sequential\n",
        "from keras.models import Model\n",
        "from keras.layers import Concatenate,Input, Dense, Flatten, Reshape, MaxPooling2D, Conv2D, GlobalMaxPooling2D, GlobalAveragePooling2D\n",
        "from keras.layers import Activation, Dense, Dropout, BatchNormalization, LeakyReLU\n",
        "from keras.optimizers import SGD\n",
        "from sklearn.metrics import confusion_matrix\n",
        "from sklearn.metrics import classification_report, explained_variance_score\n",
        "from imblearn.under_sampling import RandomUnderSampler\n",
        "from sklearn.utils import shuffle\n",
        "import skimage as sk\n",
        "from skimage import transform\n",
        "from skimage import util\n",
        "from keras import backend as K"
      ],
      "execution_count": 0,
      "outputs": [
        {
          "output_type": "display_data",
          "data": {
            "text/html": [
              "<p style=\"color: red;\">\n",
              "The default version of TensorFlow in Colab will soon switch to TensorFlow 2.x.<br>\n",
              "We recommend you <a href=\"https://www.tensorflow.org/guide/migrate\" target=\"_blank\">upgrade</a> now \n",
              "or ensure your notebook will continue to use TensorFlow 1.x via the <code>%tensorflow_version 1.x</code> magic:\n",
              "<a href=\"https://colab.research.google.com/notebooks/tensorflow_version.ipynb\" target=\"_blank\">more info</a>.</p>\n"
            ],
            "text/plain": [
              "<IPython.core.display.HTML object>"
            ]
          },
          "metadata": {
            "tags": []
          }
        },
        {
          "output_type": "stream",
          "text": [
            "Using TensorFlow backend.\n",
            "/usr/local/lib/python3.6/dist-packages/sklearn/externals/six.py:31: FutureWarning: The module is deprecated in version 0.21 and will be removed in version 0.23 since we've dropped support for Python 2.7. Please rely on the official version of six (https://pypi.org/project/six/).\n",
            "  \"(https://pypi.org/project/six/).\", FutureWarning)\n",
            "/usr/local/lib/python3.6/dist-packages/sklearn/utils/deprecation.py:144: FutureWarning: The sklearn.neighbors.base module is  deprecated in version 0.22 and will be removed in version 0.24. The corresponding classes / functions should instead be imported from sklearn.neighbors. Anything that cannot be imported from sklearn.neighbors is now part of the private API.\n",
            "  warnings.warn(message, FutureWarning)\n",
            "/usr/local/lib/python3.6/dist-packages/sklearn/utils/deprecation.py:144: FutureWarning: The sklearn.utils.testing module is  deprecated in version 0.22 and will be removed in version 0.24. The corresponding classes / functions should instead be imported from sklearn.utils. Anything that cannot be imported from sklearn.utils is now part of the private API.\n",
            "  warnings.warn(message, FutureWarning)\n"
          ],
          "name": "stderr"
        }
      ]
    },
    {
      "cell_type": "markdown",
      "metadata": {
        "id": "UD3quBR4UFuF",
        "colab_type": "text"
      },
      "source": [
        "## Import dei dati"
      ]
    },
    {
      "cell_type": "code",
      "metadata": {
        "id": "j0cJUP3oUFuG",
        "colab_type": "code",
        "colab": {}
      },
      "source": [
        "X = np.load('/content/drive/My Drive/multi_task/X.npy')\n",
        "Y = np.load('/content/drive/My Drive/multi_task/Y.npy')\n",
        "X_test = np.load('/content/drive/My Drive/multi_task/X_test.npy')\n",
        "y_test = np.load('/content/drive/My Drive/multi_task/y_test.npy')"
      ],
      "execution_count": 0,
      "outputs": []
    },
    {
      "cell_type": "markdown",
      "metadata": {
        "id": "L6b_ey0GUFuK",
        "colab_type": "text"
      },
      "source": [
        "## Preprocessing"
      ]
    },
    {
      "cell_type": "code",
      "metadata": {
        "id": "iR8oa_4jUFuL",
        "colab_type": "code",
        "colab": {}
      },
      "source": [
        "opt = ks.optimizers.Nadam(lr=0.0001, beta_1=0.9, beta_2=0.999, schedule_decay=0.01)\n",
        "opt2 = SGD(lr=0.001, momentum=0.9, nesterov=True, decay=0.001) # lr = 0.01, decay=0.0001\n",
        "opt3 = ks.optimizers.RMSprop(lr=0.001, rho=0.9)\n",
        "opt4 = ks.optimizers.Adagrad(lr=0.01)\n",
        "opt5 = ks.optimizers.Adadelta(lr= 1.0, rho=0.95)\n",
        "opt6 = ks.optimizers.Adam(lr=0.00001, beta_1=0.9, beta_2=0.999, amsgrad=False)\n",
        "opt7 = ks.optimizers.Adamax(lr=0.002, beta_1=0.9, beta_2=0.999)"
      ],
      "execution_count": 0,
      "outputs": []
    },
    {
      "cell_type": "code",
      "metadata": {
        "id": "0Wc5CxsAUFuP",
        "colab_type": "code",
        "colab": {}
      },
      "source": [
        "Y = Y[:, 1:] #visto che sono tutti segnali, elimino la prima colonna (quella che dice se c'è o meno il segnale)    \n",
        "y_test = y_test[:, 1:]"
      ],
      "execution_count": 0,
      "outputs": []
    },
    {
      "cell_type": "code",
      "metadata": {
        "colab_type": "code",
        "id": "r0aEe25LV8SF",
        "colab": {}
      },
      "source": [
        "def random_noise(image_array):\n",
        "    # add random noise to the image\n",
        "    return sk.util.random_noise(image_array, var = 0.001)"
      ],
      "execution_count": 0,
      "outputs": []
    },
    {
      "cell_type": "code",
      "metadata": {
        "colab_type": "code",
        "id": "bmeKToqbV8SL",
        "colab": {}
      },
      "source": [
        "def augmentation(immagini, y):\n",
        "    inter = [cv2.INTER_NEAREST, cv2.INTER_LINEAR, cv2.INTER_LANCZOS4]\n",
        "    for i in range(0, immagini.shape[0]):\n",
        "        down = cv2.resize(immagini[i], (30,30), interpolation = random.choice(inter))\n",
        "        immagini[i] = cv2.resize(down, (40,40))\n",
        "        immagini[i] = random_noise(immagini[i])\n",
        "    return immagini, y"
      ],
      "execution_count": 0,
      "outputs": []
    },
    {
      "cell_type": "code",
      "metadata": {
        "id": "mt95tYxqWLcy",
        "colab_type": "code",
        "colab": {}
      },
      "source": [
        "X_train, y_train = shuffle(X,Y)"
      ],
      "execution_count": 0,
      "outputs": []
    },
    {
      "cell_type": "code",
      "metadata": {
        "id": "7yIQo8F7V1ZI",
        "colab_type": "code",
        "colab": {}
      },
      "source": [
        "#X_train, y_train = augmentation(X_train, y_train)"
      ],
      "execution_count": 0,
      "outputs": []
    },
    {
      "cell_type": "markdown",
      "metadata": {
        "id": "mSUpbjw6UFuX",
        "colab_type": "text"
      },
      "source": [
        "# Funzioni Utili"
      ]
    },
    {
      "cell_type": "code",
      "metadata": {
        "id": "l9TevDvYUFuY",
        "colab_type": "code",
        "colab": {}
      },
      "source": [
        "def new_draw_rect(img, bboxes):\n",
        "    x1 = bboxes[0]\n",
        "    y1 = bboxes[1]\n",
        "    x2 = bboxes[2]\n",
        "    y2 = bboxes[3]\n",
        "    new_bb = np.array([[x1, y1, x2, y2, 0]])\n",
        "    plt.imshow(draw_rect(img, new_bb))"
      ],
      "execution_count": 0,
      "outputs": []
    },
    {
      "cell_type": "code",
      "metadata": {
        "id": "23LuQyJQUFua",
        "colab_type": "code",
        "colab": {}
      },
      "source": [
        "def find_area(arr):\n",
        "    width = arr[2] - arr[0]\n",
        "    height = arr[1] - arr[3]\n",
        "    area = width * height\n",
        "    return area"
      ],
      "execution_count": 0,
      "outputs": []
    },
    {
      "cell_type": "code",
      "metadata": {
        "id": "IiAzjvvaUFud",
        "colab_type": "code",
        "colab": {}
      },
      "source": [
        "def run(bboxes1, bboxes2):\n",
        "    #https://github.com/venuktan/Intersection-Over-Union/blob/master/iou_benchmark.py\n",
        "    x11, y11, x12, y12 = tf.split(bboxes1, 4, axis=1)\n",
        "    x21, y21, x22, y22 = tf.split(bboxes2, 4, axis=1)\n",
        "    xA = tf.maximum(x11, tf.transpose(x21))\n",
        "    yA = tf.maximum(y11, tf.transpose(y21))\n",
        "    xB = tf.minimum(x12, tf.transpose(x22))\n",
        "    yB = tf.minimum(y12, tf.transpose(y22))\n",
        "    interArea = tf.maximum((xB - xA + 1), 0) * tf.maximum((yB - yA + 1), 0)\n",
        "    boxAArea = (x12 - x11 + 1) * (y12 - y11 + 1)\n",
        "    boxBArea = (x22 - x21 + 1) * (y22 - y21 + 1)\n",
        "    iou = interArea / ((boxAArea + tf.transpose(boxBArea) - interArea)+1)\n",
        "    return iou"
      ],
      "execution_count": 0,
      "outputs": []
    },
    {
      "cell_type": "code",
      "metadata": {
        "id": "6-bVJHX0UFug",
        "colab_type": "code",
        "colab": {}
      },
      "source": [
        "def get_iou(bb1, bb2):\n",
        "    \"\"\"\n",
        "    #https://stackoverflow.com/questions/25349178/calculating-percentage-of-bounding-box-overlap-for-image-detector-evaluation\n",
        "    Calculate the Intersection over Union (IoU) of two bounding boxes.\n",
        "    \n",
        "    Parameters\n",
        "    ----------\n",
        "    bb1 : dict\n",
        "        np.array (['x1', 'x2', 'y1', 'y2'])\n",
        "        The (x1, y1) position is at the top left corner,\n",
        "        the (x2, y2) position is at the bottom right corner\n",
        "    bb2 : dict\n",
        "        np.array (['x1', 'x2', 'y1', 'y2'])\n",
        "        The (x1, y1) position is at the top left corner,\n",
        "        the (x2, y2) position is at the bottom right corner\n",
        "\n",
        "    Returns\n",
        "    -------\n",
        "    float\n",
        "        in [0, 1]\n",
        "    \"\"\"\n",
        "    assert bb1[0] < bb1[2]\n",
        "    assert bb1[1] < bb1[3]\n",
        "    assert bb2[0] < bb2[2]\n",
        "    assert bb2[1] < bb2[3]\n",
        "        # determine the coordinates of the intersection rectangle\n",
        "    x_left = max(bb1[0], bb2[0])\n",
        "    y_top = max(bb1[1], bb2[1])\n",
        "    x_right = min(bb1[2], bb2[2])\n",
        "    y_bottom = min(bb1[3], bb2[3])\n",
        "\n",
        "    if x_right < x_left or y_bottom < y_top:\n",
        "        return 0.0\n",
        "    \n",
        "    # The intersection of two axis-aligned bounding boxes is always an\n",
        "    # axis-aligned bounding box\n",
        "    intersection_area = (x_right - x_left) * (y_bottom - y_top)\n",
        "\n",
        "    # compute the area of both AABBs\n",
        "    bb1_area = (bb1[2] - bb1[0]) * (bb1[3] - bb1[1])\n",
        "    bb2_area = (bb2[2] - bb2[0]) * (bb2[3] - bb2[1])\n",
        "    \n",
        "    # compute the intersection over union by taking the intersection\n",
        "    # area and dividing it by the sum of prediction + ground-truth\n",
        "    # areas - the interesection area\n",
        "    iou = intersection_area / float(bb1_area + bb2_area - intersection_area)\n",
        "    assert iou >= 0.0\n",
        "    assert iou <= 1.0\n",
        "    return iou"
      ],
      "execution_count": 0,
      "outputs": []
    },
    {
      "cell_type": "code",
      "metadata": {
        "id": "1O_ZSDYJUFuj",
        "colab_type": "code",
        "colab": {}
      },
      "source": [
        "def iou_loss(y_true, y_pred):\n",
        "    iou = run(y_true, y_pred)\n",
        "    return 1/(iou + 1) #compreso tra 1/2 e 1"
      ],
      "execution_count": 0,
      "outputs": []
    },
    {
      "cell_type": "code",
      "metadata": {
        "id": "XgLtHjndUFu3",
        "colab_type": "code",
        "colab": {}
      },
      "source": [
        "def custom_balance(immagini, segnale, bbox):\n",
        "    rus = RandomUnderSampler(return_indices=True)\n",
        "    X_resampled, y_resampled, indexes = rus.fit_sample(immagini.reshape(immagini.shape[0], immagini.shape[1]*immagini.shape[2]*immagini.shape[3]), np.argmax(segnale, axis = 1))     \n",
        "    X_resampled = X_resampled.reshape(X_resampled.shape[0], immagini.shape[1], immagini.shape[2], immagini.shape[3])\n",
        "    y_resampled = np_utils.to_categorical(y_resampled, num_classes=43)\n",
        "    #y_resampled = np.concatenate([y_resampled, bbox[indexes]], axis = 1)\n",
        "    return(X_resampled, y_resampled[:,0:43])# y_resampled[:,43:]]"
      ],
      "execution_count": 0,
      "outputs": []
    },
    {
      "cell_type": "code",
      "metadata": {
        "id": "qYW_zrmiUFu8",
        "colab_type": "code",
        "colab": {}
      },
      "source": [
        "def balanced_flow_from_directory(train_gen):\n",
        "    while(True):\n",
        "        immagini, y = next(train_gen)\n",
        "        yield custom_balance(immagini, y[:,0:43], y[:,43:])"
      ],
      "execution_count": 0,
      "outputs": []
    },
    {
      "cell_type": "markdown",
      "metadata": {
        "id": "4_CswfKLWkIt",
        "colab_type": "text"
      },
      "source": [
        "## TL MODELLO"
      ]
    },
    {
      "cell_type": "code",
      "metadata": {
        "id": "gRgf7zxxVEg8",
        "colab_type": "code",
        "colab": {}
      },
      "source": [
        "from keras.preprocessing import image as kimage\n",
        "from keras.preprocessing import image as kimage\n",
        "from keras.applications.resnet import  ResNet50\n",
        "from keras.applications import resnet\n",
        "from keras.applications import resnet_v2\n",
        "from keras.applications import ResNet50V2\n",
        "train_img_pro = kimage.ImageDataGenerator(preprocessing_function=resnet_v2.preprocess_input)"
      ],
      "execution_count": 0,
      "outputs": []
    },
    {
      "cell_type": "code",
      "metadata": {
        "id": "G0HjcJYIVT_S",
        "colab_type": "code",
        "colab": {}
      },
      "source": [
        "train_generator_flow = train_img_pro.flow((X_train, y_train), \n",
        "                    batch_size=1500,\n",
        "                    shuffle=True #riordino i dati in maniera casuale\n",
        "                    )      \n",
        "train_generator_bal = balanced_flow_from_directory(train_generator_flow)"
      ],
      "execution_count": 0,
      "outputs": []
    },
    {
      "cell_type": "code",
      "metadata": {
        "id": "0wVDGinAWoVO",
        "colab_type": "code",
        "colab": {}
      },
      "source": [
        "base_net = ResNet50V2(input_shape=(40,40,3),\n",
        "                         include_top=False, #ignorare l'ultimo fully connected\n",
        "                         weights='imagenet', #pesi ottimizzati su imagenet\n",
        "                         pooling='avg')"
      ],
      "execution_count": 0,
      "outputs": []
    },
    {
      "cell_type": "code",
      "metadata": {
        "id": "Yo6Ge6frWoSU",
        "colab_type": "code",
        "colab": {}
      },
      "source": [
        "for layer in base_net.layers:\n",
        "  layer.trainable = False #Blocchiamo tutti i livelli della rete e non alleniamoli"
      ],
      "execution_count": 0,
      "outputs": []
    },
    {
      "cell_type": "code",
      "metadata": {
        "id": "V8phN-m4r2L8",
        "colab_type": "code",
        "colab": {}
      },
      "source": [
        "#base_net = Model(model.input, model.output) #[-9]"
      ],
      "execution_count": 0,
      "outputs": []
    },
    {
      "cell_type": "code",
      "metadata": {
        "id": "NKiA6phdsABM",
        "colab_type": "code",
        "colab": {}
      },
      "source": [
        "#base_net.summary()"
      ],
      "execution_count": 0,
      "outputs": []
    },
    {
      "cell_type": "code",
      "metadata": {
        "id": "rlEsvEVuWoO6",
        "colab_type": "code",
        "colab": {}
      },
      "source": [
        "base_net = Model(base_net.input, base_net.layers[-30].output) #[-9]\n",
        "x = base_net.output\n",
        "#x = Conv2D(filters = 512, strides=1, kernel_size=1)(x)\n",
        "x = Flatten()(x)\n",
        "x = Dense(1024, activation = 'relu')(x)\n",
        "x = Dense(512, activation = 'relu')(x)\n",
        "x_1 = Dense(256, activation = 'relu')(x)\n",
        "#x_1 = Dropout(0.3)(x_1)\n",
        "output1 = Dense(43, activation = 'softmax', name = 'classificazione') (x_1)\n",
        "#x_2 = Dense(256, activation = 'relu')(x)\n",
        "#x_2 = Dropout(0.3)(x_2)\n",
        "#output2 = Dense(4, activation='linear', name = 'regressione')(x_2)\n",
        "net = Model(inputs=base_net.input, outputs = output1)"
      ],
      "execution_count": 0,
      "outputs": []
    },
    {
      "cell_type": "code",
      "metadata": {
        "id": "0gZRNbalxuMY",
        "colab_type": "code",
        "colab": {}
      },
      "source": [
        "opt = ks.optimizers.Nadam(lr=0.0001, beta_1=0.9, beta_2=0.999, schedule_decay=0.01)\n",
        "opt2 = SGD(lr=0.001, momentum=0.9, nesterov=True, decay=0.001) # lr = 0.01, decay=0.0001\n",
        "opt3 = ks.optimizers.RMSprop(lr=0.001, rho=0.9)\n",
        "opt4 = ks.optimizers.Adagrad(lr=0.01)\n",
        "opt5 = ks.optimizers.Adadelta(lr= 1.0, rho=0.95)\n",
        "opt6 = ks.optimizers.Adam(lr=0.00001, beta_1=0.9, beta_2=0.999, amsgrad=False)\n",
        "opt7 = ks.optimizers.Adamax(lr=0.002, beta_1=0.9, beta_2=0.999)"
      ],
      "execution_count": 0,
      "outputs": []
    },
    {
      "cell_type": "code",
      "metadata": {
        "id": "GK-6ftjq0i0x",
        "colab_type": "code",
        "colab": {}
      },
      "source": [
        "net.compile(loss = 'categorical_crossentropy', optimizer=opt2, metrics = {'classificazione':'accuracy'}) "
      ],
      "execution_count": 0,
      "outputs": []
    },
    {
      "cell_type": "code",
      "metadata": {
        "id": "HbpEjKM4yJ8J",
        "colab_type": "code",
        "colab": {}
      },
      "source": [
        "#net.save_weights(\"/content/drive/My Drive/Pesi_modelli/pesi_class_segnali.hdf5\")"
      ],
      "execution_count": 0,
      "outputs": []
    },
    {
      "cell_type": "code",
      "metadata": {
        "id": "cd2M07Hb0nhF",
        "colab_type": "code",
        "colab": {}
      },
      "source": [
        "from keras.callbacks import History\n",
        "import warnings\n",
        "import warnings\n",
        "warnings.simplefilter(action='ignore', category=FutureWarning)\n",
        "history = History()\n",
        "net.fit_generator(train_generator_bal, epochs = 200, callbacks=[history], steps_per_epoch= 100) #150"
      ],
      "execution_count": 0,
      "outputs": []
    },
    {
      "cell_type": "code",
      "metadata": {
        "id": "GXbH5zSuXpJt",
        "colab_type": "code",
        "colab": {}
      },
      "source": [
        "#net.save_weights(\"/content/drive/My Drive/Pesi_modelli/pesi_class_segnali.hdf5\")"
      ],
      "execution_count": 0,
      "outputs": []
    },
    {
      "cell_type": "code",
      "metadata": {
        "id": "i1wsHMiDAWUH",
        "colab_type": "code",
        "colab": {}
      },
      "source": [
        "prova = resnet_v2.preprocess_input(X_train)"
      ],
      "execution_count": 0,
      "outputs": []
    },
    {
      "cell_type": "code",
      "metadata": {
        "id": "08-1Hg2ZARX7",
        "colab_type": "code",
        "colab": {}
      },
      "source": [
        "prediz = net.predict(prova)"
      ],
      "execution_count": 0,
      "outputs": []
    },
    {
      "cell_type": "code",
      "metadata": {
        "id": "7nrE3dtNA5pU",
        "colab_type": "code",
        "outputId": "92e689cc-40da-4728-b875-9fee72628ce9",
        "colab": {
          "base_uri": "https://localhost:8080/",
          "height": 34
        }
      },
      "source": [
        "from sklearn.metrics import accuracy_score\n",
        "accuracy_score(y_train[:,:43].argmax(axis = -1),prediz.argmax(axis = -1))"
      ],
      "execution_count": 0,
      "outputs": [
        {
          "output_type": "execute_result",
          "data": {
            "text/plain": [
              "0.38994873625953225"
            ]
          },
          "metadata": {
            "tags": []
          },
          "execution_count": 110
        }
      ]
    },
    {
      "cell_type": "code",
      "metadata": {
        "id": "LvxRnrKgXpHP",
        "colab_type": "code",
        "colab": {}
      },
      "source": [
        "diz = history.history"
      ],
      "execution_count": 0,
      "outputs": []
    },
    {
      "cell_type": "code",
      "metadata": {
        "id": "lfY-YW7FXpEd",
        "colab_type": "code",
        "colab": {}
      },
      "source": [
        "import json\n",
        "#with open('/content/drive/My Drive/Pesi_modelli/history1.txt', 'w') as file:\n",
        "     #file.write(json.dumps(diz)) # use `json.loads` to do the reverse"
      ],
      "execution_count": 0,
      "outputs": []
    },
    {
      "cell_type": "code",
      "metadata": {
        "id": "hBbTqDwd2DrN",
        "colab_type": "code",
        "colab": {}
      },
      "source": [
        "import os\n",
        "import skimage.io as io\n",
        "from PIL import Image\n",
        "import re\n",
        "X = []\n",
        "Y = []\n",
        "conteggio = []\n",
        "i = 0 \n",
        "path = r\"/content/drive/My Drive/Dataset/dataset_classificazione_multiclasse_creato_da_noi/\"\n",
        "Class=os.listdir(path)\n",
        "for a in Class:\n",
        "    new_path = path+a\n",
        "    class_2 = os.listdir(new_path)\n",
        "    for j in class_2: \n",
        "        image = io.imread(path+a+\"/\"+j)\n",
        "        imResize = cv2.resize(image,(40,40))\n",
        "        #image_from_array = Image.fromarray(image, 'RGB')\n",
        "        X.append(np.asarray(imResize))\n",
        "        Y.append(int(re.search('(^\\d+)',a).group(1)))\n",
        "      #train = np.concatenate([train,np.expand_dims(np.asarray(image), axis = 0)], axis = 0)\n",
        "      #train_labels = np.concatenate([train_labels,np.array([a])], axis = 0)"
      ],
      "execution_count": 0,
      "outputs": []
    },
    {
      "cell_type": "code",
      "metadata": {
        "id": "4RaRF8TT31fE",
        "colab_type": "code",
        "colab": {}
      },
      "source": [
        "X_inference = resnet_v2.preprocess_input(np.array(X))\n",
        "y_inference = np_utils.to_categorical(Y)"
      ],
      "execution_count": 0,
      "outputs": []
    },
    {
      "cell_type": "code",
      "metadata": {
        "id": "Es3eQ6SwChME",
        "colab_type": "code",
        "colab": {}
      },
      "source": [
        "prediction = net.predict(X_inference)"
      ],
      "execution_count": 0,
      "outputs": []
    },
    {
      "cell_type": "code",
      "metadata": {
        "id": "rX48ptvYCkd_",
        "colab_type": "code",
        "outputId": "f1ae5196-61ca-4d06-e03c-222ff7e84e61",
        "colab": {
          "base_uri": "https://localhost:8080/",
          "height": 34
        }
      },
      "source": [
        "from sklearn.metrics import accuracy_score\n",
        "accuracy_score(y_inference.argmax(axis = -1),prediction.argmax(axis = -1))"
      ],
      "execution_count": 0,
      "outputs": [
        {
          "output_type": "execute_result",
          "data": {
            "text/plain": [
              "0.3225806451612903"
            ]
          },
          "metadata": {
            "tags": []
          },
          "execution_count": 116
        }
      ]
    }
  ]
}
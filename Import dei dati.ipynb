{
 "cells": [
  {
   "cell_type": "code",
   "execution_count": 2,
   "metadata": {
    "scrolled": true
   },
   "outputs": [],
   "source": [
    "import numpy as np\n",
    "import pandas as pd\n",
    "import matplotlib.pyplot as plt\n",
    "import cv2\n",
    "from PIL import Image\n",
    "import os\n",
    "import keras as ks\n",
    "from keras.preprocessing import image as kimage\n",
    "import skimage.io as io\n",
    "import random\n",
    "import sys\n",
    "import pickle as pkl\n",
    "from imblearn.keras import BalancedBatchGenerator\n",
    "from keras.utils import np_utils\n",
    "lib_path = os.path.join(os.path.realpath(r\"C:\\Users\\Giobi\\OneDrive - Universita degli Studi di Milano-Bicocca\\Digital Signal and Image Management\\Progetto Segnali Stradali\\DataAugmentationForObjectDetection-master\"), \"data_aug\")\n",
    "sys.path.append(lib_path)\n",
    "from bbox_util import *\n",
    "from data_aug import *\n",
    "from imblearn.under_sampling import NearMiss\n",
    "from sklearn.model_selection import train_test_split\n",
    "from keras.models import Sequential\n",
    "from keras.models import Model\n",
    "from keras.layers import Input, Dense, Flatten, Reshape, MaxPooling2D, Conv2D\n",
    "from keras.layers import Activation, Dense, Dropout, BatchNormalization, LeakyReLU\n",
    "from keras.optimizers import SGD\n",
    "from sklearn.metrics import confusion_matrix\n",
    "from sklearn.metrics import classification_report\n",
    "from imblearn.under_sampling import RandomUnderSampler"
   ]
  },
  {
   "cell_type": "code",
   "execution_count": 2,
   "metadata": {},
   "outputs": [],
   "source": [
    "df_tr = pd.read_csv('Train.csv')\n",
    "df_tst = pd.read_csv('Test.csv')\n",
    "df_tr_aug = pd.read_csv('Train_aug.csv')"
   ]
  },
  {
   "cell_type": "code",
   "execution_count": 3,
   "metadata": {},
   "outputs": [],
   "source": [
    "def new_coordinates(measure, roi):\n",
    "    roi_new = roi*40/measure\n",
    "    return roi_new"
   ]
  },
  {
   "cell_type": "markdown",
   "metadata": {},
   "source": [
    "Creo le colonne x1, x2, y1, y2 che sono i rispettivi Roi riparametrizzati per le immagini 40*40"
   ]
  },
  {
   "cell_type": "code",
   "execution_count": 4,
   "metadata": {},
   "outputs": [],
   "source": [
    "df_tr['x1'] = df_tr.apply(lambda x: new_coordinates(x['Width'], x['Roi.X1']), axis=1)\n",
    "df_tr['x2'] = df_tr.apply(lambda x: new_coordinates(x['Width'], x['Roi.X2']), axis=1)\n",
    "df_tr['y1'] = df_tr.apply(lambda x: new_coordinates(x['Height'], x['Roi.Y1']), axis=1)\n",
    "df_tr['y2'] = df_tr.apply(lambda x: new_coordinates(x['Height'], x['Roi.Y2']), axis=1)"
   ]
  },
  {
   "cell_type": "code",
   "execution_count": 5,
   "metadata": {},
   "outputs": [
    {
     "data": {
      "image/png": "[encoded data removed]",
      "text/plain": [
       "<Figure size 432x288 with 1 Axes>"
      ]
     },
     "metadata": {
      "needs_background": "light"
     },
     "output_type": "display_data"
    }
   ],
   "source": [
    "#ORIGINALE\n",
    "im = io.imread('Train/20/00020_00000_00001.png')\n",
    "plt.plot(5,6, 'bo')\n",
    "plt.plot(23,22, 'bo')\n",
    "plt.imshow(im); plt.show()"
   ]
  },
  {
   "cell_type": "code",
   "execution_count": 25,
   "metadata": {
    "scrolled": true
   },
   "outputs": [
    {
     "data": {
      "image/png": "[encoded data removed]",
      "text/plain": [
       "<Figure size 432x288 with 1 Axes>"
      ]
     },
     "metadata": {
      "needs_background": "light"
     },
     "output_type": "display_data"
    }
   ],
   "source": [
    "#RESIZED\n",
    "im = io.imread('Train_resized/20/00020_00000_00001.jpeg')\n",
    "plt.plot(7.142857,8.888889, 'bo')\n",
    "plt.plot(32.857143,32.592593, 'bo')\n",
    "plt.imshow(im); plt.show()"
   ]
  },
  {
   "cell_type": "code",
   "execution_count": 37,
   "metadata": {},
   "outputs": [],
   "source": [
    "transforms = Sequence([RandomShear(0.25)]) #RandomRotate(20), RandomScale(0.2, diff = True), RandomShear(0.25)"
   ]
  },
  {
   "cell_type": "code",
   "execution_count": 38,
   "metadata": {},
   "outputs": [],
   "source": [
    "img, bboxes = transforms(im, np.array([[7.1, 8.8, 32.8, 32.6, 0]])) #alla fine non so perchè mette lo zero ( o l'uno)"
   ]
  },
  {
   "cell_type": "code",
   "execution_count": 39,
   "metadata": {},
   "outputs": [
    {
     "data": {
      "text/plain": [
       "<matplotlib.image.AxesImage at 0x278408e78d0>"
      ]
     },
     "execution_count": 39,
     "metadata": {},
     "output_type": "execute_result"
    },
    {
     "data": {
      "image/png": "[encoded data removed]",
      "text/plain": [
       "<Figure size 432x288 with 1 Axes>"
      ]
     },
     "metadata": {
      "needs_background": "light"
     },
     "output_type": "display_data"
    }
   ],
   "source": [
    "plt.imshow(draw_rect(img, bboxes))"
   ]
  },
  {
   "cell_type": "markdown",
   "metadata": {},
   "source": [
    "## Creo le immagini con data agumentation"
   ]
  },
  {
   "cell_type": "code",
   "execution_count": 14,
   "metadata": {},
   "outputs": [
    {
     "name": "stdout",
     "output_type": "stream",
     "text": [
      "folder number: 0\n",
      "folder number: 1\n",
      "folder number: 10\n",
      "folder number: 11\n",
      "folder number: 12\n",
      "folder number: 13\n",
      "folder number: 14\n",
      "folder number: 15\n",
      "folder number: 16\n",
      "folder number: 17\n",
      "folder number: 18\n",
      "folder number: 19\n",
      "folder number: 2\n",
      "folder number: 20\n",
      "folder number: 21\n",
      "folder number: 22\n",
      "folder number: 23\n",
      "folder number: 24\n",
      "folder number: 25\n",
      "folder number: 26\n",
      "folder number: 27\n",
      "folder number: 28\n",
      "folder number: 29\n",
      "folder number: 3\n",
      "folder number: 30\n",
      "folder number: 31\n",
      "folder number: 32\n",
      "folder number: 33\n",
      "folder number: 34\n",
      "folder number: 35\n",
      "folder number: 36\n",
      "folder number: 37\n",
      "folder number: 38\n",
      "folder number: 39\n",
      "folder number: 4\n",
      "folder number: 40\n",
      "folder number: 41\n",
      "folder number: 42\n",
      "folder number: 5\n",
      "folder number: 6\n",
      "folder number: 7\n",
      "folder number: 8\n",
      "folder number: 9\n"
     ]
    }
   ],
   "source": [
    "diz = {}\n",
    "conta = 0\n",
    "directory = r'C:\\Users\\Giobi\\OneDrive - Universita degli Studi di Milano-Bicocca\\Digital Signal and Image Management\\Progetto Segnali Stradali\\Train_resized'     \n",
    "out_directory = r'C:\\Users\\Giobi\\OneDrive - Universita degli Studi di Milano-Bicocca\\Digital Signal and Image Management\\Progetto Segnali Stradali\\Train_resized_aug'  \n",
    "for file_number in os.listdir(directory):\n",
    "    print('folder number: '+ str(file_number))\n",
    "    for img in os.listdir(directory+'\\\\' + file_number):\n",
    "        d = {}\n",
    "        im = Image.open(directory+ '\\\\' + file_number + '\\\\' + img)\n",
    "        im_name = 'Train' + '/' + file_number + '/' + img\n",
    "        arr_imm = np.array(im)\n",
    "        rx1 = float(df_tr[df_tr['Path'] == im_name.replace('jpeg', 'png')]['x1'])\n",
    "        rx2 = float(df_tr[df_tr['Path'] == im_name.replace('jpeg', 'png')]['x2'])\n",
    "        ry1 = float(df_tr[df_tr['Path'] == im_name.replace('jpeg', 'png')]['y1'])\n",
    "        ry2 = float(df_tr[df_tr['Path'] == im_name.replace('jpeg', 'png')]['y2'])\n",
    "        clss = int(df_tr[df_tr['Path'] == im_name.replace('jpeg', 'png')]['ClassId'])\n",
    "        d['rx1'] = rx1\n",
    "        d['rx2'] = rx2\n",
    "        d['ry1'] = ry1\n",
    "        d['ry2'] = ry2\n",
    "        d['class'] = clss\n",
    "        diz['Train_resized_aug' + '/' + file_number + '/' + img] = d\n",
    "        img_aug, bboxes = transforms(arr_imm, np.array([[rx1, ry1, rx2, ry2, 0]]))\n",
    "        Image.fromarray(img_aug).save(out_directory + '\\\\' + file_number + '\\\\' + img.replace(\".jpeg\", \"\") + '_aug' + '.jpeg', 'JPEG', quality=100)\n",
    "        d = {}\n",
    "        d['rx1'] = bboxes[0][0]\n",
    "        d['ry1'] = bboxes[0][1]\n",
    "        d['rx2'] = bboxes[0][2]\n",
    "        d['ry2'] = bboxes[0][3]    \n",
    "        d['class'] = clss\n",
    "        im_name2 = 'Train_resized_aug' + '/' + file_number + '/' + img.replace(\".jpeg\", \"\") + '_aug' + '.jpeg'\n",
    "        #print(im_name2)\n",
    "        diz[im_name2] = d\n",
    "    conta = conta + 1\n",
    "    #if conta > 1:\n",
    "        #break"
   ]
  },
  {
   "cell_type": "code",
   "execution_count": 15,
   "metadata": {},
   "outputs": [],
   "source": [
    "#df_aug = pd.DataFrame.from_dict(diz, orient='index')"
   ]
  },
  {
   "cell_type": "code",
   "execution_count": 23,
   "metadata": {},
   "outputs": [],
   "source": [
    "#df_aug['Path']=df_aug.index"
   ]
  },
  {
   "cell_type": "code",
   "execution_count": 24,
   "metadata": {},
   "outputs": [],
   "source": [
    "#df_aug.to_csv('Train_aug.csv', index = False)"
   ]
  },
  {
   "cell_type": "markdown",
   "metadata": {},
   "source": [
    "## Importo le immagini e creo i vettori di train e test"
   ]
  },
  {
   "cell_type": "code",
   "execution_count": 30,
   "metadata": {},
   "outputs": [
    {
     "name": "stdout",
     "output_type": "stream",
     "text": [
      "43\n",
      "43\n",
      "43\n",
      "43\n",
      "43\n",
      "43\n",
      "43\n",
      "43\n",
      "43\n",
      "43\n",
      "43\n",
      "43\n",
      "43\n",
      "43\n",
      "43\n",
      "43\n",
      "43\n",
      "43\n",
      "43\n",
      "43\n",
      "43\n",
      "43\n",
      "43\n",
      "43\n",
      "43\n",
      "43\n",
      "43\n",
      "43\n",
      "43\n",
      "43\n",
      "43\n",
      "43\n",
      "43\n",
      "43\n",
      "43\n",
      "43\n",
      "43\n",
      "43\n",
      "43\n",
      "43\n",
      "43\n",
      "43\n",
      "43\n"
     ]
    }
   ],
   "source": [
    "data=[]\n",
    "labels=[]\n",
    "y_plus = np.array([[0.,0.,0.,0.]], float) # eliminerò questa riga, mi serve per la dimensione\n",
    "\n",
    "height = 40\n",
    "width = 40\n",
    "channels = 3\n",
    "classes = 43\n",
    "n_inputs = height * width * channels\n",
    "for i in range(0,classes):\n",
    "    print(classes)\n",
    "    path = \"Train_resized_aug/{0}/\".format(i)\n",
    "    Class=os.listdir(path)\n",
    "    for a in Class:\n",
    "        rx1 = df_tr_aug[df_tr_aug['Path']==path+a]['rx1']\n",
    "        rx2 = df_tr_aug[df_tr_aug['Path']==path+a]['rx2']\n",
    "        ry1 = df_tr_aug[df_tr_aug['Path']==path+a]['ry1']\n",
    "        ry2 = df_tr_aug[df_tr_aug['Path']==path+a]['ry2']\n",
    "        clss = df_tr_aug[df_tr_aug['Path']==path+a]['class']\n",
    "        image=io.imread(path+a)\n",
    "        #image_from_array = Image.fromarray(image)\n",
    "        #size_image = image_from_array.resize((height, width))\n",
    "        data.append(image)\n",
    "        labels.append(int(clss))\n",
    "        y_i = np.array([float(rx1), float(ry1), float(rx2), float(ry2)]).transpose()\n",
    "        y_plus = np.vstack((y_plus, y_i))"
   ]
  },
  {
   "cell_type": "code",
   "execution_count": 31,
   "metadata": {},
   "outputs": [],
   "source": [
    "X = np.array(data)"
   ]
  },
  {
   "cell_type": "code",
   "execution_count": 32,
   "metadata": {},
   "outputs": [],
   "source": [
    "Y = np.array(labels)"
   ]
  },
  {
   "cell_type": "code",
   "execution_count": 33,
   "metadata": {},
   "outputs": [],
   "source": [
    "Y_cat = ks.utils.to_categorical(Y)"
   ]
  },
  {
   "cell_type": "code",
   "execution_count": 34,
   "metadata": {},
   "outputs": [],
   "source": [
    "y_plus = y_plus[1:,:]"
   ]
  },
  {
   "cell_type": "code",
   "execution_count": 35,
   "metadata": {},
   "outputs": [],
   "source": [
    "Y = np.concatenate([Y_cat, y_plus], axis = 1)"
   ]
  },
  {
   "cell_type": "code",
   "execution_count": 36,
   "metadata": {},
   "outputs": [],
   "source": [
    "Y = np.concatenate([np.expand_dims(np.ones(78418), axis = 1), Y], axis = 1)"
   ]
  },
  {
   "cell_type": "markdown",
   "metadata": {},
   "source": [
    "L'array y_train ha i seguenti valori:\n",
    "- è un segnale? si = 1, no = 0 (binaria)\n",
    "- 0...43 classi\n",
    "- rx1\n",
    "- rx2\n",
    "- ry1\n",
    "- ry2"
   ]
  },
  {
   "cell_type": "code",
   "execution_count": 37,
   "metadata": {},
   "outputs": [],
   "source": [
    "np.save('X', X)\n",
    "np.save('Y', Y)"
   ]
  },
  {
   "cell_type": "code",
   "execution_count": 20,
   "metadata": {},
   "outputs": [],
   "source": [
    "data_test=[]\n",
    "labels_test=[]\n",
    "path = \"Test_resized/\"\n",
    "Class=os.listdir(path)\n",
    "y_plus = np.array([[0.,0.,0.,0.]], float) # eliminerò questa riga, mi serve per la dimensione\n",
    "\n",
    "for i in Class:\n",
    "    image=io.imread(path+i)\n",
    "    #image_from_array = Image.fromarray(image)\n",
    "    data_test.append(image)\n",
    "    im_name = 'Test/' + i\n",
    "    im_name = im_name.replace(\"jpeg\", \"png\")\n",
    "    rx1 = float(df_tst[df_tst['Path']==im_name]['Roi.X1'])\n",
    "    rx2 = float(df_tst[df_tst['Path']==im_name]['Roi.X2'])\n",
    "    ry1 = float(df_tst[df_tst['Path']==im_name]['Roi.Y1'])\n",
    "    ry2 = float(df_tst[df_tst['Path']==im_name]['Roi.Y2'])\n",
    "    clss = int(df_tst[df_tst['Path']== im_name]['ClassId'])\n",
    "    labels_test.append(int(clss))\n",
    "    y_i = np.array([float(rx1), float(ry1), float(rx2), float(ry2)]).transpose()\n",
    "    y_plus = np.vstack((y_plus, y_i))"
   ]
  },
  {
   "cell_type": "code",
   "execution_count": 21,
   "metadata": {},
   "outputs": [],
   "source": [
    "X_test = np.array(data_test)"
   ]
  },
  {
   "cell_type": "code",
   "execution_count": 22,
   "metadata": {},
   "outputs": [],
   "source": [
    "Y_test = np.array(labels_test)"
   ]
  },
  {
   "cell_type": "code",
   "execution_count": 23,
   "metadata": {},
   "outputs": [],
   "source": [
    "Y_test_cat = ks.utils.to_categorical(Y_test)\n",
    "y_plus = y_plus[1:,:]\n",
    "y_test = np.concatenate([Y_test_cat, y_plus], axis = 1)\n",
    "y_test = np.concatenate([np.expand_dims(np.ones(12630), axis = 1), y_test], axis = 1)"
   ]
  },
  {
   "cell_type": "code",
   "execution_count": 24,
   "metadata": {},
   "outputs": [],
   "source": [
    "np.save('X_test', X_test)\n",
    "np.save('y_test', y_test)"
   ]
  },
  {
   "cell_type": "markdown",
   "metadata": {},
   "source": [
    "Importo le immagini che non corrispondono a segnali"
   ]
  },
  {
   "cell_type": "code",
   "execution_count": 41,
   "metadata": {},
   "outputs": [],
   "source": [
    "data_ns=[]\n",
    "path = \"Google_CRCV_dataset_40_40/\"\n",
    "Class=os.listdir(path)\n",
    "for i in Class:\n",
    "    image=io.imread(path+i)\n",
    "    data_ns.append(image)"
   ]
  },
  {
   "cell_type": "code",
   "execution_count": 42,
   "metadata": {},
   "outputs": [],
   "source": [
    "not_signals = np.array(data_ns)"
   ]
  },
  {
   "cell_type": "code",
   "execution_count": 62,
   "metadata": {},
   "outputs": [],
   "source": [
    "data_ns=[]\n",
    "path = \"Google_CRCV_dataset_40_40_test/\"\n",
    "Class=os.listdir(path)\n",
    "for i in Class:\n",
    "    image=io.imread(path+i)\n",
    "    data_ns.append(image)"
   ]
  },
  {
   "cell_type": "code",
   "execution_count": 63,
   "metadata": {},
   "outputs": [],
   "source": [
    "not_signals_test = np.array(data_ns)"
   ]
  },
  {
   "cell_type": "markdown",
   "metadata": {},
   "source": [
    "## Creo gli esempi (di non segnali) prendendo dei crop dai segnali"
   ]
  },
  {
   "cell_type": "code",
   "execution_count": null,
   "metadata": {},
   "outputs": [],
   "source": [
    "Image.open(\"test.jpg\")"
   ]
  },
  {
   "cell_type": "code",
   "execution_count": 8,
   "metadata": {},
   "outputs": [],
   "source": [
    "image=Image.open(r'C:\\Users\\Giobi\\OneDrive - Universita degli Studi di Milano-Bicocca\\Digital Signal and Image Management\\Progetto Segnali Stradali\\Train_resized\\0\\00000_00000_00000.jpeg')"
   ]
  },
  {
   "cell_type": "code",
   "execution_count": 119,
   "metadata": {},
   "outputs": [],
   "source": [
    "def random_crop(image):\n",
    "    left_min = 0 \n",
    "    left_max = np.array(image).shape[0]-13\n",
    "    top_min = 0\n",
    "    top_max = np.array(image).shape[1]-13\n",
    "    left = random.randint(left_min, left_max)\n",
    "    top = random.randint(top_min, top_max)\n",
    "    right = left + 12\n",
    "    bottom = top + 12\n",
    "    im1 = image.crop((left, top, right, bottom))\n",
    "    return im1"
   ]
  },
  {
   "cell_type": "code",
   "execution_count": 120,
   "metadata": {},
   "outputs": [],
   "source": [
    "cropped_im = random_crop(image)"
   ]
  },
  {
   "cell_type": "code",
   "execution_count": 121,
   "metadata": {},
   "outputs": [],
   "source": [
    "resize_methods = [Image.BICUBIC, Image.NEAREST]"
   ]
  },
  {
   "cell_type": "code",
   "execution_count": 122,
   "metadata": {},
   "outputs": [],
   "source": [
    "im_res= cropped_im.resize((40, 40), random.choice(resize_methods))"
   ]
  },
  {
   "cell_type": "code",
   "execution_count": 127,
   "metadata": {},
   "outputs": [
    {
     "name": "stdout",
     "output_type": "stream",
     "text": [
      "folder number: 0\n",
      "folder number: 1\n",
      "folder number: 10\n",
      "folder number: 11\n",
      "folder number: 12\n",
      "folder number: 13\n",
      "folder number: 14\n",
      "folder number: 15\n",
      "folder number: 16\n",
      "folder number: 17\n",
      "folder number: 18\n",
      "folder number: 19\n",
      "folder number: 2\n",
      "folder number: 20\n",
      "folder number: 21\n",
      "folder number: 22\n",
      "folder number: 23\n",
      "folder number: 24\n",
      "folder number: 25\n",
      "folder number: 26\n",
      "folder number: 27\n",
      "folder number: 28\n",
      "folder number: 29\n",
      "folder number: 3\n",
      "folder number: 30\n",
      "folder number: 31\n",
      "folder number: 32\n",
      "folder number: 33\n",
      "folder number: 34\n",
      "folder number: 35\n",
      "folder number: 36\n",
      "folder number: 37\n",
      "folder number: 38\n",
      "folder number: 39\n",
      "folder number: 4\n",
      "folder number: 40\n",
      "folder number: 41\n",
      "folder number: 42\n",
      "folder number: 5\n",
      "folder number: 6\n",
      "folder number: 7\n",
      "folder number: 8\n",
      "folder number: 9\n"
     ]
    }
   ],
   "source": [
    "resize_methods = [Image.BICUBIC, Image.NEAREST]\n",
    "directory = r'C:\\Users\\Giobi\\OneDrive - Universita degli Studi di Milano-Bicocca\\Digital Signal and Image Management\\Progetto Segnali Stradali\\Train_resized'     \n",
    "out_directory = r'C:\\Users\\Giobi\\OneDrive - Universita degli Studi di Milano-Bicocca\\Digital Signal and Image Management\\Progetto Segnali Stradali\\crop_segnali'  \n",
    "for file_number in os.listdir(directory):\n",
    "    print('folder number: '+ str(file_number))\n",
    "    for img in os.listdir(directory+'\\\\' + file_number):\n",
    "        im = Image.open(directory+ '\\\\' + file_number + '\\\\' + img)\n",
    "        cropped_im = random_crop(im)\n",
    "        im_res= cropped_im.resize((40, 40), random.choice(resize_methods))\n",
    "        im_name = file_number + '/' + img\n",
    "        im_res.save(out_directory + '\\\\' + img, 'JPEG', quality=100)"
   ]
  },
  {
   "cell_type": "code",
   "execution_count": 135,
   "metadata": {},
   "outputs": [
    {
     "name": "stdout",
     "output_type": "stream",
     "text": [
      "folder number: 0\n",
      "folder number: 1\n",
      "folder number: 10\n",
      "folder number: 11\n",
      "folder number: 12\n",
      "folder number: 13\n",
      "folder number: 14\n",
      "folder number: 15\n"
     ]
    }
   ],
   "source": [
    "conta = 0\n",
    "resize_methods = [Image.BICUBIC, Image.NEAREST]\n",
    "br = False\n",
    "directory = r'C:\\Users\\Giobi\\OneDrive - Universita degli Studi di Milano-Bicocca\\Digital Signal and Image Management\\Progetto Segnali Stradali\\Train_resized'     \n",
    "out_directory = r'C:\\Users\\Giobi\\OneDrive - Universita degli Studi di Milano-Bicocca\\Digital Signal and Image Management\\Progetto Segnali Stradali\\crop_segnali_test'  \n",
    "for file_number in os.listdir(directory):\n",
    "    print('folder number: '+ str(file_number))\n",
    "    for img in os.listdir(directory+'\\\\' + file_number):\n",
    "        im = Image.open(directory+ '\\\\' + file_number + '\\\\' + img)\n",
    "        cropped_im = random_crop(im)\n",
    "        im_res= cropped_im.resize((40, 40), random.choice(resize_methods))\n",
    "        im_name = file_number + '/' + img\n",
    "        im_res.save(out_directory + '\\\\' + img, 'JPEG', quality=100)\n",
    "        conta = conta + 1\n",
    "        if (conta == 11000):\n",
    "            br = True\n",
    "    if (br == True):\n",
    "        break\n",
    "            "
   ]
  },
  {
   "cell_type": "code",
   "execution_count": 136,
   "metadata": {},
   "outputs": [],
   "source": [
    "data_crop=[]\n",
    "path = out_directory\n",
    "Class=os.listdir(path)\n",
    "for i in Class:\n",
    "    image=io.imread(path+ '\\\\'+i)\n",
    "    data_crop.append(image)"
   ]
  },
  {
   "cell_type": "code",
   "execution_count": 137,
   "metadata": {},
   "outputs": [],
   "source": [
    "crop_segnali_test = np.array(data_crop)"
   ]
  },
  {
   "cell_type": "code",
   "execution_count": 2,
   "metadata": {},
   "outputs": [],
   "source": [
    "out_directory = r'C:\\Users\\Giobi\\OneDrive - Universita degli Studi di Milano-Bicocca\\Digital Signal and Image Management\\Progetto Segnali Stradali\\alberi_landscapes_40_40_test'  "
   ]
  },
  {
   "cell_type": "code",
   "execution_count": 3,
   "metadata": {},
   "outputs": [
    {
     "name": "stdout",
     "output_type": "stream",
     "text": [
      "im965.jpg\n",
      "im966.jpg\n",
      "im967.jpg\n",
      "im968.jpg\n",
      "im969.jpg\n",
      "im97.jpg\n",
      "im970.jpg\n",
      "im971.jpg\n",
      "im972.jpg\n",
      "im973.jpg\n",
      "im974.jpg\n",
      "im975.jpg\n",
      "im976.jpg\n",
      "im977.jpg\n",
      "im978.jpg\n",
      "im979.jpg\n",
      "im98.jpg\n",
      "im980.jpg\n",
      "im981.jpg\n",
      "im982.jpg\n",
      "im983.jpg\n",
      "im984.jpg\n",
      "im985.jpg\n",
      "im986.jpg\n",
      "im987.jpg\n",
      "im988.jpg\n",
      "im989.jpg\n",
      "im99.jpg\n",
      "im990.jpg\n",
      "im991.jpg\n",
      "im992.jpg\n",
      "im993.jpg\n",
      "im994.jpg\n",
      "im995.jpg\n",
      "im996.jpg\n",
      "im997.jpg\n",
      "im998.jpg\n",
      "im999.jpg\n"
     ]
    }
   ],
   "source": [
    "data_alb_len=[]\n",
    "path = out_directory\n",
    "Class=os.listdir(path)\n",
    "b = False\n",
    "for i in Class:\n",
    "    if (b == True):\n",
    "        print(i)\n",
    "    if (i == 'im96420.jpg'):\n",
    "        b = True\n",
    "    image=io.imread(path+ '\\\\'+i)\n",
    "    if (len(image.shape) == 3):\n",
    "        data_alb_len.append(image)"
   ]
  },
  {
   "cell_type": "code",
   "execution_count": 4,
   "metadata": {},
   "outputs": [],
   "source": [
    "alberi_lendscapes_test = np.array(data_alb_len)"
   ]
  },
  {
   "cell_type": "markdown",
   "metadata": {},
   "source": [
    "### CREO IL TEST PER LA PRIMA RETE"
   ]
  },
  {
   "cell_type": "code",
   "execution_count": 24,
   "metadata": {},
   "outputs": [
    {
     "name": "stdout",
     "output_type": "stream",
     "text": [
      "500\n",
      "1000\n",
      "1500\n",
      "2000\n",
      "2500\n",
      "3000\n",
      "3500\n",
      "4000\n",
      "4500\n",
      "5000\n",
      "5500\n",
      "6000\n",
      "6500\n",
      "7000\n",
      "7500\n",
      "8000\n",
      "8500\n",
      "9000\n",
      "9500\n",
      "10000\n",
      "10500\n",
      "11000\n",
      "11500\n",
      "12000\n",
      "12500\n",
      "13000\n",
      "13500\n",
      "14000\n",
      "14500\n",
      "15000\n",
      "15500\n",
      "16000\n",
      "16500\n",
      "17000\n",
      "17500\n",
      "18000\n",
      "18500\n",
      "19000\n",
      "19500\n",
      "20000\n"
     ]
    }
   ],
   "source": [
    "directory = r'C:\\Users\\Giobi\\OneDrive - Universita degli Studi di Milano-Bicocca\\Digital Signal and Image Management\\Progetto Segnali Stradali\\test_set_non_segn_speriamo_bene'   \n",
    "X_0 = np.zeros([1,40,40,3])\n",
    "conta = 0\n",
    "for img in os.listdir(directory):\n",
    "    try:\n",
    "        im = Image.open(directory + '\\\\' + img)\n",
    "        im = np.array(im)\n",
    "        #print(im.shape)\n",
    "        X_0 = np.concatenate([X_0, np.expand_dims(im, axis = 0)], axis = 0)\n",
    "    except ValueError:\n",
    "        pass\n",
    "    conta += 1\n",
    "    if (conta%500==0):\n",
    "        print(conta)\n",
    "X_0 = X_0[1:, :, :,:]"
   ]
  },
  {
   "cell_type": "code",
   "execution_count": 26,
   "metadata": {},
   "outputs": [],
   "source": [
    "y_0 = np.zeros(X_0.shape[0])"
   ]
  },
  {
   "cell_type": "code",
   "execution_count": 31,
   "metadata": {},
   "outputs": [],
   "source": [
    "X_test1 = np.load('X_test.npy')\n",
    "y_test1 = np.ones(X_test1.shape[0])"
   ]
  },
  {
   "cell_type": "code",
   "execution_count": 32,
   "metadata": {},
   "outputs": [],
   "source": [
    "X_test = np.concatenate([X_0, X_test1], axis = 0)"
   ]
  },
  {
   "cell_type": "code",
   "execution_count": 33,
   "metadata": {},
   "outputs": [],
   "source": [
    "y_test = np.concatenate([y_0, y_test1], axis = 0)"
   ]
  },
  {
   "cell_type": "markdown",
   "metadata": {},
   "source": [
    "## Salvo gli array"
   ]
  },
  {
   "cell_type": "code",
   "execution_count": 34,
   "metadata": {},
   "outputs": [],
   "source": [
    "np.save('array_da_importare\\X_test_speriamo_bene', X_test)\n",
    "np.save('array_da_importare\\y_test_speriamo_bene', y_test)"
   ]
  },
  {
   "cell_type": "code",
   "execution_count": 5,
   "metadata": {},
   "outputs": [],
   "source": [
    "np.save('alberi_lends_test', alberi_lendscapes_test)"
   ]
  },
  {
   "cell_type": "code",
   "execution_count": 47,
   "metadata": {},
   "outputs": [],
   "source": [
    "np.save('alberi_lends', alberi_lendscapes)\n",
    "np.save('crop_segnali', crop_segnali)\n",
    "np.save('crop_segnali_test', crop_segnali_test)\n",
    "np.save('not_signals_array', not_signals)\n",
    "np.save('X', X)\n",
    "np.save('Y', Y)\n",
    "np.save('X_test', X_test)\n",
    "np.save('y_test', y_test)"
   ]
  },
  {
   "cell_type": "code",
   "execution_count": 64,
   "metadata": {},
   "outputs": [],
   "source": [
    "np.save('not_signals_test', not_signals_test)"
   ]
  }
 ],
 "metadata": {
  "kernelspec": {
   "display_name": "Python 3",
   "language": "python",
   "name": "python3"
  },
  "language_info": {
   "codemirror_mode": {
    "name": "ipython",
    "version": 3
   },
   "file_extension": ".py",
   "mimetype": "text/x-python",
   "name": "python",
   "nbconvert_exporter": "python",
   "pygments_lexer": "ipython3",
   "version": "3.7.3"
  }
 },
 "nbformat": 4,
 "nbformat_minor": 2
}

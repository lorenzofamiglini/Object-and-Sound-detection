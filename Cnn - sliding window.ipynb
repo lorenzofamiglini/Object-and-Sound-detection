{
 "cells": [
  {
   "cell_type": "code",
   "execution_count": 26,
   "metadata": {
    "scrolled": false
   },
   "outputs": [],
   "source": [
    "import tensorflow as tf\n",
    "import numpy as np\n",
    "import pandas as pd\n",
    "import matplotlib.pyplot as plt\n",
    "import cv2\n",
    "from PIL import Image\n",
    "import os\n",
    "import keras as ks\n",
    "from keras.preprocessing import image as kimage\n",
    "import skimage.io as io\n",
    "import random\n",
    "import sys\n",
    "import pickle as pkl\n",
    "from imblearn.keras import BalancedBatchGenerator\n",
    "from keras.utils import np_utils\n",
    "lib_path = os.path.join(os.path.realpath(r\"C:\\Users\\Giobi\\OneDrive - Universita degli Studi di Milano-Bicocca\\Digital Signal and Image Management\\Progetto Segnali Stradali\\DataAugmentationForObjectDetection-master\"), \"data_aug\")\n",
    "sys.path.append(lib_path)\n",
    "from bbox_util import *\n",
    "from data_aug import *\n",
    "from imblearn.under_sampling import NearMiss\n",
    "from sklearn.model_selection import train_test_split\n",
    "from keras.models import Sequential\n",
    "from keras.models import Model\n",
    "from keras.layers import Concatenate,Input, Dense, Flatten, Reshape, MaxPooling2D, Conv2D, GlobalMaxPooling2D, GlobalAveragePooling2D\n",
    "from keras.layers import Activation, Dense, Dropout, BatchNormalization, LeakyReLU\n",
    "from keras.optimizers import SGD\n",
    "from sklearn.metrics import confusion_matrix\n",
    "from sklearn.metrics import classification_report, explained_variance_score\n",
    "from imblearn.under_sampling import RandomUnderSampler\n",
    "from sklearn.utils import shuffle\n",
    "import skimage.measure"
   ]
  },
  {
   "cell_type": "markdown",
   "metadata": {},
   "source": [
    "## Import dei dati"
   ]
  },
  {
   "cell_type": "code",
   "execution_count": 56,
   "metadata": {},
   "outputs": [],
   "source": [
    "X_test = np.load('array_da_importare/X_test_speriamo_bene.npy')\n",
    "y_test = np.load('array_da_importare/y_test_speriamo_bene.npy')\n",
    "X_1 = np.load('array_da_importare/train_speriamo_bene_completo_X.npy')\n",
    "y_1 = np.load('array_da_importare/train_speriamo_bene_completo_Y.npy')"
   ]
  },
  {
   "cell_type": "markdown",
   "metadata": {},
   "source": [
    "## Preprocessing"
   ]
  },
  {
   "cell_type": "code",
   "execution_count": 57,
   "metadata": {},
   "outputs": [],
   "source": [
    "opt = ks.optimizers.Nadam(lr=0.001, beta_1=0.9, beta_2=0.99)\n",
    "opt2 = SGD(lr=0.1, momentum=0.9, nesterov=True, decay=0.001) # lr = 0.01, decay=0.0001\n",
    "opt3 = ks.optimizers.RMSprop(lr=0.001, rho=0.9)\n",
    "opt4 = ks.optimizers.Adagrad(lr=0.01)\n",
    "opt5 = ks.optimizers.Adadelta(lr= 1.0, rho=0.95)\n",
    "opt6 = ks.optimizers.Adam(lr=0.0001, beta_1=0.9, beta_2=0.999, amsgrad=False)\n",
    "opt7 = ks.optimizers.Adamax(lr=0.002, beta_1=0.9, beta_2=0.999)"
   ]
  },
  {
   "cell_type": "markdown",
   "metadata": {},
   "source": [
    "## Modello1 - C'è il segnale?"
   ]
  },
  {
   "cell_type": "markdown",
   "metadata": {},
   "source": [
    "## Preprocessing"
   ]
  },
  {
   "cell_type": "code",
   "execution_count": 58,
   "metadata": {},
   "outputs": [],
   "source": [
    "X_train1, X_val1, y_train1, y_val1 = train_test_split(X_1, y_1, test_size=0.2, stratify = y_1)\n",
    "X_train1 = X_train1/255\n",
    "X_val1 = X_val1/255\n",
    "X_test = X_test/255"
   ]
  },
  {
   "cell_type": "markdown",
   "metadata": {},
   "source": [
    "## Creazione del modello "
   ]
  },
  {
   "cell_type": "code",
   "execution_count": 59,
   "metadata": {},
   "outputs": [],
   "source": [
    "def balanced_flow_from_directory(flow_from_directory):\n",
    "    for immagini, classi in flow_from_directory:\n",
    "         yield custom_balance(immagini, classi)\n",
    "            \n",
    "def custom_balance(immagini, classi):\n",
    "    rus = RandomUnderSampler()\n",
    "    X_resampled, y_resampled = rus.fit_sample(immagini.reshape(immagini.shape[0], immagini.shape[1]*immagini.shape[2]*immagini.shape[3]), classi)     \n",
    "    X_resampled = X_resampled.reshape(X_resampled.shape[0], immagini.shape[1], immagini.shape[2], immagini.shape[3])\n",
    "    X_resampled, y_resampled = shuffle(X_resampled, y_resampled)\n",
    "    y_resampled = y_resampled.reshape(y_resampled.shape[0], 1, 1, 1) #da mettere se uso model_conv()\n",
    "    #y_resampled = np_utils.to_categorical(y_resampled, 2) #da mettere se uso model_flat()\n",
    "    return(X_resampled, y_resampled)"
   ]
  },
  {
   "cell_type": "code",
   "execution_count": 60,
   "metadata": {},
   "outputs": [],
   "source": [
    "train_processing_flow = kimage.ImageDataGenerator()\n",
    "train_generator_flow = train_processing_flow.flow((X_train1, y_train1), \n",
    "                    batch_size=200,\n",
    "                    shuffle=True #riordino i dati in maniera casuale\n",
    "                    )      \n",
    "train_generator_bal = balanced_flow_from_directory(train_generator_flow)\n",
    "\n",
    "val_processing_flow = kimage.ImageDataGenerator()\n",
    "val_generator_flow = val_processing_flow.flow((X_val1, y_val1), \n",
    "                    batch_size=200,\n",
    "                    shuffle=True #riordino i dati in maniera casuale\n",
    "                    )      \n",
    "val_generator_bal = balanced_flow_from_directory(val_generator_flow)"
   ]
  },
  {
   "cell_type": "code",
   "execution_count": 61,
   "metadata": {},
   "outputs": [],
   "source": [
    "from keras.callbacks import History \n",
    "def model_conv():\n",
    "    model = Sequential()\n",
    "\n",
    "    model.add(Conv2D(filters=8, kernel_size=7, strides=1, input_shape=(None,None,3))) #(None,None,3)\n",
    "    model.add(LeakyReLU(alpha=0.1))\n",
    "    model.add(BatchNormalization())\n",
    "\n",
    "    #model.add(Dropout(0.5))\n",
    "\n",
    "    model.add(Conv2D(filters=16, kernel_size=9, strides=1))\n",
    "    model.add(LeakyReLU(alpha=0.1))\n",
    "    model.add(BatchNormalization())\n",
    "\n",
    "    model.add(MaxPooling2D(pool_size=2, strides=2)) #stride 2\n",
    "\n",
    "    #model.add(Dropout(0.5))\n",
    "\n",
    "    model.add(Conv2D(filters=32, kernel_size=9, strides=1))\n",
    "    model.add(LeakyReLU(alpha=0.1))\n",
    "    model.add(BatchNormalization())\n",
    "\n",
    "    #model.add(Dropout(0.5))\n",
    "\n",
    "    model.add(Conv2D(filters = 64, kernel_size=5, strides=1))\n",
    "    model.add(LeakyReLU(alpha=0.1))\n",
    "    model.add(BatchNormalization())\n",
    "\n",
    "    model.add(Conv2D(filters = 1, kernel_size=1, strides=1))\n",
    "    model.add(LeakyReLU(alpha=0.1))\n",
    "    model.add(BatchNormalization())\n",
    "\n",
    "    #model.add(MaxPooling2D(pool_size=1, strides=2))\n",
    "    #model.add(GlobalAveragePooling2D())\n",
    "\n",
    "    model.add(Activation('sigmoid'))\n",
    "    return model\n",
    "\n",
    "    #model.compile(loss='binary_crossentropy', optimizer=opt, metrics=['accuracy'])"
   ]
  },
  {
   "cell_type": "code",
   "execution_count": 62,
   "metadata": {},
   "outputs": [],
   "source": [
    "model = model_conv()"
   ]
  },
  {
   "cell_type": "code",
   "execution_count": null,
   "metadata": {},
   "outputs": [],
   "source": [
    "#model.save('models/is_signal.h5')"
   ]
  },
  {
   "cell_type": "code",
   "execution_count": null,
   "metadata": {},
   "outputs": [],
   "source": [
    "#is_signal_model = is_signal_model(opt2)\n",
    "#model.compile(loss='binary_crossentropy', optimizer=opt2, metrics=['accuracy'])"
   ]
  },
  {
   "cell_type": "code",
   "execution_count": 63,
   "metadata": {},
   "outputs": [],
   "source": [
    "model.compile(loss='binary_crossentropy', optimizer=opt, metrics=['accuracy'])"
   ]
  },
  {
   "cell_type": "code",
   "execution_count": 64,
   "metadata": {
    "scrolled": true
   },
   "outputs": [
    {
     "name": "stdout",
     "output_type": "stream",
     "text": [
      "Epoch 1/100\n",
      "200/200 [==============================] - 16s 79ms/step - loss: 0.3580 - acc: 0.9242 - val_loss: 0.2515 - val_acc: 0.9457\n",
      "Epoch 2/100\n",
      "200/200 [==============================] - 7s 34ms/step - loss: 0.2709 - acc: 0.9723 - val_loss: 0.2294 - val_acc: 0.9701\n",
      "Epoch 3/100\n",
      "200/200 [==============================] - 6s 32ms/step - loss: 0.2281 - acc: 0.9795 - val_loss: 0.2551 - val_acc: 0.9366\n",
      "Epoch 4/100\n",
      "200/200 [==============================] - 7s 35ms/step - loss: 0.1938 - acc: 0.9832 - val_loss: 0.1659 - val_acc: 0.9794\n",
      "Epoch 5/100\n",
      "200/200 [==============================] - 7s 34ms/step - loss: 0.1653 - acc: 0.9862 - val_loss: 0.1462 - val_acc: 0.9844\n",
      "Epoch 6/100\n",
      "200/200 [==============================] - 7s 34ms/step - loss: 0.1395 - acc: 0.9895 - val_loss: 0.2053 - val_acc: 0.9346\n",
      "Epoch 7/100\n",
      "200/200 [==============================] - 7s 36ms/step - loss: 0.1215 - acc: 0.9896 - val_loss: 0.1251 - val_acc: 0.9739\n",
      "Epoch 8/100\n",
      "200/200 [==============================] - 7s 36ms/step - loss: 0.1031 - acc: 0.9903 - val_loss: 0.0947 - val_acc: 0.9918\n",
      "Epoch 9/100\n",
      "200/200 [==============================] - 8s 40ms/step - loss: 0.0874 - acc: 0.9922 - val_loss: 0.0932 - val_acc: 0.9900\n",
      "Epoch 10/100\n",
      "200/200 [==============================] - 7s 36ms/step - loss: 0.0749 - acc: 0.9928 - val_loss: 0.0891 - val_acc: 0.9846\n",
      "Epoch 11/100\n",
      "200/200 [==============================] - 7s 36ms/step - loss: 0.0641 - acc: 0.9933 - val_loss: 0.0647 - val_acc: 0.9916\n",
      "Epoch 12/100\n",
      "200/200 [==============================] - 7s 37ms/step - loss: 0.0620 - acc: 0.9910 - val_loss: 0.0837 - val_acc: 0.9792\n",
      "Epoch 13/100\n",
      "200/200 [==============================] - 7s 37ms/step - loss: 0.0494 - acc: 0.9937 - val_loss: 0.0643 - val_acc: 0.9887\n",
      "Epoch 14/100\n",
      "200/200 [==============================] - 7s 36ms/step - loss: 0.0458 - acc: 0.9933 - val_loss: 0.0750 - val_acc: 0.9793\n",
      "Epoch 15/100\n",
      "200/200 [==============================] - 7s 37ms/step - loss: 0.0363 - acc: 0.9950 - val_loss: 0.0430 - val_acc: 0.9910\n",
      "Epoch 16/100\n",
      "200/200 [==============================] - 7s 36ms/step - loss: 0.0343 - acc: 0.9945 - val_loss: 0.0347 - val_acc: 0.9937\n",
      "Epoch 17/100\n",
      "200/200 [==============================] - 7s 35ms/step - loss: 0.0296 - acc: 0.9946 - val_loss: 0.0372 - val_acc: 0.9927\n",
      "Epoch 18/100\n",
      "200/200 [==============================] - 7s 37ms/step - loss: 0.0256 - acc: 0.9954 - val_loss: 0.0320 - val_acc: 0.9930\n",
      "Epoch 19/100\n",
      "200/200 [==============================] - 7s 35ms/step - loss: 0.0246 - acc: 0.9952 - val_loss: 0.0414 - val_acc: 0.9877\n",
      "Epoch 20/100\n",
      "200/200 [==============================] - 7s 34ms/step - loss: 0.0230 - acc: 0.9951 - val_loss: 0.0240 - val_acc: 0.9941\n",
      "Epoch 21/100\n",
      "200/200 [==============================] - 7s 34ms/step - loss: 0.0186 - acc: 0.9963 - val_loss: 0.0208 - val_acc: 0.9952\n",
      "Epoch 22/100\n",
      "200/200 [==============================] - 7s 34ms/step - loss: 0.0175 - acc: 0.9962 - val_loss: 0.0399 - val_acc: 0.9887\n",
      "Epoch 23/100\n",
      "200/200 [==============================] - 7s 34ms/step - loss: 0.0166 - acc: 0.9960 - val_loss: 0.0977 - val_acc: 0.9726\n",
      "Epoch 24/100\n",
      "200/200 [==============================] - 7s 33ms/step - loss: 0.0143 - acc: 0.9966 - val_loss: 0.0221 - val_acc: 0.9942\n",
      "Epoch 25/100\n",
      "200/200 [==============================] - 7s 34ms/step - loss: 0.0141 - acc: 0.9966 - val_loss: 0.0314 - val_acc: 0.9909\n",
      "Epoch 26/100\n",
      "200/200 [==============================] - 7s 34ms/step - loss: 0.0118 - acc: 0.9967 - val_loss: 0.0298 - val_acc: 0.9910\n",
      "Epoch 27/100\n",
      "200/200 [==============================] - 7s 34ms/step - loss: 0.0139 - acc: 0.9959 - val_loss: 0.0154 - val_acc: 0.9950\n",
      "Epoch 28/100\n",
      "200/200 [==============================] - 7s 33ms/step - loss: 0.0112 - acc: 0.9968 - val_loss: 0.0169 - val_acc: 0.9944\n",
      "Epoch 29/100\n",
      "200/200 [==============================] - 7s 34ms/step - loss: 0.0114 - acc: 0.9965 - val_loss: 0.0154 - val_acc: 0.9955\n",
      "Epoch 30/100\n",
      "200/200 [==============================] - 7s 34ms/step - loss: 0.0118 - acc: 0.9966 - val_loss: 0.0132 - val_acc: 0.9960\n",
      "Epoch 31/100\n",
      "200/200 [==============================] - 7s 34ms/step - loss: 0.0083 - acc: 0.9978 - val_loss: 0.0208 - val_acc: 0.9932\n",
      "Epoch 32/100\n",
      "200/200 [==============================] - 7s 34ms/step - loss: 0.0091 - acc: 0.9974 - val_loss: 0.0147 - val_acc: 0.9953\n",
      "Epoch 33/100\n",
      "200/200 [==============================] - 7s 34ms/step - loss: 0.0095 - acc: 0.9972 - val_loss: 0.0169 - val_acc: 0.9947\n",
      "Epoch 34/100\n",
      "200/200 [==============================] - 7s 34ms/step - loss: 0.0078 - acc: 0.9976 - val_loss: 0.0195 - val_acc: 0.9938\n",
      "Epoch 35/100\n",
      "200/200 [==============================] - 7s 34ms/step - loss: 0.0081 - acc: 0.9974 - val_loss: 0.0162 - val_acc: 0.9949\n",
      "Epoch 36/100\n",
      "200/200 [==============================] - 7s 34ms/step - loss: 0.0068 - acc: 0.9978 - val_loss: 0.0133 - val_acc: 0.9960\n",
      "Epoch 37/100\n",
      "200/200 [==============================] - 7s 34ms/step - loss: 0.0071 - acc: 0.9981 - val_loss: 0.0170 - val_acc: 0.9949\n",
      "Epoch 38/100\n",
      "200/200 [==============================] - 7s 34ms/step - loss: 0.0080 - acc: 0.9975 - val_loss: 0.0263 - val_acc: 0.9912\n",
      "Epoch 39/100\n",
      "200/200 [==============================] - 7s 34ms/step - loss: 0.0056 - acc: 0.9984 - val_loss: 0.0223 - val_acc: 0.9923\n",
      "Epoch 40/100\n",
      "200/200 [==============================] - 7s 34ms/step - loss: 0.0071 - acc: 0.9978 - val_loss: 0.0153 - val_acc: 0.9953\n",
      "Epoch 41/100\n",
      "200/200 [==============================] - 7s 34ms/step - loss: 0.0091 - acc: 0.9974 - val_loss: 0.0089 - val_acc: 0.9977\n",
      "Epoch 42/100\n",
      "200/200 [==============================] - 7s 34ms/step - loss: 0.0054 - acc: 0.9985 - val_loss: 0.0115 - val_acc: 0.9964\n",
      "Epoch 43/100\n",
      "200/200 [==============================] - 7s 34ms/step - loss: 0.0051 - acc: 0.9985 - val_loss: 0.0092 - val_acc: 0.9971\n",
      "Epoch 44/100\n",
      "200/200 [==============================] - 7s 34ms/step - loss: 0.0076 - acc: 0.9979 - val_loss: 0.0541 - val_acc: 0.9843\n",
      "Epoch 45/100\n",
      "200/200 [==============================] - 7s 34ms/step - loss: 0.0052 - acc: 0.9985 - val_loss: 0.0220 - val_acc: 0.9932\n",
      "Epoch 46/100\n",
      "200/200 [==============================] - 7s 34ms/step - loss: 0.0059 - acc: 0.9981 - val_loss: 0.0284 - val_acc: 0.9937\n",
      "Epoch 47/100\n",
      "200/200 [==============================] - 7s 34ms/step - loss: 0.0036 - acc: 0.9991 - val_loss: 0.0092 - val_acc: 0.9968\n",
      "Epoch 48/100\n",
      "200/200 [==============================] - 7s 34ms/step - loss: 0.0049 - acc: 0.9982 - val_loss: 0.0109 - val_acc: 0.9966\n",
      "Epoch 49/100\n",
      "200/200 [==============================] - 7s 34ms/step - loss: 0.0059 - acc: 0.9981 - val_loss: 0.0899 - val_acc: 0.9764\n",
      "Epoch 50/100\n",
      "200/200 [==============================] - 7s 35ms/step - loss: 0.0043 - acc: 0.9987 - val_loss: 0.0083 - val_acc: 0.9972\n",
      "Epoch 51/100\n",
      "200/200 [==============================] - 7s 34ms/step - loss: 0.0066 - acc: 0.9978 - val_loss: 0.0096 - val_acc: 0.9971\n",
      "Epoch 52/100\n",
      "200/200 [==============================] - 7s 34ms/step - loss: 0.0044 - acc: 0.9988 - val_loss: 0.0192 - val_acc: 0.9941\n",
      "Epoch 53/100\n",
      "200/200 [==============================] - 7s 34ms/step - loss: 0.0044 - acc: 0.9985 - val_loss: 0.0208 - val_acc: 0.9938\n",
      "Epoch 54/100\n",
      "200/200 [==============================] - 7s 34ms/step - loss: 0.0041 - acc: 0.9987 - val_loss: 0.0094 - val_acc: 0.9967\n",
      "Epoch 55/100\n",
      "200/200 [==============================] - 7s 35ms/step - loss: 0.0035 - acc: 0.9989 - val_loss: 0.0140 - val_acc: 0.9959\n",
      "Epoch 56/100\n",
      "200/200 [==============================] - 7s 35ms/step - loss: 0.0030 - acc: 0.9990 - val_loss: 0.0061 - val_acc: 0.9979\n",
      "Epoch 57/100\n",
      "200/200 [==============================] - 7s 35ms/step - loss: 0.0063 - acc: 0.9982 - val_loss: 0.0374 - val_acc: 0.9901\n",
      "Epoch 58/100\n",
      "200/200 [==============================] - 7s 34ms/step - loss: 0.0027 - acc: 0.9990 - val_loss: 0.0130 - val_acc: 0.9960\n",
      "Epoch 59/100\n",
      "200/200 [==============================] - 7s 35ms/step - loss: 0.0042 - acc: 0.9988 - val_loss: 0.0098 - val_acc: 0.9971\n",
      "Epoch 60/100\n",
      "200/200 [==============================] - 7s 34ms/step - loss: 0.0048 - acc: 0.9984 - val_loss: 0.0115 - val_acc: 0.9965\n",
      "Epoch 61/100\n",
      "200/200 [==============================] - 7s 36ms/step - loss: 0.0022 - acc: 0.9993 - val_loss: 0.0142 - val_acc: 0.9959\n"
     ]
    },
    {
     "name": "stdout",
     "output_type": "stream",
     "text": [
      "Epoch 62/100\n",
      "200/200 [==============================] - 7s 36ms/step - loss: 0.0041 - acc: 0.9986 - val_loss: 0.0063 - val_acc: 0.9981\n",
      "Epoch 63/100\n",
      "200/200 [==============================] - 7s 34ms/step - loss: 0.0039 - acc: 0.9985 - val_loss: 0.0073 - val_acc: 0.9975\n",
      "Epoch 64/100\n",
      "200/200 [==============================] - 7s 34ms/step - loss: 0.0051 - acc: 0.9985 - val_loss: 0.0092 - val_acc: 0.9971\n",
      "Epoch 65/100\n",
      "200/200 [==============================] - 7s 36ms/step - loss: 0.0021 - acc: 0.9992 - val_loss: 0.0066 - val_acc: 0.9980\n",
      "Epoch 66/100\n",
      "200/200 [==============================] - 7s 36ms/step - loss: 0.0028 - acc: 0.9990 - val_loss: 0.0107 - val_acc: 0.9963\n",
      "Epoch 67/100\n",
      "200/200 [==============================] - 7s 35ms/step - loss: 0.0019 - acc: 0.9993 - val_loss: 0.0278 - val_acc: 0.9920\n",
      "Epoch 68/100\n",
      "200/200 [==============================] - 7s 35ms/step - loss: 0.0044 - acc: 0.9985 - val_loss: 0.0459 - val_acc: 0.9887\n",
      "Epoch 69/100\n",
      "200/200 [==============================] - 7s 37ms/step - loss: 0.0029 - acc: 0.9988 - val_loss: 0.0083 - val_acc: 0.9972\n",
      "Epoch 70/100\n",
      "200/200 [==============================] - 7s 37ms/step - loss: 0.0038 - acc: 0.9988 - val_loss: 0.0096 - val_acc: 0.9964\n",
      "Epoch 71/100\n",
      "200/200 [==============================] - 7s 34ms/step - loss: 0.0039 - acc: 0.9988 - val_loss: 0.0118 - val_acc: 0.9961\n",
      "Epoch 72/100\n",
      "200/200 [==============================] - 7s 35ms/step - loss: 0.0022 - acc: 0.9993 - val_loss: 0.0397 - val_acc: 0.9891\n",
      "Epoch 73/100\n",
      "200/200 [==============================] - 7s 34ms/step - loss: 0.0030 - acc: 0.9992 - val_loss: 0.0140 - val_acc: 0.9964\n",
      "Epoch 74/100\n",
      "200/200 [==============================] - 7s 37ms/step - loss: 0.0037 - acc: 0.9987 - val_loss: 0.0065 - val_acc: 0.9981\n",
      "Epoch 75/100\n",
      "200/200 [==============================] - 7s 35ms/step - loss: 0.0019 - acc: 0.9994 - val_loss: 0.0070 - val_acc: 0.9975\n",
      "Epoch 76/100\n",
      "200/200 [==============================] - 7s 37ms/step - loss: 0.0027 - acc: 0.9990 - val_loss: 0.0136 - val_acc: 0.9956\n",
      "Epoch 77/100\n",
      "200/200 [==============================] - 7s 35ms/step - loss: 0.0015 - acc: 0.9994 - val_loss: 0.0066 - val_acc: 0.9979\n",
      "Epoch 78/100\n",
      "200/200 [==============================] - 7s 34ms/step - loss: 0.0018 - acc: 0.9993 - val_loss: 0.0064 - val_acc: 0.9981\n",
      "Epoch 79/100\n",
      "200/200 [==============================] - 7s 35ms/step - loss: 0.0023 - acc: 0.9994 - val_loss: 0.0312 - val_acc: 0.9915\n",
      "Epoch 80/100\n",
      "200/200 [==============================] - 7s 35ms/step - loss: 0.0032 - acc: 0.9991 - val_loss: 0.0090 - val_acc: 0.9971\n",
      "Epoch 81/100\n",
      "200/200 [==============================] - 7s 35ms/step - loss: 0.0030 - acc: 0.9990 - val_loss: 0.0100 - val_acc: 0.9971\n",
      "Epoch 82/100\n",
      "200/200 [==============================] - 7s 36ms/step - loss: 0.0029 - acc: 0.9991 - val_loss: 0.0116 - val_acc: 0.9972\n",
      "Epoch 83/100\n",
      "200/200 [==============================] - 8s 39ms/step - loss: 0.0028 - acc: 0.9990 - val_loss: 0.0139 - val_acc: 0.9958\n",
      "Epoch 84/100\n",
      "200/200 [==============================] - 8s 38ms/step - loss: 0.0021 - acc: 0.9993 - val_loss: 0.0106 - val_acc: 0.9966\n",
      "Epoch 85/100\n",
      "200/200 [==============================] - 7s 33ms/step - loss: 7.7301e-04 - acc: 0.9998 - val_loss: 0.0066 - val_acc: 0.9980\n",
      "Epoch 86/100\n",
      "200/200 [==============================] - 7s 34ms/step - loss: 0.0037 - acc: 0.9987 - val_loss: 0.0191 - val_acc: 0.9946\n",
      "Epoch 87/100\n",
      "200/200 [==============================] - 7s 35ms/step - loss: 0.0020 - acc: 0.9994 - val_loss: 0.0063 - val_acc: 0.9979\n",
      "Epoch 88/100\n",
      "200/200 [==============================] - 7s 36ms/step - loss: 0.0021 - acc: 0.9992 - val_loss: 0.0078 - val_acc: 0.9975\n",
      "Epoch 89/100\n",
      "200/200 [==============================] - 7s 35ms/step - loss: 0.0028 - acc: 0.9990 - val_loss: 0.0115 - val_acc: 0.9969\n",
      "Epoch 90/100\n",
      "200/200 [==============================] - 8s 39ms/step - loss: 0.0010 - acc: 0.9997 - val_loss: 0.0184 - val_acc: 0.9948\n",
      "Epoch 91/100\n",
      "200/200 [==============================] - 8s 39ms/step - loss: 0.0028 - acc: 0.9991 - val_loss: 0.0149 - val_acc: 0.9959\n",
      "Epoch 92/100\n",
      "200/200 [==============================] - 7s 35ms/step - loss: 0.0012 - acc: 0.9995 - val_loss: 0.0110 - val_acc: 0.9968\n",
      "Epoch 93/100\n",
      "200/200 [==============================] - 7s 34ms/step - loss: 0.0024 - acc: 0.9991 - val_loss: 0.0169 - val_acc: 0.9946\n",
      "Epoch 94/100\n",
      "200/200 [==============================] - 7s 34ms/step - loss: 0.0020 - acc: 0.9994 - val_loss: 0.0083 - val_acc: 0.9973\n",
      "Epoch 95/100\n",
      "200/200 [==============================] - 7s 35ms/step - loss: 0.0012 - acc: 0.9995 - val_loss: 0.0194 - val_acc: 0.9933\n",
      "Epoch 96/100\n",
      "200/200 [==============================] - 8s 38ms/step - loss: 0.0025 - acc: 0.9992 - val_loss: 0.0076 - val_acc: 0.9977\n",
      "Epoch 97/100\n",
      "200/200 [==============================] - 7s 37ms/step - loss: 0.0012 - acc: 0.9997 - val_loss: 0.0109 - val_acc: 0.9970\n",
      "Epoch 98/100\n",
      "200/200 [==============================] - 7s 33ms/step - loss: 0.0018 - acc: 0.9994 - val_loss: 0.0059 - val_acc: 0.9983\n",
      "Epoch 99/100\n",
      "200/200 [==============================] - 7s 36ms/step - loss: 0.0021 - acc: 0.9993 - val_loss: 0.0078 - val_acc: 0.9978\n",
      "Epoch 100/100\n",
      "200/200 [==============================] - 7s 33ms/step - loss: 0.0010 - acc: 0.9997 - val_loss: 0.0065 - val_acc: 0.9979\n"
     ]
    },
    {
     "data": {
      "text/plain": [
       "<keras.callbacks.History at 0x244b587fd68>"
      ]
     },
     "execution_count": 64,
     "metadata": {},
     "output_type": "execute_result"
    }
   ],
   "source": [
    "#model.fit_generator(generator=train_generator_bal, epochs=100, verbose=1, callbacks=[history], validation_data = val_generator_bal, validation_steps=200, steps_per_epoch= 200)  #allenato in 120 epoche  "
   ]
  },
  {
   "cell_type": "code",
   "execution_count": 72,
   "metadata": {},
   "outputs": [
    {
     "data": {
      "image/png": "[encoded data removed]",
      "text/plain": [
       "<Figure size 432x288 with 1 Axes>"
      ]
     },
     "metadata": {
      "needs_background": "light"
     },
     "output_type": "display_data"
    },
    {
     "data": {
      "image/png": "[encoded data removed]",
      "text/plain": [
       "<Figure size 432x288 with 1 Axes>"
      ]
     },
     "metadata": {
      "needs_background": "light"
     },
     "output_type": "display_data"
    }
   ],
   "source": [
    "plt.plot(history.history['acc'])\n",
    "plt.plot(history.history['val_acc'])\n",
    "plt.title('Accuratezza della CNN')\n",
    "plt.ylabel('accuratezza')\n",
    "plt.xlabel('epoche')\n",
    "plt.legend(['train', 'validation'], loc='upper left')\n",
    "plt.gca().set_ylim([0.90,1])\n",
    "plt.savefig('Report/cnn_accuracy.png')\n",
    "plt.show()\n",
    "# summarize history for loss\n",
    "plt.plot(history.history['loss'])\n",
    "plt.plot(history.history['val_loss'])\n",
    "plt.title('Loss della CNN')\n",
    "plt.ylabel('loss')\n",
    "plt.xlabel('epoche')\n",
    "plt.legend(['train', 'validation'], loc='upper left')\n",
    "plt.savefig('Report/cnn_loss.png')\n",
    "plt.show()"
   ]
  },
  {
   "cell_type": "code",
   "execution_count": 73,
   "metadata": {},
   "outputs": [],
   "source": [
    "#model.load_weights('weights/model_is_signal_conv.hdf5')"
   ]
  },
  {
   "cell_type": "markdown",
   "metadata": {},
   "source": [
    "# Metriche in train e test"
   ]
  },
  {
   "cell_type": "code",
   "execution_count": 74,
   "metadata": {},
   "outputs": [],
   "source": [
    "preds = model.predict(X_test)"
   ]
  },
  {
   "cell_type": "code",
   "execution_count": 75,
   "metadata": {},
   "outputs": [
    {
     "data": {
      "text/plain": [
       "0.9985362283483776"
      ]
     },
     "execution_count": 75,
     "metadata": {},
     "output_type": "execute_result"
    }
   ],
   "source": [
    "from sklearn.metrics import accuracy_score\n",
    "accuracy_score(y_test, np.round(preds.reshape(preds.shape[0])))"
   ]
  },
  {
   "cell_type": "code",
   "execution_count": 15,
   "metadata": {},
   "outputs": [
    {
     "name": "stdout",
     "output_type": "stream",
     "text": [
      "              precision    recall  f1-score   support\n",
      "\n",
      "         0.0       1.00      1.00      1.00     20162\n",
      "         1.0       1.00      1.00      1.00     12630\n",
      "\n",
      "    accuracy                           1.00     32792\n",
      "   macro avg       1.00      1.00      1.00     32792\n",
      "weighted avg       1.00      1.00      1.00     32792\n",
      "\n"
     ]
    }
   ],
   "source": [
    "cr = classification_report(y_test, np.round(preds.reshape(preds.shape[0])))\n",
    "print(cr)"
   ]
  },
  {
   "cell_type": "code",
   "execution_count": 76,
   "metadata": {},
   "outputs": [
    {
     "name": "stdout",
     "output_type": "stream",
     "text": [
      "              precision    recall  f1-score   support\n",
      "\n",
      "         0.0       1.00      1.00      1.00    105879\n",
      "         1.0       1.00      1.00      1.00     62734\n",
      "\n",
      "    accuracy                           1.00    168613\n",
      "   macro avg       1.00      1.00      1.00    168613\n",
      "weighted avg       1.00      1.00      1.00    168613\n",
      "\n"
     ]
    }
   ],
   "source": [
    "preds = model.predict(X_train1)\n",
    "cr = classification_report(y_train1, np.round(preds.reshape(preds.shape[0])))\n",
    "print(cr)"
   ]
  },
  {
   "cell_type": "code",
   "execution_count": 77,
   "metadata": {},
   "outputs": [
    {
     "data": {
      "text/plain": [
       "0.9992408651764692"
      ]
     },
     "execution_count": 77,
     "metadata": {},
     "output_type": "execute_result"
    }
   ],
   "source": [
    "from sklearn.metrics import accuracy_score\n",
    "accuracy_score(y_train1, np.round(preds.reshape(preds.shape[0])))"
   ]
  },
  {
   "cell_type": "code",
   "execution_count": 17,
   "metadata": {},
   "outputs": [
    {
     "data": {
      "text/plain": [
       "array([[132305,     44],\n",
       "       [   131,  78287]], dtype=int64)"
      ]
     },
     "execution_count": 17,
     "metadata": {},
     "output_type": "execute_result"
    }
   ],
   "source": [
    "confusion_matrix(y_train1, np.round(preds.reshape(preds.shape[0])))"
   ]
  }
 ],
 "metadata": {
  "kernelspec": {
   "display_name": "Python 3",
   "language": "python",
   "name": "python3"
  },
  "language_info": {
   "codemirror_mode": {
    "name": "ipython",
    "version": 3
   },
   "file_extension": ".py",
   "mimetype": "text/x-python",
   "name": "python",
   "nbconvert_exporter": "python",
   "pygments_lexer": "ipython3",
   "version": "3.7.3"
  }
 },
 "nbformat": 4,
 "nbformat_minor": 2
}

{
 "cells": [
  {
   "cell_type": "code",
   "execution_count": null,
   "metadata": {},
   "outputs": [],
   "source": [
    "!apt-get install swig\n",
    "#!pip install pyrfr\n",
    "!pip install smac[all]"
   ]
  },
  {
   "cell_type": "code",
   "execution_count": 0,
   "metadata": {
    "colab": {},
    "colab_type": "code",
    "id": "OkZrJ2drXi1H"
   },
   "outputs": [],
   "source": [
    "import pandas as pd\n",
    "import numpy as np\n",
    "import matplotlib.pyplot as plt\n",
    "import IPython.display as ipd\n",
    "import scipy as sy\n",
    "from scipy.io import wavfile as wav #importare ed esportare file audio\n",
    "import pylab\n",
    "import numpy as np\n",
    "import os\n",
    "import sys"
   ]
  },
  {
   "cell_type": "code",
   "execution_count": 0,
   "metadata": {
    "colab": {},
    "colab_type": "code",
    "id": "P59TByeGXi1K"
   },
   "outputs": [],
   "source": [
    "import smac\n",
    "import numpy as np\n",
    "import pandas as pd\n",
    "import seaborn as sns\n",
    "import pyDOE\n",
    "from ConfigSpace.hyperparameters import UniformFloatHyperparameter, UniformIntegerHyperparameter,CategoricalHyperparameter\n",
    "from smac.tae.execute_func import ExecuteTAFuncDict\n",
    "from smac.optimizer.acquisition import EI, LCB\n",
    "from smac.configspace import ConfigurationSpace, Configuration\n",
    "from smac.initial_design.latin_hypercube_design import LHDesign\n",
    "from smac.facade.smac_hpo_facade import SMAC4HPO\n",
    "from smac.facade.smac_bo_facade import SMAC4BO\n",
    "from smac.facade.smac_ac_facade import SMAC4AC\n",
    "from smac.scenario.scenario import Scenario\n",
    "from google.colab import drive\n",
    "drive.mount('/content/drive')"
   ]
  },
  {
   "cell_type": "code",
   "execution_count": 0,
   "metadata": {
    "colab": {},
    "colab_type": "code",
    "id": "YZXIo8bRXi1M"
   },
   "outputs": [],
   "source": [
    "giox_path = \"/content/drive/My Drive/Dataset/Test_Audio/Giorgio_set/\"\n",
    "lox_path = \"/content/drive/My Drive/Dataset/Test_Audio/Lorenzo_set/\"\n",
    "altri_path = \"/content/drive/My Drive/Dataset/Test_Audio/AltreVoci_set/\"\n",
    "#Descrizione + chi ha parlato Lorenzo\n",
    "lox_descr = np.load(lox_path+\"lor_audio_descrizione.npy\")\n",
    "lox_y_descr_de = np.repeat(\"descrizione\", len(lox_descr))\n",
    "lox_y_descr_chi = np.repeat(\"lorenzo\", len(lox_descr))  \n",
    "\n",
    "lox_descr2 = np.load(lox_path+\"lor_audio_descrizione2.npy\").reshape(10,110250)\n",
    "lox_y_descr_de2 = np.repeat(\"descrizione\", len(lox_descr2))\n",
    "lox_y_descr_chi2 = np.repeat(\"lorenzo\", len(lox_descr2))\n",
    "#Sanzione + chi ha parlato Lorenzo\n",
    "lox_sanz = np.load(lox_path+\"lor_audio_sanzione.npy\")\n",
    "lox_y_sanz_sa = np.repeat(\"sanzione\", len(lox_sanz))\n",
    "lox_y_sanz_chi = np.repeat(\"lorenzo\", len(lox_sanz))\n",
    "\n",
    "lox_sanz2 = np.load(lox_path+\"lor_audio_sanzione2.npy\").reshape(10,110250)\n",
    "lox_y_sanz_sa2 = np.repeat(\"sanzione\", len(lox_sanz2))\n",
    "lox_y_sanz_chi2 = np.repeat(\"lorenzo\", len(lox_sanz2))\n",
    "# Tipologia + chi ha parlato Lorenzo\n",
    "lox_tipo = np.load(lox_path+\"lor_audio_tipologia.npy\")\n",
    "lox_y_tipo_ti = np.repeat(\"tipologia\", len(lox_tipo))\n",
    "lox_y_tipo_chi = np.repeat(\"lorenzo\", len(lox_tipo))\n",
    "\n",
    "lox_tipo2 = np.load(lox_path+\"lor_audio_tipologia2.npy\").reshape(10,110250)\n",
    "lox_y_tipo_ti2 = np.repeat(\"tipologia\", len(lox_tipo2))\n",
    "lox_y_tipo_chi2 = np.repeat(\"lorenzo\", len(lox_tipo2))\n",
    "#Descrizione + chi ha parlato Giorgio\n",
    "gio_descr = np.load(giox_path+\"giox_audio_descrizione.npy\")\n",
    "gio_y_descr_de = np.repeat(\"descrizione\", len(gio_descr))\n",
    "gio_y_descr_chi = np.repeat(\"giorgio\", len(gio_descr))\n",
    "\n",
    "gio_descr2 = np.load(giox_path+\"giox_audio_descrizione2.npy\").reshape(10,110250)\n",
    "gio_y_descr_de2 = np.repeat(\"descrizione\", len(gio_descr2))\n",
    "gio_y_descr_chi2 = np.repeat(\"giorgio\", len(gio_descr2))\n",
    "#Sanzione + chi ha parlato Giorgio\n",
    "gio_sanz = np.load(giox_path+\"giox_audio_sanzione.npy\")\n",
    "gio_y_sanz_sa = np.repeat(\"sanzione\", len(gio_sanz))\n",
    "gio_y_sanz_chi = np.repeat(\"giorgio\", len(gio_sanz))\n",
    "\n",
    "gio_sanz2 = np.load(giox_path+\"giox_audio_sanzione2.npy\").reshape(10,110250)\n",
    "gio_y_sanz_sa2 = np.repeat(\"sanzione\", len(gio_sanz2))\n",
    "gio_y_sanz_chi2 = np.repeat(\"giorgio\", len(gio_sanz2))\n",
    "# Tipologia + chi ha parlato Giorgio\n",
    "gio_tipo = np.load(giox_path+\"giox_audio_tipologia.npy\")\n",
    "gio_y_tipo_ti = np.repeat(\"tipologia\", len(gio_tipo))\n",
    "gio_y_tipo_chi = np.repeat(\"giorgio\", len(gio_tipo))\n",
    "\n",
    "gio_tipo2 = np.load(giox_path+\"giox_audio_tipologia2.npy\").reshape(10,110250)\n",
    "gio_y_tipo_ti2 = np.repeat(\"tipologia\", len(gio_tipo2))\n",
    "gio_y_tipo_chi2 = np.repeat(\"giorgio\", len(gio_tipo2))\n",
    "\n",
    "# Sconosciuti\n",
    "altri_descr = np.load(altri_path+\"persone_descrizione.npy\").T\n",
    "altri_descr_de = np.repeat(\"descrizione\", len(altri_descr))\n",
    "altri_descr_chi = np.repeat(\"sconosciuto\", len(altri_descr))\n",
    "\n",
    "altri_sanz = np.load(altri_path+\"persone_sanzione.npy\").T\n",
    "altri_sanz_sa = np.repeat(\"sanzione\", len(altri_sanz))\n",
    "altri_sanz_chi = np.repeat(\"sconosciuto\", len(altri_sanz))\n",
    "\n",
    "altri_tipo = np.load(altri_path+\"persone_tipologia.npy\").T\n",
    "altri_tipo_ti = np.repeat(\"tipologia\", len(altri_tipo))\n",
    "altri_tipo_chi = np.repeat(\"sconosciuto\", len(altri_tipo))"
   ]
  },
  {
   "cell_type": "code",
   "execution_count": 0,
   "metadata": {
    "colab": {},
    "colab_type": "code",
    "id": "yLP0XFoEXi1O"
   },
   "outputs": [],
   "source": [
    "X = np.concatenate([lox_descr,lox_descr2, gio_descr,gio_descr2, lox_sanz,lox_sanz2,\n",
    "                    gio_sanz,gio_sanz2, lox_tipo,lox_tipo2, gio_tipo,gio_tipo2, altri_descr,altri_sanz,altri_tipo], axis = 0)\n",
    "y_cosa = np.concatenate([lox_y_descr_de,lox_y_descr_de2, gio_y_descr_de, gio_y_descr_de2, lox_y_sanz_sa,lox_y_sanz_sa2,\n",
    "                         gio_y_sanz_sa,gio_y_sanz_sa2,lox_y_tipo_ti,lox_y_tipo_ti2, gio_y_tipo_ti,gio_y_tipo_ti2, \n",
    "                        altri_descr_de,altri_sanz_sa, altri_tipo_ti], axis = 0)\n",
    "y_chi = np.concatenate([lox_y_descr_chi,lox_y_descr_chi2, gio_y_descr_chi, gio_y_descr_chi2,lox_y_sanz_chi, lox_y_sanz_chi2,\n",
    "                        gio_y_sanz_chi,gio_y_sanz_chi2, lox_y_tipo_chi, lox_y_tipo_chi2,gio_y_tipo_chi,gio_y_tipo_chi2,\n",
    "                       altri_descr_chi, altri_sanz_chi,altri_tipo_chi], axis = 0)"
   ]
  },
  {
   "cell_type": "code",
   "execution_count": 0,
   "metadata": {
    "colab": {},
    "colab_type": "code",
    "id": "f9lF3d61Y6g5"
   },
   "outputs": [],
   "source": [
    "df = pd.DataFrame(y_chi, y_cosa).reset_index()"
   ]
  },
  {
   "cell_type": "code",
   "execution_count": 0,
   "metadata": {
    "colab": {},
    "colab_type": "code",
    "id": "RB0a4QrsY6aL"
   },
   "outputs": [],
   "source": [
    "donna_desc = df[(df[0] == \"sconosciuto\") & (df[\"index\"] == \"descrizione\")].iloc[0:39].index\n",
    "uomo_desc = df[(df[0] == \"sconosciuto\") & (df[\"index\"] == \"descrizione\")].iloc[39:].index"
   ]
  },
  {
   "cell_type": "code",
   "execution_count": 0,
   "metadata": {
    "colab": {},
    "colab_type": "code",
    "id": "cGXNnSJeY6R5"
   },
   "outputs": [],
   "source": [
    "donna_tipo = df[(df[0] == \"sconosciuto\") & (df[\"index\"] == \"tipologia\")].iloc[0:39].index\n",
    "uomo_tipo = df[(df[0] == \"sconosciuto\") & (df[\"index\"] == \"tipologia\")].iloc[39:].index"
   ]
  },
  {
   "cell_type": "code",
   "execution_count": 0,
   "metadata": {
    "colab": {},
    "colab_type": "code",
    "id": "MgPddfZRY6JI"
   },
   "outputs": [],
   "source": [
    "donna_sanz = df[(df[0] == \"sconosciuto\") & (df[\"index\"] == \"sanzione\")].iloc[28:36].index\n",
    "uomo_sanz = df[(df[0] == \"sconosciuto\") & (df[\"index\"] == \"sanzione\")].iloc[:28].index"
   ]
  },
  {
   "cell_type": "code",
   "execution_count": 0,
   "metadata": {
    "colab": {},
    "colab_type": "code",
    "id": "i3VbjeiOY56M"
   },
   "outputs": [],
   "source": [
    "df[\"Sesso\"] = \"Vuoto\""
   ]
  },
  {
   "cell_type": "code",
   "execution_count": 0,
   "metadata": {
    "colab": {},
    "colab_type": "code",
    "id": "2zsEH3gdY5vw"
   },
   "outputs": [],
   "source": [
    "df[\"Sesso\"].iloc[uomo_desc] = \"Uomo\"\n",
    "df[\"Sesso\"].iloc[uomo_tipo] = \"Uomo\"\n",
    "df[\"Sesso\"].iloc[uomo_sanz] = \"Uomo\""
   ]
  },
  {
   "cell_type": "code",
   "execution_count": 0,
   "metadata": {
    "colab": {},
    "colab_type": "code",
    "id": "JiPOpl1UZJYU"
   },
   "outputs": [],
   "source": [
    "df[\"Sesso\"].iloc[donna_desc] = \"Donna\"\n",
    "df[\"Sesso\"].iloc[donna_tipo] = \"Donna\"\n",
    "df[\"Sesso\"].iloc[donna_sanz] = \"Donna\""
   ]
  },
  {
   "cell_type": "code",
   "execution_count": 0,
   "metadata": {
    "colab": {},
    "colab_type": "code",
    "id": "zkUxyce-ZJU0"
   },
   "outputs": [],
   "source": [
    "df[\"Sesso\"].iloc[df[df[\"Sesso\"] == \"Vuoto\"].index] = \"Uomo\""
   ]
  },
  {
   "cell_type": "markdown",
   "metadata": {
    "colab_type": "text",
    "id": "hyOiJ-QJXi1Q"
   },
   "source": [
    "# Data augmentation"
   ]
  },
  {
   "cell_type": "code",
   "execution_count": 20,
   "metadata": {
    "colab": {
     "base_uri": "https://localhost:8080/",
     "height": 675
    },
    "colab_type": "code",
    "id": "povbxuKGXi1Q",
    "outputId": "676092a8-10ec-447b-ea20-b0201723ce2c"
   },
   "outputs": [
    {
     "name": "stderr",
     "output_type": "stream",
     "text": [
      "No handles with labels found to put in legend.\n"
     ]
    },
    {
     "data": {
      "text/plain": [
       "<Figure size 432x288 with 0 Axes>"
      ]
     },
     "metadata": {
      "tags": []
     },
     "output_type": "display_data"
    },
    {
     "name": "stderr",
     "output_type": "stream",
     "text": [
      "/usr/local/lib/python3.6/dist-packages/IPython/core/pylabtools.py:125: UserWarning: Creating legend with loc=\"best\" can be slow with large amounts of data.\n",
      "  fig.canvas.print_figure(bytes_io, **kw)\n"
     ]
    },
    {
     "data": {
      "image/png": "[encoded data removed]",
      "text/plain": [
       "<Figure size 720x720 with 1 Axes>"
      ]
     },
     "metadata": {
      "tags": []
     },
     "output_type": "display_data"
    }
   ],
   "source": [
    "y_noise_aug = []\n",
    "x_copy = X\n",
    "for i in x_copy:\n",
    "  y_noise = i\n",
    "  noise_amp = 0.08*np.random.uniform()*np.amax(y_noise)\n",
    "  y_noise = y_noise.astype('float64') + noise_amp * np.random.normal(size=y_noise.shape[0])\n",
    "  y_noise_aug.append(y_noise)\n",
    "\n",
    "\n",
    "from IPython.display import Audio\n",
    "Audio(y_noise_aug[26], rate=44100)\n",
    "Audio(X[26], rate=44100)\n",
    "\n",
    "plt.figure(1)\n",
    "plt.figure(figsize=(10,10))\n",
    "#plt.title(\"Signal Wave...\")\n",
    "plt.plot(y_noise_aug[1], color = \"red\")\n",
    "plt.plot(X[1],  color = \"gray\", alpha = 0.9)\n",
    "plt.title(\"Data augmentation: rumore gaussiano con varianza 0.08\")\n",
    "plt.legend()\n",
    "plt.show()"
   ]
  },
  {
   "cell_type": "code",
   "execution_count": 26,
   "metadata": {
    "colab": {
     "base_uri": "https://localhost:8080/",
     "height": 633
    },
    "colab_type": "code",
    "id": "s4OZD6NgYlgI",
    "outputId": "9356b50d-a5de-4cd0-eb08-86bfa31500e6"
   },
   "outputs": [
    {
     "data": {
      "text/plain": [
       "<Figure size 432x288 with 0 Axes>"
      ]
     },
     "metadata": {
      "tags": []
     },
     "output_type": "display_data"
    },
    {
     "data": {
      "image/png": "[encoded data removed]",
      "text/plain": [
       "<Figure size 720x720 with 1 Axes>"
      ]
     },
     "metadata": {
      "tags": []
     },
     "output_type": "display_data"
    }
   ],
   "source": [
    "sns.set_style(\"darkgrid\", {\"axes.facecolor\": \".9\"})\n",
    "sns.set_context(\"notebook\", font_scale=1.25)\n",
    "plt.figure(1)\n",
    "plt.figure(figsize=(10,10))\n",
    "plt.plot(y_noise_aug[1], color = \"orange\")\n",
    "plt.plot(X[1],  color = \"gray\", alpha = 0.9)\n",
    "plt.title(\"Data augmentation: rumore gaussiano con varianza 0.08\")\n",
    "plt.legend(loc=\"upper right\", labels = [\"Segnale trasformato\", \"Segnale originale\"])\n",
    "plt.savefig('/content/drive/My Drive/Dataset/dataaug_gauss.png')\n",
    "plt.show()"
   ]
  },
  {
   "cell_type": "code",
   "execution_count": 0,
   "metadata": {
    "colab": {},
    "colab_type": "code",
    "id": "_ZhPRyzBXi1S"
   },
   "outputs": [],
   "source": [
    "y_shift_aug_dx = []\n",
    "for i in x_copy:\n",
    "    y_shift = i\n",
    "    timeshift_fac = 0.3*(np.random.uniform()-0.2)  # up to 20% of length\n",
    "    start = int(y_shift.shape[0] * timeshift_fac)\n",
    "    if (start > 0):\n",
    "        y_shift = np.pad(y_shift,(start,0),mode='constant')[0:y_shift.shape[0]]\n",
    "        y_shift_aug_dx.append(y_shift)\n",
    "    else:\n",
    "        y_shift = np.pad(y_shift,(-start,0),mode='constant')[0:y_shift.shape[0]]\n",
    "        y_shift_aug_dx.append(y_shift)\n",
    "\n",
    "Audio(y_shift_aug_dx[1], rate=44100)\n",
    "Audio(X[1], rate=44100)\n",
    "\n",
    "\n",
    "new_x = np.concatenate([X, np.array(y_noise_aug), np.array(y_shift_aug_dx)], axis = 0)\n",
    "new_y_chi = np.concatenate([y_chi, y_chi, y_chi], axis = 0)\n",
    "new_y_cosa = np.concatenate([y_cosa, y_cosa, y_cosa], axis = 0)\n",
    "df1 = pd.DataFrame(new_y_cosa)\n",
    "import seaborn as sns\n",
    "#sns.countplot(x=0, data=df1)\n"
   ]
  },
  {
   "cell_type": "code",
   "execution_count": 28,
   "metadata": {
    "colab": {
     "base_uri": "https://localhost:8080/",
     "height": 633
    },
    "colab_type": "code",
    "id": "gPTxDnxOZmoX",
    "outputId": "94f58775-0b57-4ffd-e441-31a06af77f40"
   },
   "outputs": [
    {
     "data": {
      "text/plain": [
       "<Figure size 432x288 with 0 Axes>"
      ]
     },
     "metadata": {
      "tags": []
     },
     "output_type": "display_data"
    },
    {
     "data": {
      "image/png": "[encoded data removed]",
      "text/plain": [
       "<Figure size 720x720 with 1 Axes>"
      ]
     },
     "metadata": {
      "tags": []
     },
     "output_type": "display_data"
    }
   ],
   "source": [
    "sns.set_style(\"darkgrid\", {\"axes.facecolor\": \".9\"})\n",
    "sns.set_context(\"notebook\", font_scale=1.25)\n",
    "plt.figure(1)\n",
    "plt.figure(figsize=(10,10))\n",
    "plt.plot(X[1], color = \"gray\")\n",
    "plt.plot(y_shift_aug_dx[1], color = \"orange\", alpha = 0.9)\n",
    "plt.title(\"Data augmentation: random shifting del 20%\")\n",
    "plt.legend(loc=\"upper right\", labels = [\"Segnale originale\", \"Segnale trasformato\"])\n",
    "plt.savefig('/content/drive/My Drive/Dataset/dataaug_shift.png')\n",
    "plt.show()"
   ]
  },
  {
   "cell_type": "code",
   "execution_count": 0,
   "metadata": {
    "colab": {},
    "colab_type": "code",
    "id": "6KJ1ewwgZSE2"
   },
   "outputs": [],
   "source": [
    "sex = np.concatenate([df.Sesso, df.Sesso, df.Sesso], axis = 0)"
   ]
  },
  {
   "cell_type": "markdown",
   "metadata": {
    "colab_type": "text",
    "id": "gbNOxfa1Xi1U"
   },
   "source": [
    "# Features extraction da ciascun suono "
   ]
  },
  {
   "cell_type": "code",
   "execution_count": 0,
   "metadata": {
    "colab": {},
    "colab_type": "code",
    "id": "PA6CE9AGXi1X"
   },
   "outputs": [],
   "source": [
    "import librosa\n",
    "\n",
    "def feat_prova(X):\n",
    "    sample_rate = 44100\n",
    "    # short term fourier transform: represents a signal in the time-frequency domain by computing discrete Fourier transforms (DFT) over short overlapping windows.\n",
    "    stft = np.abs(librosa.stft(X))\n",
    "    \n",
    "    # mfcc (mel-frequency cepstrum) The mel frequency cepstral coefficients (MFCCs) of a signal are a small set of features (usually about 10-20) which concisely describe the overall shape of a spectral envelope.\n",
    "    mfccs = np.mean(librosa.feature.mfcc(y=X, sr=sample_rate, n_mfcc=40).T,axis=0)\n",
    "\n",
    "    # chroma \n",
    "    chroma = np.mean(librosa.feature.chroma_stft(S=stft, sr=sample_rate).T,axis=0)\n",
    "\n",
    "    # melspectrogram It partitions the Hz scale into bins, and transforms each bin into a corresponding bin in the Mel Scale, using a overlapping triangular filters.\n",
    "    mel = np.mean(librosa.feature.melspectrogram(X, sr=sample_rate).T,axis=0)\n",
    "\n",
    "    # spectral contrast Each frame of a spectrogram S is divided into sub-bands. For each sub-band, the energy contrast is estimated by comparing the mean energy in the top quantile (peak energy) to that of the bottom quantile (valley energy). High contrast values generally correspond to clear, narrow-band signals, while low contrast values correspond to broad-band noise.\n",
    "    contrast = np.mean(librosa.feature.spectral_contrast(S=stft, sr=sample_rate).T,axis=0)\n",
    "\n",
    "    tonnetz = np.mean(librosa.feature.tonnetz(y=librosa.effects.harmonic(X), sr=sample_rate).T,axis=0)\n",
    "    \n",
    "    return mfccs,chroma,mel,contrast,tonnetz"
   ]
  },
  {
   "cell_type": "markdown",
   "metadata": {
    "colab_type": "text",
    "id": "dcUvwKGDXi1d"
   },
   "source": [
    "# Senza multiprocessing"
   ]
  },
  {
   "cell_type": "code",
   "execution_count": 0,
   "metadata": {
    "colab": {
     "base_uri": "https://localhost:8080/",
     "height": 51
    },
    "colab_type": "code",
    "id": "uJ2NZ4zNXi1d",
    "outputId": "8e4ad47c-81dd-4ea0-b170-c089d21eb0a3"
   },
   "outputs": [
    {
     "name": "stderr",
     "output_type": "stream",
     "text": [
      "/usr/local/lib/python3.6/dist-packages/librosa/core/pitch.py:145: UserWarning: Trying to estimate tuning from empty frequency set.\n",
      "  warnings.warn('Trying to estimate tuning from empty frequency set.')\n"
     ]
    }
   ],
   "source": [
    "mfccs_lista = []\n",
    "chroma_lista = []\n",
    "mel_lista = []\n",
    "contrast_lis = []\n",
    "ton_lis = []\n",
    "\n",
    "for i in new_x:\n",
    "    mfccs,chroma,mel,contrast,tonnetz = feat_prova(i)\n",
    "    mfccs_lista.append(mfccs)\n",
    "    chroma_lista.append(chroma)\n",
    "    mel_lista.append(mel)\n",
    "    contrast_lis.append(contrast)\n",
    "    ton_lis.append(tonnetz)\n",
    "\n",
    "mfccs_list = np.array(mfccs_lista)\n",
    "chroma_lista = np.array(chroma_lista)\n",
    "mel_lista = np.array(mel_lista)\n",
    "contrast_lis= np.array(contrast_lis)\n",
    "ton_lis = np.array(ton_lis)\n"
   ]
  },
  {
   "cell_type": "markdown",
   "metadata": {},
   "source": [
    "## Multiprocessing"
   ]
  },
  {
   "cell_type": "code",
   "execution_count": null,
   "metadata": {},
   "outputs": [],
   "source": [
    "import time\n",
    "import warnings\n",
    "warnings.filterwarnings('ignore')\n",
    "\n",
    "import multiprocessing as mp\n",
    "\n",
    "start_time = time.time()\n",
    "\n",
    "if __name__ == '__main__':\n",
    "    p = mp.Pool(processes = mp.cpu_count())\n",
    "    result = p.map(feat_prova, new_x)\n",
    "    p.close()\n",
    "    p.join()\n",
    "\n",
    "end_time = time.time()\n",
    "print(\"Elapsed time was %g seconds\" % (end_time - start_time))\n",
    "\n",
    "mfccs_lista = np.expand_dims(result[0][0], axis = 0)\n",
    "chroma_lista = np.expand_dims(result[0][1], axis = 0)\n",
    "mel_lista = np.expand_dims(result[0][2], axis = 0)\n",
    "contrast_lis = np.expand_dims(result[0][3], axis = 0)\n",
    "ton_lis = np.expand_dims(result[0][4], axis = 0)\n",
    "for i in range(0,len(result)):\n",
    "    mfccs_lista = np.concatenate([mfccs_lista,np.expand_dims(result[i][0], axis = 0)], axis = 0)\n",
    "    chroma_lista = np.concatenate([chroma_lista,np.expand_dims(result[i][1], axis = 0)], axis = 0)\n",
    "    mel_lista = np.concatenate([mel_lista,np.expand_dims(result[i][2], axis = 0)], axis = 0)\n",
    "    contrast_lis = np.concatenate([contrast_lis,np.expand_dims(result[i][3], axis = 0)], axis = 0)\n",
    "    ton_lis = np.concatenate([ton_lis,np.expand_dims(result[i][4], axis = 0)], axis = 0)"
   ]
  },
  {
   "cell_type": "code",
   "execution_count": 0,
   "metadata": {
    "colab": {},
    "colab_type": "code",
    "id": "cHT-mQuJXi1f"
   },
   "outputs": [],
   "source": [
    "features2 = np.concatenate([mfccs_lista,chroma_lista,mel_lista, contrast_lis], axis = 1)"
   ]
  },
  {
   "cell_type": "code",
   "execution_count": 0,
   "metadata": {
    "colab": {},
    "colab_type": "code",
    "id": "eEam7LbSZwlT"
   },
   "outputs": [],
   "source": [
    "from sklearn.preprocessing import StandardScaler, LabelEncoder, MinMaxScaler\n",
    "\n",
    "encoder = LabelEncoder()\n",
    "y_cosa_dummy = encoder.fit_transform(new_y_cosa)\n",
    "\n",
    "encoder2 = LabelEncoder()\n",
    "y_chi_dummy = encoder2.fit_transform(new_y_chi)"
   ]
  },
  {
   "cell_type": "code",
   "execution_count": 0,
   "metadata": {
    "colab": {},
    "colab_type": "code",
    "id": "yPgLuCOYZeH4"
   },
   "outputs": [],
   "source": [
    "feat = pd.DataFrame(features2)\n",
    "feat[\"Chi\"] = y_chi_dummy\n",
    "feat[\"Cosa\"] = y_cosa_dummy\n",
    "feat[\"sex\"] = sex"
   ]
  },
  {
   "cell_type": "code",
   "execution_count": 0,
   "metadata": {
    "colab": {},
    "colab_type": "code",
    "id": "gljWxKd5Zd-P"
   },
   "outputs": [],
   "source": [
    "#shuffle dei dati:\n",
    "feat = feat.sample(frac=1, random_state = 1).reset_index(drop=True)"
   ]
  },
  {
   "cell_type": "markdown",
   "metadata": {
    "colab_type": "text",
    "id": "wdMks7V7Xi1i"
   },
   "source": [
    "# Modello con classe persona che parla "
   ]
  },
  {
   "cell_type": "code",
   "execution_count": 0,
   "metadata": {
    "colab": {
     "base_uri": "https://localhost:8080/",
     "height": 34
    },
    "colab_type": "code",
    "id": "BnxvJ4ARWmPZ",
    "outputId": "1538db8d-a946-4779-c463-9b5169c1483e"
   },
   "outputs": [
    {
     "data": {
      "text/plain": [
       "'1.17.5'"
      ]
     },
     "execution_count": 220,
     "metadata": {
      "tags": []
     },
     "output_type": "execute_result"
    }
   ],
   "source": [
    "from sklearn.model_selection import train_test_split\n",
    "X_train, X_test, y_train, y_test = train_test_split(feat.iloc[:,0:187].values, feat.Chi.values,\n",
    "                                                    stratify=feat[\"Chi\"],test_size=0.3, random_state = 5)\n",
    "from sklearn.preprocessing import StandardScaler, LabelEncoder, MinMaxScaler\n",
    "sst = StandardScaler()\n",
    "X_train = sst.fit_transform(X_train)\n",
    "X_test = sst.transform(X_test)\n",
    "from sklearn.externals.joblib import dump, load\n",
    "dump(sst, '/content/drive/My Drive/Dataset/std_scaler_modello_chi.bin', compress=True)\n",
    "import sklearn\n",
    "np.__version__"
   ]
  },
  {
   "cell_type": "code",
   "execution_count": 0,
   "metadata": {
    "colab": {},
    "colab_type": "code",
    "id": "Rj7DhwL_Xi1k"
   },
   "outputs": [],
   "source": [
    "from sklearn.neural_network import MLPClassifier\n",
    "from sklearn.ensemble import RandomForestClassifier,GradientBoostingClassifier\n",
    "from sklearn.model_selection import cross_val_score\n",
    "from sklearn.svm import SVC\n",
    "from sklearn.multiclass import OneVsOneClassifier\n",
    "from sklearn.metrics import accuracy_score\n",
    "from sklearn.model_selection import GridSearchCV\n",
    "from sklearn.linear_model import LogisticRegression\n",
    "from sklearn.gaussian_process.kernels import RBF\n",
    "from sklearn.gaussian_process import GaussianProcessClassifier\n",
    "from scipy.stats import uniform\n",
    "from sklearn.model_selection import StratifiedKFold\n",
    "import random\n",
    "from sklearn.model_selection import GridSearchCV, RandomizedSearchCV"
   ]
  },
  {
   "cell_type": "code",
   "execution_count": 0,
   "metadata": {
    "colab": {
     "base_uri": "https://localhost:8080/",
     "height": 221
    },
    "colab_type": "code",
    "id": "8lW4NGTaXi1m",
    "outputId": "eec47a4b-6067-48e2-e13f-029ced92a4ae"
   },
   "outputs": [
    {
     "name": "stdout",
     "output_type": "stream",
     "text": [
      " accuracy test:  0.9911764705882353\n",
      "Accuracy CV & variance:  0.9797544409613373 0.04647892657530666\n",
      "              precision    recall  f1-score   support\n",
      "\n",
      "           0       1.00      0.99      0.99        96\n",
      "           1       0.98      1.00      0.99        93\n",
      "           2       0.99      0.99      0.99       151\n",
      "\n",
      "    accuracy                           0.99       340\n",
      "   macro avg       0.99      0.99      0.99       340\n",
      "weighted avg       0.99      0.99      0.99       340\n",
      "\n"
     ]
    }
   ],
   "source": [
    "#clf = SVC(kernel = \"rbf\", gamma = 'auto')#OneVsRestClassifier(SVC(C=13, kernel='rbf', gamma = 'auto'))\n",
    "#clf = GradientBoostingClassifier(n_estimators=200, learning_rate=0.001)\n",
    "#clf = RandomForestClassifier(n_estimators=100)\n",
    "clf = MLPClassifier(activation=\"tanh\", solver = \"lbfgs\")\n",
    "#clf = LogisticRegression()\n",
    "scores = cross_val_score(clf, X_train, y_train, cv=9)\n",
    "clf.fit(X_train, y_train)\n",
    "test_pred = clf.predict(X_test)\n",
    "score2 = accuracy_score(y_test,test_pred)\n",
    "print(\" accuracy test: \", score2)\n",
    "print('Accuracy CV & variance: ', scores.mean(), scores.std() * 2)\n",
    "\n",
    "from sklearn.metrics import classification_report\n",
    "print(classification_report(test_pred, y_test))"
   ]
  },
  {
   "cell_type": "markdown",
   "metadata": {
    "colab_type": "text",
    "id": "qTzZiTnNXi1o"
   },
   "source": [
    "# Random Search:\n",
    "\n",
    "- Ottimizzazione parametri learning rate, momentum e numero di neuroni"
   ]
  },
  {
   "cell_type": "code",
   "execution_count": 0,
   "metadata": {
    "colab": {
     "base_uri": "https://localhost:8080/",
     "height": 68
    },
    "colab_type": "code",
    "id": "VCcHuTyiXi1o",
    "outputId": "aaed3c83-a4ce-463b-901a-3b8ce5432815"
   },
   "outputs": [
    {
     "name": "stdout",
     "output_type": "stream",
     "text": [
      "Elapsed time was 503.445 seconds\n",
      "Miglior configurazione: {'hidden_layer_sizes': 237, 'learning_rate_init': 0.004844383103044748, 'momentum': 0.23434964846117043, 'random_state': 138}\n",
      "Miglior accuratezza: 0.9861111111111112\n"
     ]
    }
   ],
   "source": [
    "import time\n",
    "start_time = time.time()\n",
    "clf_chi = MLPClassifier()\n",
    "parametri = {\"learning_rate_init\": uniform(0.0001, 0.1), \"momentum\": uniform(0.1, 0.9),\n",
    "             \"hidden_layer_sizes\":[random.randint(150,280)],\"random_state\":[random.randint(0,200)]}\n",
    "skfold = StratifiedKFold(n_splits = 9)\n",
    "clf_randomsearch = RandomizedSearchCV(clf_chi, parametri,n_iter = 50, cv = skfold, scoring = \"accuracy\")\n",
    "clf_randomsearch.fit(X_train, y_train)\n",
    "end_time = time.time( )\n",
    "print(\"Elapsed time was %g seconds\" % (end_time - start_time))\n",
    "print(\"Miglior configurazione: {}\\nMiglior accuratezza: {}\".format(clf_randomsearch.best_params_, clf_randomsearch.best_score_))"
   ]
  },
  {
   "cell_type": "code",
   "execution_count": 0,
   "metadata": {
    "colab": {
     "base_uri": "https://localhost:8080/",
     "height": 34
    },
    "colab_type": "code",
    "id": "ZprDVu47Xi1q",
    "outputId": "ced9c6ae-7f43-49fd-b5d0-426954c12539"
   },
   "outputs": [
    {
     "data": {
      "text/plain": [
       "0.44578241572720767"
      ]
     },
     "execution_count": 34,
     "metadata": {
      "tags": []
     },
     "output_type": "execute_result"
    }
   ],
   "source": [
    "param = clf_randomsearch.best_params_\n",
    "param['hidden_layer_sizes']\n",
    "param['learning_rate_init']\n",
    "param['momentum']"
   ]
  },
  {
   "cell_type": "code",
   "execution_count": 0,
   "metadata": {
    "colab": {
     "base_uri": "https://localhost:8080/",
     "height": 68
    },
    "colab_type": "code",
    "id": "zThI0plyXi1t",
    "outputId": "cb29ea57-9f08-4581-f02b-4805f786dbda"
   },
   "outputs": [
    {
     "name": "stdout",
     "output_type": "stream",
     "text": [
      " accuracy test:  0.9911764705882353\n",
      "Accuracy CV & variance:  0.9886363636363638 0.028345889293741953\n",
      "numero di neuroni: 230 learning rate: 0.001637408572971999 momentum: 0.44578241572720767\n"
     ]
    }
   ],
   "source": [
    "clf_chi = MLPClassifier(random_state=138, hidden_layer_sizes=(param['hidden_layer_sizes']), learning_rate_init=param['learning_rate_init'],\n",
    "                       momentum = param['momentum'])                  \n",
    "scores = cross_val_score(clf_chi, X_train, y_train, cv=skfold)\n",
    "clf_chi.fit(X_train, y_train)\n",
    "test_pred = clf_chi.predict(X_test)\n",
    "score2 = accuracy_score(y_test,test_pred)\n",
    "print(\" accuracy test: \", score2)\n",
    "print('Accuracy CV & variance: ', scores.mean(), scores.std() * 2)\n",
    "print(\"numero di neuroni: \" + str(param['hidden_layer_sizes']),\n",
    "\"learning rate: \"+str(param['learning_rate_init']),\n",
    "\"momentum: \"+str(param['momentum']))"
   ]
  },
  {
   "cell_type": "markdown",
   "metadata": {
    "colab_type": "text",
    "id": "4A9mOoCfXi1v"
   },
   "source": [
    "# AutoML"
   ]
  },
  {
   "cell_type": "code",
   "execution_count": 0,
   "metadata": {
    "colab": {},
    "colab_type": "code",
    "id": "a0ATfC-LXi1v"
   },
   "outputs": [],
   "source": [
    "seme_fisso = 112220"
   ]
  },
  {
   "cell_type": "markdown",
   "metadata": {
    "colab_type": "text",
    "id": "DdbnAG96Xi1x"
   },
   "source": [
    "# Modello surrogato Gaussian Process\n",
    "\n",
    "- Ottimizzazione learning rate e momentum"
   ]
  },
  {
   "cell_type": "code",
   "execution_count": 0,
   "metadata": {
    "colab": {},
    "colab_type": "code",
    "id": "Gv3yN42wXi1x"
   },
   "outputs": [],
   "source": [
    "conf_space = ConfigurationSpace()\n",
    "\n",
    "learning_r = UniformFloatHyperparameter(\"learning_rate_init\", 0.01, 0.1)\n",
    "momentum = UniformFloatHyperparameter(\"momentum\",  0.1, 0.9)\n",
    "\n",
    "print(\"Parametri da ottimizzare: \")\n",
    "conf_space.add_hyperparameters([learning_r, momentum])\n",
    "\n",
    "#Inizializziamo una configurazione iniziale degli iper-parametri:\n",
    "inititial_des = conf_space.sample_configuration(5)\n",
    "\n",
    "default_cfg = conf_space.get_default_configuration()\n",
    "\n",
    "def get_error_nn(param):\n",
    "    set_seed = int(param['momentum']*param['learning_rate_init']*5000)\n",
    "    mlp = MLPClassifier(hidden_layer_sizes = (210,),momentum = param[\"momentum\"],\n",
    "                        learning_rate_init=param[\"learning_rate_init\"],\n",
    "                        random_state = set_seed)\n",
    "    strat = StratifiedKFold(n_splits = 9, random_state = seme_fisso)\n",
    "    scores = cross_val_score(mlp, X_train, y_train, cv = strat, scoring = 'accuracy')\n",
    "    return 1 - np.mean(scores)\n",
    "\n",
    "\n",
    "#Scenario\n",
    "scen = Scenario({\"run_obj\": \"quality\",\n",
    "                     \"runcount-limit\": 25,\n",
    "                     \"cs\": conf_space,\n",
    "                     \"deterministic\": \"True\",\n",
    "                     \"abort_on_first_run_crash\":\"False\",\n",
    "                     })\n",
    "\n",
    "smac_lcb = SMAC4BO(scenario = scen,tae_runner = get_error_nn,initial_design = None,\n",
    "               initial_design_kwargs = {'max_config_fracs': 5/25},\n",
    "               initial_configurations = inititial_des,acquisition_function = LCB)\n",
    "\n",
    "incumbent = smac_lcb.optimize()\n",
    "\n",
    "inc_value_lcb = get_error_nn(incumbent)\n",
    "print(\"Optimized Value accuracy: %.4f\" % (1-inc_value_lcb))"
   ]
  },
  {
   "cell_type": "markdown",
   "metadata": {
    "colab_type": "text",
    "id": "5zjyCOWMXi12"
   },
   "source": [
    "# Modello surrogato Random Forest:\n",
    "\n",
    "- Ottimizzazione sul numero di neuroni, learning rate, momentum"
   ]
  },
  {
   "cell_type": "code",
   "execution_count": 0,
   "metadata": {
    "colab": {},
    "colab_type": "code",
    "id": "RnpDKiA5Xi12"
   },
   "outputs": [],
   "source": [
    "# Inizializzo configuration space\n",
    "conf_space = ConfigurationSpace()\n",
    "one_layer = UniformIntegerHyperparameter(\"h1\", 150, 280)\n",
    "#second_layer = UniformIntegerHyperparameter(\"h2\", 1, 5)\n",
    "momentum = UniformFloatHyperparameter(\"momentum\", 0.1, 0.9, default_value = 0.9)\n",
    "learning_r = UniformFloatHyperparameter(\"learning_rate_init\", 0.0001, 0.1)\n",
    "activation_fun = CategoricalHyperparameter(\"activation\", [\"relu\", \"tanh\", \"logistic\"], default_value=\"relu\")\n",
    "solver_fun = CategoricalHyperparameter(\"solver\",[\"lbfgs\", \"sgd\", \"adam\"], default_value = \"adam\")\n",
    "learning_rate = CategoricalHyperparameter(\"learning_rate\",[\"constant\", \"invscaling\", \"adaptive\"], default_value = \"adaptive\")\n",
    "\n",
    "conf_space.add_hyperparameters([one_layer, momentum,learning_r])\n",
    "random_f_init = conf_space.sample_configuration(5)"
   ]
  },
  {
   "cell_type": "code",
   "execution_count": 0,
   "metadata": {
    "colab": {},
    "colab_type": "code",
    "id": "yHnUNSTIXi14"
   },
   "outputs": [],
   "source": [
    "def get_error_nn(param):\n",
    "    adactive_seed = int(param['momentum']*param['learning_rate_init']*6000)\n",
    "    mlp = MLPClassifier(hidden_layer_sizes = (param[\"h1\"],),momentum = param[\"momentum\"],\n",
    "                        learning_rate_init=param[\"learning_rate_init\"],\n",
    "                        random_state = adactive_seed, max_iter =500)\n",
    "    strat = StratifiedKFold(n_splits = 9, random_state = 138)\n",
    "    scores = cross_val_score(mlp, X_train, y_train, cv = strat, scoring = 'accuracy')\n",
    "    return 1 - np.mean(scores)"
   ]
  },
  {
   "cell_type": "code",
   "execution_count": null,
   "metadata": {},
   "outputs": [],
   "source": [
    "scen = Scenario({\"run_obj\": \"quality\",\"runcount-limit\": 50,\n",
    "                 \"cs\": conf_space,\"deterministic\": \"true\"\n",
    "                     })\n",
    "\n",
    "smac_rf_lcb = SMAC4HPO(scenario = scen,tae_runner = get_error_nn,initial_design = None,\n",
    "               initial_design_kwargs = {'max_config_fracs': 5/50},\n",
    "               initial_configurations = random_f_init,acquisition_function = LCB,\n",
    "               )\n",
    "incumbent3 = smac_rf_lcb.optimize()\n",
    "inc_value_LCB = get_error_nn(incumbent3)\n",
    "\n",
    "print(\"Optimized Value: %.4f\" % (1-inc_value_LCB))"
   ]
  },
  {
   "cell_type": "code",
   "execution_count": null,
   "metadata": {},
   "outputs": [],
   "source": [
    "smac_rf_ei = SMAC4HPO(scenario = scen,tae_runner = get_error_nn,initial_design = None,\n",
    "               initial_design_kwargs = {'max_config_fracs': 5/50},\n",
    "               initial_configurations = random_f_init,acquisition_function = EI,\n",
    "               )\n",
    "incumbent4 = smac_rf_ei.optimize()\n",
    "inc_value_ei = get_error_nn(incumbent4)\n",
    "\n",
    "print(\"Optimized Value: %.4f\" % (1-inc_value_ei))"
   ]
  },
  {
   "cell_type": "code",
   "execution_count": 0,
   "metadata": {
    "colab": {
     "base_uri": "https://localhost:8080/",
     "height": 221
    },
    "colab_type": "code",
    "id": "EwESZwB_svzi",
    "outputId": "0e8eef46-0b1c-420a-c809-2199ea72919b"
   },
   "outputs": [
    {
     "name": "stdout",
     "output_type": "stream",
     "text": [
      " accuracy test:  0.9911764705882353\n",
      "Accuracy CV & variance:  0.9886363636363638 0.028345889293741953\n",
      "              precision    recall  f1-score   support\n",
      "\n",
      "           0       1.00      0.97      0.98        98\n",
      "           1       0.98      1.00      0.99        93\n",
      "           2       0.99      1.00      1.00       149\n",
      "\n",
      "    accuracy                           0.99       340\n",
      "   macro avg       0.99      0.99      0.99       340\n",
      "weighted avg       0.99      0.99      0.99       340\n",
      "\n"
     ]
    }
   ],
   "source": [
    "#clf = SVC(kernel = \"rbf\", gamma = 'auto')#OneVsRestClassifier(SVC(C=13, kernel='rbf', gamma = 'auto'))\n",
    "#clf = GradientBoostingClassifier(n_estimators=200, learning_rate=0.001)\n",
    "#clf = RandomForestClassifier(n_estimators=100)\n",
    "clf = MLPClassifier(random_state=0, hidden_layer_sizes=(201), learning_rate_init = 0.00019976837106385487, momentum = 0.8591409459402819, max_iter = 500)\n",
    "#clf = LogisticRegression()\n",
    "scores = cross_val_score(clf, X_train, y_train, cv=skfold)\n",
    "clf.fit(X_train, y_train)\n",
    "test_pred = clf.predict(X_test)\n",
    "score2 = accuracy_score(y_test,test_pred)\n",
    "print(\" accuracy test: \", score2)\n",
    "print('Accuracy CV & variance: ', scores.mean(), scores.std() * 2)\n",
    "\n",
    "from sklearn.metrics import classification_report\n",
    "print(classification_report(test_pred, y_test))"
   ]
  },
  {
   "cell_type": "code",
   "execution_count": 0,
   "metadata": {
    "colab": {
     "base_uri": "https://localhost:8080/",
     "height": 34
    },
    "colab_type": "code",
    "id": "DSigwOw5Hp6M",
    "outputId": "1caf7b8f-4102-4537-f513-ea6f2e8190e0"
   },
   "outputs": [
    {
     "data": {
      "text/plain": [
       "['/content/drive/My Drive/Dataset/modello_chi_finale.joblib']"
      ]
     },
     "execution_count": 216,
     "metadata": {
      "tags": []
     },
     "output_type": "execute_result"
    }
   ],
   "source": [
    "from joblib import dump, load\n",
    "dump(clf, '/content/drive/My Drive/Dataset/modello_chi_finale.joblib') "
   ]
  },
  {
   "cell_type": "markdown",
   "metadata": {
    "colab_type": "text",
    "id": "lpGGwB71aEiQ"
   },
   "source": [
    "# Viz ottimizzazione modello 1"
   ]
  },
  {
   "cell_type": "code",
   "execution_count": 0,
   "metadata": {
    "colab": {
     "base_uri": "https://localhost:8080/",
     "height": 34
    },
    "colab_type": "code",
    "id": "9wzjv6Uu9jMl",
    "outputId": "0bbcfa37-e8c4-4e67-b49a-ab1ef041ee1d"
   },
   "outputs": [
    {
     "data": {
      "text/plain": [
       "'0.22.1'"
      ]
     },
     "execution_count": 1,
     "metadata": {
      "tags": []
     },
     "output_type": "execute_result"
    }
   ],
   "source": [
    "import sklearn\n",
    "sklearn.__version__"
   ]
  },
  {
   "cell_type": "code",
   "execution_count": 0,
   "metadata": {
    "colab": {},
    "colab_type": "code",
    "id": "6kCMC6AKZ7Rc"
   },
   "outputs": [],
   "source": [
    "result_lcb = 1-smac_rf_lcb.get_X_y()[1]\n",
    "result_ei = 1-smac_rf_ei.get_X_y()[1]\n",
    "result_random_search = clf_randomsearch.cv_results_['mean_test_score']\n",
    "def change_max(x):\n",
    "    global top_v\n",
    "    if x >= top_v:\n",
    "        top_v = x\n",
    "        return x\n",
    "    else:\n",
    "        return top_v\n",
    "top_v = 0\n",
    "lista_res_lcb = [change_max(i) for i in result_lcb]\n",
    "top_v = 0\n",
    "lista_res_ei = [change_max(i) for i in result_ei]\n",
    "top_v = 0\n",
    "lista_res_rs = [change_max(i) for i in result_random_search]"
   ]
  },
  {
   "cell_type": "code",
   "execution_count": 0,
   "metadata": {
    "colab": {
     "base_uri": "https://localhost:8080/",
     "height": 363
    },
    "colab_type": "code",
    "id": "xU0hpVrzZ_IC",
    "outputId": "8ccfd93b-d685-4baa-9b03-b9a73f1ccc71"
   },
   "outputs": [
    {
     "data": {
      "image/png": "[encoded data removed]",
      "text/plain": [
       "<Figure size 720x360 with 1 Axes>"
      ]
     },
     "metadata": {
      "tags": []
     },
     "output_type": "display_data"
    }
   ],
   "source": [
    "import matplotlib.pyplot as plt\n",
    "sns.set_style(\"darkgrid\", {\"axes.facecolor\": \".9\"})\n",
    "sns.set_context(\"notebook\", font_scale=1.25)\n",
    "plt.figure(figsize = (10,5))\n",
    "plt.plot(lista_res_ei, marker = \"o\", color = \"orange\")\n",
    "plt.plot(lista_res_lcb, marker = \"o\", color = \"green\")\n",
    "#plt.plot(lista_res_gs, marker = \"o\", color = \"red\")\n",
    "plt.plot(lista_res_rs, marker = \"o\", color = \"blue\")\n",
    "plt.legend([\"EI\",\"LCB\",\"Random Search\"])\n",
    "plt.xlabel(\"Numero di iterazioni\")\n",
    "plt.title(\"Ottimizzazione del modello sul riconoscimento vocale di chi parla\" )\n",
    "plt.ylabel(\"Accuratezza\")\n",
    "plt.savefig('/content/drive/My Drive/Dataset/ottimizzazione_chi3.png')"
   ]
  },
  {
   "cell_type": "markdown",
   "metadata": {
    "colab_type": "text",
    "id": "Tnf7jDr5Xi17"
   },
   "source": [
    "## Modello per la classe delle richieste"
   ]
  },
  {
   "cell_type": "code",
   "execution_count": 0,
   "metadata": {
    "colab": {},
    "colab_type": "code",
    "id": "BIJAE9FTXi17"
   },
   "outputs": [],
   "source": [
    "from sklearn.model_selection import train_test_split\n",
    "X_train, X_test, y_train, y_test = train_test_split(feat.iloc[:,0:187].values, feat.Cosa.values,\n",
    "                                                    stratify=feat[\"Cosa\"],test_size=0.3, random_state = 20)\n",
    "from sklearn.preprocessing import StandardScaler, LabelEncoder, MinMaxScaler\n",
    "sst = StandardScaler()\n",
    "X_train = sst.fit_transform(X_train)\n",
    "X_test = sst.transform(X_test)\n",
    "from sklearn.externals.joblib import dump, load\n",
    "dump(sst, '/content/drive/My Drive/Dataset/std_scaler_modello_cosa.bin', compress=True)"
   ]
  },
  {
   "cell_type": "code",
   "execution_count": null,
   "metadata": {},
   "outputs": [],
   "source": [
    "import time \n",
    "start_time = time.time() \n",
    "clf_cosa = MLPClassifier() \n",
    "parametri = { \"momentum\": uniform(0.1, 0.6), 'learning_rate_init': uniform(0.0001, 0.1), \n",
    "             \"hidden_layer_sizes\": [random.randint(150,300)],\"random_state\":[random.randint(0,20000)]} #,\"random_state\":[random.randint(0,20000)]\n",
    "\n",
    "skfold = StratifiedKFold(n_splits = 9)\n",
    "clf_randomsearch = RandomizedSearchCV(clf_cosa, parametri,n_iter = 100, cv = skfold, scoring = \"accuracy\") \n",
    "clf_randomsearch.fit(X_train, y_train) \n",
    "end_time = time.time() \n",
    "print(\"Elapsed time was %g seconds\" % (end_time - start_time)) \n",
    "print(\"Miglior configurazione: {}\\nMiglior accuratezza: {}\".format(clf_randomsearch.best_params_, clf_randomsearch.best_score_))"
   ]
  },
  {
   "cell_type": "markdown",
   "metadata": {
    "colab_type": "text",
    "id": "kvfDSXw9Xi2A"
   },
   "source": [
    "- Modello con parametri migliori dopo random search"
   ]
  },
  {
   "cell_type": "code",
   "execution_count": null,
   "metadata": {},
   "outputs": [],
   "source": [
    "from sklearn.metrics import classification_report\n",
    "clf = MLPClassifier()\n",
    "#clf = LogisticRegression()\n",
    "scores = cross_val_score(clf, X_train, y_train, cv=9)\n",
    "clf.fit(X_train, y_train)\n",
    "test_pred = clf.predict(X_test)\n",
    "score2 = accuracy_score(y_test,test_pred)\n",
    "print(\" accuracy test: \", score2)\n",
    "print('Accuracy CV & variance: ', scores.mean(), scores.std() * 2)\n",
    "print(classification_report(test_pred, y_test))"
   ]
  },
  {
   "cell_type": "markdown",
   "metadata": {
    "colab_type": "text",
    "id": "qq44vVA0-fGo"
   },
   "source": [
    "Senza random search"
   ]
  },
  {
   "cell_type": "code",
   "execution_count": null,
   "metadata": {},
   "outputs": [],
   "source": [
    "from sklearn.metrics import classification_report\n",
    "clf = MLPClassifier(random_state=23, hidden_layer_sizes=(150,))\n",
    "#clf = LogisticRegression()\n",
    "scores = cross_val_score(clf, X_train, y_train, cv=9)\n",
    "clf.fit(X_train, y_train)\n",
    "test_pred = clf.predict(X_test)\n",
    "score2 = accuracy_score(y_test,test_pred)\n",
    "print(\" accuracy test: \", score2)\n",
    "print('Accuracy CV & variance: ', scores.mean(), scores.std() * 2)\n",
    "print(classification_report(test_pred, y_test))"
   ]
  },
  {
   "cell_type": "markdown",
   "metadata": {
    "colab_type": "text",
    "id": "1gXyvJIkrAZG"
   },
   "source": [
    "# AutoMl:"
   ]
  },
  {
   "cell_type": "code",
   "execution_count": 0,
   "metadata": {
    "colab": {},
    "colab_type": "code",
    "id": "hEPYKAQ1q_7e"
   },
   "outputs": [],
   "source": [
    "# Inizializzo configuration space\n",
    "conf_space = ConfigurationSpace()\n",
    "\n",
    "one_layer = UniformIntegerHyperparameter(\"h1\", 150, 300)\n",
    "#second_layer = UniformIntegerHyperparameter(\"h2\", 0, 100)\n",
    "momentum = UniformFloatHyperparameter(\"momentum\", 0.1, 0.9)\n",
    "learning_r = UniformFloatHyperparameter(\"learning_rate_init\", 0.0001, 0.1)\n",
    "\n",
    "conf_space.add_hyperparameters([one_layer, momentum,learning_r])\n",
    "random_f_init = conf_space.sample_configuration(10)"
   ]
  },
  {
   "cell_type": "code",
   "execution_count": 0,
   "metadata": {
    "colab": {},
    "colab_type": "code",
    "id": "EeTOdeVYq_45"
   },
   "outputs": [],
   "source": [
    "def get_error_nn(param):\n",
    "    adactive_seed = int(param['momentum']*param['learning_rate_init']*5000)\n",
    "    mlp = MLPClassifier(hidden_layer_sizes = (param[\"h1\"]),momentum = param[\"momentum\"],\n",
    "                        learning_rate_init=param[\"learning_rate_init\"],\n",
    "                        random_state = adactive_seed)\n",
    "    strat = StratifiedKFold(n_splits = 9, random_state = 23)\n",
    "    scores = cross_val_score(mlp, X_train, y_train, cv = strat, scoring = 'accuracy')\n",
    "    return 1 - np.mean(scores)"
   ]
  },
  {
   "cell_type": "code",
   "execution_count": null,
   "metadata": {},
   "outputs": [],
   "source": [
    "scen = Scenario({\"run_obj\": \"quality\",\"runcount-limit\": 100,\n",
    "                 \"cs\": conf_space,\"deterministic\": \"true\"\n",
    "                     })\n",
    "\n",
    "smac_rf_lcb = SMAC4HPO(scenario = scen,tae_runner = get_error_nn,initial_design = None,\n",
    "               initial_design_kwargs = {'max_config_fracs': 10/100},\n",
    "               initial_configurations = random_f_init,acquisition_function = LCB,\n",
    "               )\n",
    "incumbent3 = smac_rf_lcb.optimize()\n",
    "inc_value_LCB = get_error_nn(incumbent3)\n",
    "\n",
    "print(\"Optimized Value: %.4f\" % (1-inc_value_LCB))"
   ]
  },
  {
   "cell_type": "code",
   "execution_count": 0,
   "metadata": {
    "colab": {},
    "colab_type": "code",
    "id": "ei_YTDjyEVgt"
   },
   "outputs": [],
   "source": [
    "smac_rf_ei = SMAC4HPO(scenario = scen,tae_runner = get_error_nn,initial_design = None,\n",
    "               initial_design_kwargs = {'max_config_fracs': 10/100},\n",
    "               initial_configurations = random_f_init,acquisition_function = EI,\n",
    "               )\n",
    "incumbent4 = smac_rf_ei.optimize()\n",
    "inc_value_ei = get_error_nn(incumbent4)\n",
    "\n",
    "print(\"Optimized Value: %.4f\" % (1-inc_value_ei))"
   ]
  },
  {
   "cell_type": "code",
   "execution_count": 0,
   "metadata": {
    "colab": {},
    "colab_type": "code",
    "id": "dHgJFeNKEVwX"
   },
   "outputs": [],
   "source": [
    "result_lcb = 1-smac_rf_lcb.get_X_y()[1]\n",
    "result_ei = 1-smac_rf_ei.get_X_y()[1]\n",
    "result_random_search = clf_randomsearch.cv_results_['mean_test_score']\n",
    "def change_max(x):\n",
    "    global top_v\n",
    "    if x >= top_v:\n",
    "        top_v = x\n",
    "        return x\n",
    "    else:\n",
    "        return top_v\n",
    "top_v = 0\n",
    "lista_res_lcb = [change_max(i) for i in result_lcb]\n",
    "top_v = 0\n",
    "lista_res_ei = [change_max(i) for i in result_ei]\n",
    "top_v = 0\n",
    "lista_res_rs = [change_max(i) for i in result_random_search]"
   ]
  },
  {
   "cell_type": "code",
   "execution_count": 0,
   "metadata": {
    "colab": {
     "base_uri": "https://localhost:8080/",
     "height": 363
    },
    "colab_type": "code",
    "id": "_UydWOG7EVwa",
    "outputId": "cd76c6c2-7fe8-4033-dd19-c02ec22a5467"
   },
   "outputs": [
    {
     "data": {
      "image/png": "[encoded data removed]",
      "text/plain": [
       "<Figure size 720x360 with 1 Axes>"
      ]
     },
     "metadata": {
      "tags": []
     },
     "output_type": "display_data"
    }
   ],
   "source": [
    "import matplotlib.pyplot as plt\n",
    "sns.set_style(\"darkgrid\", {\"axes.facecolor\": \".9\"})\n",
    "sns.set_context(\"notebook\", font_scale=1.25)\n",
    "plt.figure(figsize = (10,5))\n",
    "plt.plot(lista_res_ei, marker = \"o\", color = \"orange\")\n",
    "plt.plot(lista_res_lcb, marker = \"o\", color = \"green\")\n",
    "#plt.plot(lista_res_gs, marker = \"o\", color = \"red\")\n",
    "plt.plot(lista_res_rs, marker = \"o\", color = \"blue\")\n",
    "plt.legend([\"EI\",\"LCB\",\"Random Search\"])\n",
    "plt.xlabel(\"Numero di iterazioni\")\n",
    "plt.title(\"Ottimizzazione del modello sul riconoscimento della parola pronunciata\" )\n",
    "plt.ylabel(\"Accuratezza\")\n",
    "plt.savefig('/content/drive/My Drive/Dataset/ottimizzazione_chi4.png')"
   ]
  },
  {
   "cell_type": "code",
   "execution_count": 0,
   "metadata": {
    "colab": {
     "base_uri": "https://localhost:8080/",
     "height": 275
    },
    "colab_type": "code",
    "id": "itp6a5Qaq_zl",
    "outputId": "2c11de61-592d-4f6a-a478-de9a478bfd7e"
   },
   "outputs": [
    {
     "name": "stderr",
     "output_type": "stream",
     "text": [
      "/usr/local/lib/python3.6/dist-packages/sklearn/model_selection/_split.py:296: FutureWarning: Setting a random_state has no effect since shuffle is False. This will raise an error in 0.24. You should leave random_state to its default (None), or set shuffle=True.\n",
      "  FutureWarning\n"
     ]
    },
    {
     "name": "stdout",
     "output_type": "stream",
     "text": [
      " accuracy test:  0.9735294117647059\n",
      "Accuracy CV & variance:  0.9759520492279113 0.022808514933147075\n",
      "              precision    recall  f1-score   support\n",
      "\n",
      "           0       1.00      0.95      0.97       132\n",
      "           1       1.00      0.98      0.99        91\n",
      "           2       0.93      1.00      0.96       117\n",
      "\n",
      "    accuracy                           0.97       340\n",
      "   macro avg       0.98      0.97      0.97       340\n",
      "weighted avg       0.98      0.97      0.97       340\n",
      "\n"
     ]
    }
   ],
   "source": [
    "from sklearn.metrics import classification_report\n",
    "clf = MLPClassifier(random_state = 3,\n",
    "                    hidden_layer_sizes=(164), learning_rate_init=0.0009660602046093942,momentum = 0.6370467759611455, max_iter = 500)\n",
    "#clf = LogisticRegression()\n",
    "strat = StratifiedKFold(n_splits = 9, random_state = 23)\n",
    "scores = cross_val_score(clf, X_train, y_train, cv=strat)\n",
    "clf.fit(X_train, y_train)\n",
    "test_pred = clf.predict(X_test)\n",
    "score2 = accuracy_score(y_test,test_pred)\n",
    "print(\" accuracy test: \", score2)\n",
    "print('Accuracy CV & variance: ', scores.mean(), scores.std() * 2)\n",
    "print(classification_report(test_pred, y_test))"
   ]
  },
  {
   "cell_type": "code",
   "execution_count": 0,
   "metadata": {
    "colab": {
     "base_uri": "https://localhost:8080/",
     "height": 34
    },
    "colab_type": "code",
    "id": "bK5VqAy7q_pM",
    "outputId": "802050e0-c165-48c8-955e-58790b4250e5"
   },
   "outputs": [
    {
     "data": {
      "text/plain": [
       "['/content/drive/My Drive/Dataset/modello_cosa_finale.joblib']"
      ]
     },
     "execution_count": 47,
     "metadata": {
      "tags": []
     },
     "output_type": "execute_result"
    }
   ],
   "source": [
    "from joblib import dump, load\n",
    "dump(clf, '/content/drive/My Drive/Dataset/modello_cosa_finale.joblib') "
   ]
  },
  {
   "cell_type": "markdown",
   "metadata": {
    "colab_type": "text",
    "id": "jQQwiG9OXi2C"
   },
   "source": [
    "# Esportiamo i modelli"
   ]
  },
  {
   "cell_type": "code",
   "execution_count": 0,
   "metadata": {
    "colab": {},
    "colab_type": "code",
    "id": "Tt_TwEmHXi2C"
   },
   "outputs": [],
   "source": [
    "#esportiamo il modello\n",
    "from joblib import dump, load\n",
    "dump(clf, '/mnt/d/Data_Science_all/MSC_2_anno/PROGETTO_AML_DSIM/modello_cosa.joblib') \n",
    "#importiamo il modello\n",
    "#clf = load('filename.joblib') "
   ]
  }
 ],
 "metadata": {
  "colab": {
   "collapsed_sections": [],
   "name": "Progetto_audio_segnali_automl.ipynb",
   "provenance": []
  },
  "kernelspec": {
   "display_name": "Python 3",
   "language": "python",
   "name": "python3"
  },
  "language_info": {
   "codemirror_mode": {
    "name": "ipython",
    "version": 3
   },
   "file_extension": ".py",
   "mimetype": "text/x-python",
   "name": "python",
   "nbconvert_exporter": "python",
   "pygments_lexer": "ipython3",
   "version": "3.7.3"
  }
 },
 "nbformat": 4,
 "nbformat_minor": 1
}

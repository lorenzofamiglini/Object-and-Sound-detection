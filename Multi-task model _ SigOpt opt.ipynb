{
 "cells": [
  {
   "cell_type": "code",
   "execution_count": 2,
   "metadata": {},
   "outputs": [],
   "source": [
    "import tensorflow as tf\n",
    "import numpy as np\n",
    "import pandas as pd\n",
    "import matplotlib.pyplot as plt\n",
    "import cv2\n",
    "from PIL import Image\n",
    "import os\n",
    "import keras as ks\n",
    "from keras.preprocessing import image as kimage\n",
    "import skimage.io as io\n",
    "import random\n",
    "import sys\n",
    "import pickle as pkl\n",
    "from imblearn.keras import BalancedBatchGenerator\n",
    "from keras.utils import np_utils\n",
    "lib_path = os.path.join(os.path.realpath(r\"C:\\Users\\Giobi\\OneDrive - Universita degli Studi di Milano-Bicocca\\Digital Signal and Image Management\\Progetto Segnali Stradali\\DataAugmentationForObjectDetection-master\"), \"data_aug\")\n",
    "sys.path.append(lib_path)\n",
    "from bbox_util import *\n",
    "from data_aug import *\n",
    "from imblearn.under_sampling import NearMiss\n",
    "from sklearn.model_selection import train_test_split\n",
    "from keras.models import Sequential\n",
    "from keras.models import Model\n",
    "from keras.layers import Concatenate,Input, Dense, Flatten, Reshape, MaxPooling2D, Conv2D, GlobalMaxPooling2D, GlobalAveragePooling2D\n",
    "from keras.layers import Activation, Dense, Dropout, BatchNormalization, LeakyReLU\n",
    "from keras.optimizers import SGD\n",
    "from sklearn.metrics import confusion_matrix\n",
    "from sklearn.metrics import classification_report, explained_variance_score\n",
    "from imblearn.under_sampling import RandomUnderSampler\n",
    "from sklearn.utils import shuffle\n",
    "import skimage as sk\n",
    "from skimage import transform\n",
    "from skimage import util\n",
    "from keras import backend as K"
   ]
  },
  {
   "cell_type": "code",
   "execution_count": 3,
   "metadata": {},
   "outputs": [],
   "source": [
    "from sigopt import Connection\n",
    "conn = Connection(client_token=\"JQVTZXATLGBWVPBSFXFMTQJDQQGFJGNLBJKZNWOTTRVFGEMB\")"
   ]
  },
  {
   "cell_type": "markdown",
   "metadata": {},
   "source": [
    "## Import dei dati"
   ]
  },
  {
   "cell_type": "code",
   "execution_count": 5,
   "metadata": {},
   "outputs": [],
   "source": [
    "X = np.load(r'C:\\Users\\Giobi\\OneDrive - Universita degli Studi di Milano-Bicocca\\Digital Signal and Image Management\\Progetto Segnali Stradali\\X.npy')\n",
    "Y = np.load(r'C:\\Users\\Giobi\\OneDrive - Universita degli Studi di Milano-Bicocca\\Digital Signal and Image Management\\Progetto Segnali Stradali\\Y.npy')\n",
    "X_test = np.load(r'C:\\Users\\Giobi\\OneDrive - Universita degli Studi di Milano-Bicocca\\Digital Signal and Image Management\\Progetto Segnali Stradali\\X_test.npy')\n",
    "y_test = np.load(r'C:\\Users\\Giobi\\OneDrive - Universita degli Studi di Milano-Bicocca\\Digital Signal and Image Management\\Progetto Segnali Stradali\\y_test.npy')"
   ]
  },
  {
   "cell_type": "markdown",
   "metadata": {},
   "source": [
    "## Preprocessing"
   ]
  },
  {
   "cell_type": "code",
   "execution_count": 6,
   "metadata": {},
   "outputs": [],
   "source": [
    "opt = ks.optimizers.Nadam(lr=0.001, beta_1=0.9, beta_2=0.99)\n",
    "opt2 = SGD(lr=0.001, momentum=0.9, nesterov=True, decay=0.001) # lr = 0.01, decay=0.0001\n",
    "opt3 = ks.optimizers.RMSprop(lr=0.001, rho=0.9)\n",
    "opt4 = ks.optimizers.Adagrad(lr=0.01)\n",
    "opt5 = ks.optimizers.Adadelta(lr= 1.0, rho=0.95)\n",
    "opt6 = ks.optimizers.Adam(lr=0.0001, beta_1=0.9, beta_2=0.999, amsgrad=False)\n",
    "opt7 = ks.optimizers.Adamax(lr=0.002, beta_1=0.9, beta_2=0.999)"
   ]
  },
  {
   "cell_type": "markdown",
   "metadata": {},
   "source": [
    "L'array y_train ha i seguenti valori:\n",
    "- è un segnale? si = 1, no = 0 (binaria)\n",
    "- 0...43 classi\n",
    "- rx1\n",
    "- rx2\n",
    "- ry1\n",
    "- ry2"
   ]
  },
  {
   "cell_type": "code",
   "execution_count": 7,
   "metadata": {},
   "outputs": [],
   "source": [
    "Y = Y[:, 1:] #visto che sono tutti segnali, elimino la prima colonna (quella che dice se c'è o meno il segnale)    \n",
    "y_test = y_test[:, 1:]"
   ]
  },
  {
   "cell_type": "code",
   "execution_count": 8,
   "metadata": {},
   "outputs": [],
   "source": [
    "#X_train, X_val, y_train, y_val = train_test_split(X, Y, test_size=0.2, stratify = Y[:, 0:43], shuffle = True) #ho controllato che la stratificazione è giusta\n",
    "#X_train = X_train/255\n",
    "#X_test = X_test/255\n",
    "#X_val = X_val/255"
   ]
  },
  {
   "cell_type": "code",
   "execution_count": 9,
   "metadata": {},
   "outputs": [],
   "source": [
    "y_train = Y.copy()\n",
    "X_train = X.copy()\n",
    "X_train = X_train/255\n",
    "X_test = X_test/255\n",
    "X_train, y_train = shuffle(X_train, y_train)"
   ]
  },
  {
   "cell_type": "code",
   "execution_count": 8,
   "metadata": {},
   "outputs": [],
   "source": [
    "def random_noise(image_array):\n",
    "    # add random noise to the image\n",
    "    return sk.util.random_noise(image_array, var = 0.001)\n",
    "def augmentation(immagini, y):\n",
    "    inter = [cv2.INTER_NEAREST, cv2.INTER_LINEAR, cv2.INTER_LANCZOS4]\n",
    "    for i in range(0, immagini.shape[0]):\n",
    "        down = cv2.resize(immagini[i], (30,30), interpolation = random.choice(inter))\n",
    "        immagini[i] = cv2.resize(down, (40,40))\n",
    "        immagini[i] = random_noise(immagini[i])\n",
    "    return immagini, y"
   ]
  },
  {
   "cell_type": "code",
   "execution_count": 9,
   "metadata": {},
   "outputs": [],
   "source": [
    "X_train, y_train = augmentation(X_train, y_train)"
   ]
  },
  {
   "cell_type": "markdown",
   "metadata": {},
   "source": [
    "# Funzioni Utili"
   ]
  },
  {
   "cell_type": "code",
   "execution_count": 10,
   "metadata": {},
   "outputs": [],
   "source": [
    "def new_draw_rect(img, bboxes):\n",
    "    x1 = bboxes[0]\n",
    "    y1 = bboxes[1]\n",
    "    x2 = bboxes[2]\n",
    "    y2 = bboxes[3]\n",
    "    new_bb = np.array([[x1, y1, x2, y2, 0]])\n",
    "    plt.imshow(draw_rect(img, new_bb))"
   ]
  },
  {
   "cell_type": "code",
   "execution_count": 11,
   "metadata": {},
   "outputs": [],
   "source": [
    "def find_area(arr):\n",
    "    width = arr[2] - arr[0]\n",
    "    height = arr[1] - arr[3]\n",
    "    area = width * height\n",
    "    return area"
   ]
  },
  {
   "cell_type": "code",
   "execution_count": 12,
   "metadata": {},
   "outputs": [],
   "source": [
    "def run(bboxes1, bboxes2):\n",
    "    #https://github.com/venuktan/Intersection-Over-Union/blob/master/iou_benchmark.py\n",
    "    x11, y11, x12, y12 = tf.split(bboxes1, 4, axis=1)\n",
    "    x21, y21, x22, y22 = tf.split(bboxes2, 4, axis=1)\n",
    "    xA = tf.maximum(x11, tf.transpose(x21))\n",
    "    yA = tf.maximum(y11, tf.transpose(y21))\n",
    "    xB = tf.minimum(x12, tf.transpose(x22))\n",
    "    yB = tf.minimum(y12, tf.transpose(y22))\n",
    "    interArea = tf.maximum((xB - xA + 1), 0) * tf.maximum((yB - yA + 1), 0)\n",
    "    boxAArea = (x12 - x11 + 1) * (y12 - y11 + 1)\n",
    "    boxBArea = (x22 - x21 + 1) * (y22 - y21 + 1)\n",
    "    iou = interArea / ((boxAArea + tf.transpose(boxBArea) - interArea)+1)\n",
    "    return iou"
   ]
  },
  {
   "cell_type": "code",
   "execution_count": 13,
   "metadata": {},
   "outputs": [],
   "source": [
    "def get_iou(bb1, bb2):\n",
    "    \"\"\"\n",
    "    #https://stackoverflow.com/questions/25349178/calculating-percentage-of-bounding-box-overlap-for-image-detector-evaluation\n",
    "    Calculate the Intersection over Union (IoU) of two bounding boxes.\n",
    "    \n",
    "    Parameters\n",
    "    ----------\n",
    "    bb1 : dict\n",
    "        np.array (['x1', 'x2', 'y1', 'y2'])\n",
    "        The (x1, y1) position is at the top left corner,\n",
    "        the (x2, y2) position is at the bottom right corner\n",
    "    bb2 : dict\n",
    "        np.array (['x1', 'x2', 'y1', 'y2'])\n",
    "        The (x1, y1) position is at the top left corner,\n",
    "        the (x2, y2) position is at the bottom right corner\n",
    "\n",
    "    Returns\n",
    "    -------\n",
    "    float\n",
    "        in [0, 1]\n",
    "    \"\"\"\n",
    "    assert bb1[0] < bb1[2]\n",
    "    assert bb1[1] < bb1[3]\n",
    "    assert bb2[0] < bb2[2]\n",
    "    assert bb2[1] < bb2[3]\n",
    "        # determine the coordinates of the intersection rectangle\n",
    "    x_left = max(bb1[0], bb2[0])\n",
    "    y_top = max(bb1[1], bb2[1])\n",
    "    x_right = min(bb1[2], bb2[2])\n",
    "    y_bottom = min(bb1[3], bb2[3])\n",
    "\n",
    "    if x_right < x_left or y_bottom < y_top:\n",
    "        return 0.0\n",
    "    \n",
    "    # The intersection of two axis-aligned bounding boxes is always an\n",
    "    # axis-aligned bounding box\n",
    "    intersection_area = (x_right - x_left) * (y_bottom - y_top)\n",
    "\n",
    "    # compute the area of both AABBs\n",
    "    bb1_area = (bb1[2] - bb1[0]) * (bb1[3] - bb1[1])\n",
    "    bb2_area = (bb2[2] - bb2[0]) * (bb2[3] - bb2[1])\n",
    "    \n",
    "    # compute the intersection over union by taking the intersection\n",
    "    # area and dividing it by the sum of prediction + ground-truth\n",
    "    # areas - the interesection area\n",
    "    iou = intersection_area / float(bb1_area + bb2_area - intersection_area)\n",
    "    assert iou >= 0.0\n",
    "    assert iou <= 1.0\n",
    "    return iou"
   ]
  },
  {
   "cell_type": "code",
   "execution_count": 16,
   "metadata": {},
   "outputs": [],
   "source": [
    "def iou_loss(y_true, y_pred):\n",
    "    iou = run(y_true, y_pred)\n",
    "    return 1/(iou + 1) #compreso tra 1/2 e 1"
   ]
  },
  {
   "cell_type": "code",
   "execution_count": 17,
   "metadata": {},
   "outputs": [],
   "source": [
    "def custom_balance(immagini, segnale, bbox):\n",
    "    rus = RandomUnderSampler(return_indices=True)\n",
    "    X_resampled, y_resampled, indexes = rus.fit_sample(immagini.reshape(immagini.shape[0], immagini.shape[1]*immagini.shape[2]*immagini.shape[3]), np.argmax(segnale, axis = 1))     \n",
    "    X_resampled = X_resampled.reshape(X_resampled.shape[0], immagini.shape[1], immagini.shape[2], immagini.shape[3])\n",
    "    y_resampled = np_utils.to_categorical(y_resampled, num_classes=43)\n",
    "    y_resampled = np.concatenate([y_resampled, bbox[indexes]], axis = 1)\n",
    "    return(X_resampled, [y_resampled[:,0:43], y_resampled[:,43:]])\n",
    "def balanced_flow_from_directory(train_gen):\n",
    "    while(True):\n",
    "        immagini, y = next(train_gen)\n",
    "        yield custom_balance(immagini, y[:,0:43], y[:,43:])"
   ]
  },
  {
   "cell_type": "markdown",
   "metadata": {},
   "source": [
    "## Modello"
   ]
  },
  {
   "cell_type": "code",
   "execution_count": 18,
   "metadata": {
    "scrolled": true
   },
   "outputs": [
    {
     "data": {
      "text/plain": [
       "'\\nexperiment = conn.experiments().create(\\n    name=\"Multi-task-cnn\", parameters=[\\n        dict(name=\"dense_classification\", bounds=dict(min=256, max=784),type=\"int\"),\\n        dict(name=\"dense_regression\", bounds=dict(min=256, max=784),type=\"int\"),\\n        dict(name=\"dropout_classification\", bounds=dict(min=0, max=1),type=\"double\"),\\n        dict(name=\"dropout_regression\", bounds=dict(min=0, max=1),type=\"double\"),\\n        dict(name=\"regression_loss\", categorical_values=[dict(name=\"mse\"), dict(name=\"iou_loss\")],type=\"categorical\")],  \\n    metadata=dict(template=\"multi-task\"),\\n    observation_budget=50,\\n    project=\"sigopt-examples\")\\n'"
      ]
     },
     "execution_count": 18,
     "metadata": {},
     "output_type": "execute_result"
    }
   ],
   "source": [
    "\"\"\"\n",
    "experiment = conn.experiments().create(\n",
    "    name=\"Multi-task-cnn\", parameters=[\n",
    "        dict(name=\"dense_classification\", bounds=dict(min=256, max=784),type=\"int\"),\n",
    "        dict(name=\"dense_regression\", bounds=dict(min=256, max=784),type=\"int\"),\n",
    "        dict(name=\"dropout_classification\", bounds=dict(min=0, max=1),type=\"double\"),\n",
    "        dict(name=\"dropout_regression\", bounds=dict(min=0, max=1),type=\"double\"),\n",
    "        dict(name=\"regression_loss\", categorical_values=[dict(name=\"mse\"), dict(name=\"iou_loss\")],type=\"categorical\")],  \n",
    "    metadata=dict(template=\"multi-task\"),\n",
    "    observation_budget=50,\n",
    "    project=\"sigopt-examples\")\n",
    "\"\"\""
   ]
  },
  {
   "cell_type": "code",
   "execution_count": 19,
   "metadata": {},
   "outputs": [],
   "source": [
    "losses = {\n",
    "    'mse': ks.losses.mean_squared_error,\n",
    "    'iou_loss': iou_loss\n",
    "}"
   ]
  },
  {
   "cell_type": "code",
   "execution_count": 20,
   "metadata": {},
   "outputs": [],
   "source": [
    "experiment = conn.experiments('142866').update(\n",
    "  name=\"Multi-task-cnn\",\n",
    "  observation_budget=85\n",
    "  )"
   ]
  },
  {
   "cell_type": "code",
   "execution_count": 18,
   "metadata": {},
   "outputs": [],
   "source": [
    "def create_model(assignments):\n",
    "    visible = Input(shape=(40,40,3)) #(None,None,3)\n",
    "    x1 = Conv2D(16, kernel_size=3, strides=1)(visible)\n",
    "    x1 = LeakyReLU(alpha=0.1)(x1)\n",
    "    x1 = BatchNormalization()(x1)\n",
    "\n",
    "    x2 = Conv2D(32, kernel_size=3, strides=1)(x1)\n",
    "    x2 = LeakyReLU(alpha=0.1)(x2)\n",
    "    x2 = BatchNormalization()(x2)\n",
    "\n",
    "    x2 = MaxPooling2D(pool_size=(2, 2))(x2)\n",
    "\n",
    "    x3 = Conv2D(32, kernel_size=3, strides=1)(x2)\n",
    "    x3 = LeakyReLU(alpha=0.1)(x3)\n",
    "    x3 = BatchNormalization()(x3)\n",
    "\n",
    "    x4 = Conv2D(43, kernel_size=3, strides=1)(x3)\n",
    "    x4 = LeakyReLU(alpha=0.1)(x4)\n",
    "    x4 = BatchNormalization()(x4)\n",
    "\n",
    "    x4 = MaxPooling2D(pool_size=(2, 2))(x4)\n",
    "\n",
    "    x5 = Conv2D(43, kernel_size=1, strides=2)(x4)\n",
    "    x5 = LeakyReLU(alpha=0.1)(x5)\n",
    "    x5 = BatchNormalization()(x5)\n",
    "\n",
    "    x_f = Flatten()(x5)\n",
    "    \n",
    "    x_1 = Dense(assignments['dense_classification'], activation = 'relu')(x_f)\n",
    "    x_1 = Dropout(assignments['dropout_classification'])(x_1)\n",
    "    output1 = Dense(43, activation = 'softmax', name = 'classificazione') (x_1)\n",
    "    \n",
    "    x_2 = Dense(assignments['dense_regression'], activation = 'relu')(x_f)\n",
    "    x_2 = Dropout(assignments['dropout_regression'])(x_2)\n",
    "    output2 = Dense(4, activation='linear', name = 'regressione')(x_2)\n",
    "    \n",
    "    model = Model(inputs=visible, outputs=[output1, output2])\n",
    "    model.compile(loss = ['categorical_crossentropy', losses[assignments['regression_loss']]], optimizer=opt, metrics = {'classificazione':'accuracy',\n",
    "                                                                                   'regressione':'mse'})   \n",
    "    \n",
    "    train_processing_flow = kimage.ImageDataGenerator()\n",
    "    train_generator_flow = train_processing_flow.flow((X_train, y_train), \n",
    "                    batch_size = 1500,\n",
    "                    shuffle=True #riordino i dati in maniera casuale\n",
    "                    )      \n",
    "    train_generator_bal = balanced_flow_from_directory(train_generator_flow)\n",
    "    model.fit_generator(generator=train_generator_bal, epochs=100, verbose=0, steps_per_epoch= 200) #con questa 200        \n",
    "    \n",
    "    return model"
   ]
  },
  {
   "cell_type": "code",
   "execution_count": 19,
   "metadata": {},
   "outputs": [],
   "source": [
    "#VOGLIO MASSIMIZZARE 1/MSE + ACCURACY\n",
    "def evaluate_model(assignments):\n",
    "    model = create_model(assignments)\n",
    "    evals = model.evaluate(X_test, [y_test[:,:43], y_test[:,43:]])\n",
    "    mse = evals[4]\n",
    "    acc = evals[3]\n",
    "    return 1/mse + acc"
   ]
  },
  {
   "cell_type": "code",
   "execution_count": 20,
   "metadata": {
    "collapsed": true
   },
   "outputs": [
    {
     "ename": "ApiException",
     "evalue": "ApiException (403): You have exceeded the maximum number of open suggestions for this plan (10). Close suggestions by deleting them or reporting matching observations.",
     "output_type": "error",
     "traceback": [
      "\u001b[1;31m---------------------------------------------------------------------------\u001b[0m",
      "\u001b[1;31mApiException\u001b[0m                              Traceback (most recent call last)",
      "\u001b[1;32m<ipython-input-20-d393dd0ccaf1>\u001b[0m in \u001b[0;36m<module>\u001b[1;34m\u001b[0m\n\u001b[0;32m      1\u001b[0m \u001b[1;32mfor\u001b[0m \u001b[0m_\u001b[0m \u001b[1;32min\u001b[0m \u001b[0mrange\u001b[0m\u001b[1;33m(\u001b[0m\u001b[0mexperiment\u001b[0m\u001b[1;33m.\u001b[0m\u001b[0mobservation_budget\u001b[0m\u001b[1;33m)\u001b[0m\u001b[1;33m:\u001b[0m\u001b[1;33m\u001b[0m\u001b[1;33m\u001b[0m\u001b[0m\n\u001b[1;32m----> 2\u001b[1;33m     \u001b[0msuggestion\u001b[0m \u001b[1;33m=\u001b[0m \u001b[0mconn\u001b[0m\u001b[1;33m.\u001b[0m\u001b[0mexperiments\u001b[0m\u001b[1;33m(\u001b[0m\u001b[0mexperiment\u001b[0m\u001b[1;33m.\u001b[0m\u001b[0mid\u001b[0m\u001b[1;33m)\u001b[0m\u001b[1;33m.\u001b[0m\u001b[0msuggestions\u001b[0m\u001b[1;33m(\u001b[0m\u001b[1;33m)\u001b[0m\u001b[1;33m.\u001b[0m\u001b[0mcreate\u001b[0m\u001b[1;33m(\u001b[0m\u001b[1;33m)\u001b[0m\u001b[1;33m\u001b[0m\u001b[1;33m\u001b[0m\u001b[0m\n\u001b[0m\u001b[0;32m      3\u001b[0m     \u001b[0massignments\u001b[0m \u001b[1;33m=\u001b[0m \u001b[0msuggestion\u001b[0m\u001b[1;33m.\u001b[0m\u001b[0massignments\u001b[0m\u001b[1;33m\u001b[0m\u001b[1;33m\u001b[0m\u001b[0m\n\u001b[0;32m      4\u001b[0m     \u001b[0mvalue\u001b[0m \u001b[1;33m=\u001b[0m \u001b[0mevaluate_model\u001b[0m\u001b[1;33m(\u001b[0m\u001b[0massignments\u001b[0m\u001b[1;33m)\u001b[0m\u001b[1;33m\u001b[0m\u001b[1;33m\u001b[0m\u001b[0m\n\u001b[0;32m      5\u001b[0m \u001b[1;33m\u001b[0m\u001b[0m\n",
      "\u001b[1;32m~\\AppData\\Local\\Continuum\\anaconda3\\envs\\tfgpu\\lib\\site-packages\\sigopt\\endpoint.py\u001b[0m in \u001b[0;36m__call__\u001b[1;34m(self, **kwargs)\u001b[0m\n\u001b[0;32m     22\u001b[0m \u001b[1;33m\u001b[0m\u001b[0m\n\u001b[0;32m     23\u001b[0m   \u001b[1;32mdef\u001b[0m \u001b[0m__call__\u001b[0m\u001b[1;33m(\u001b[0m\u001b[0mself\u001b[0m\u001b[1;33m,\u001b[0m \u001b[1;33m**\u001b[0m\u001b[0mkwargs\u001b[0m\u001b[1;33m)\u001b[0m\u001b[1;33m:\u001b[0m\u001b[1;33m\u001b[0m\u001b[1;33m\u001b[0m\u001b[0m\n\u001b[1;32m---> 24\u001b[1;33m     \u001b[1;32mreturn\u001b[0m \u001b[0mself\u001b[0m\u001b[1;33m.\u001b[0m\u001b[0mcall_with_params\u001b[0m\u001b[1;33m(\u001b[0m\u001b[0mkwargs\u001b[0m\u001b[1;33m)\u001b[0m\u001b[1;33m\u001b[0m\u001b[1;33m\u001b[0m\u001b[0m\n\u001b[0m\u001b[0;32m     25\u001b[0m \u001b[1;33m\u001b[0m\u001b[0m\n\u001b[0;32m     26\u001b[0m \u001b[1;33m\u001b[0m\u001b[0m\n",
      "\u001b[1;32m~\\AppData\\Local\\Continuum\\anaconda3\\envs\\tfgpu\\lib\\site-packages\\sigopt\\endpoint.py\u001b[0m in \u001b[0;36mcall_with_params\u001b[1;34m(self, params)\u001b[0m\n\u001b[0;32m     15\u001b[0m     \u001b[0mraw_response\u001b[0m \u001b[1;33m=\u001b[0m \u001b[1;32mNone\u001b[0m\u001b[1;33m\u001b[0m\u001b[1;33m\u001b[0m\u001b[0m\n\u001b[0;32m     16\u001b[0m \u001b[1;33m\u001b[0m\u001b[0m\n\u001b[1;32m---> 17\u001b[1;33m     \u001b[0mraw_response\u001b[0m \u001b[1;33m=\u001b[0m \u001b[0mconn\u001b[0m\u001b[1;33m.\u001b[0m\u001b[0m_request\u001b[0m\u001b[1;33m(\u001b[0m\u001b[0mself\u001b[0m\u001b[1;33m.\u001b[0m\u001b[0m_endpoint\u001b[0m\u001b[1;33m.\u001b[0m\u001b[0m_method\u001b[0m\u001b[1;33m,\u001b[0m \u001b[0murl\u001b[0m\u001b[1;33m,\u001b[0m \u001b[0mparams\u001b[0m\u001b[1;33m)\u001b[0m\u001b[1;33m\u001b[0m\u001b[1;33m\u001b[0m\u001b[0m\n\u001b[0m\u001b[0;32m     18\u001b[0m \u001b[1;33m\u001b[0m\u001b[0m\n\u001b[0;32m     19\u001b[0m     \u001b[1;32mif\u001b[0m \u001b[0mraw_response\u001b[0m \u001b[1;32mis\u001b[0m \u001b[1;32mnot\u001b[0m \u001b[1;32mNone\u001b[0m \u001b[1;32mand\u001b[0m \u001b[0mself\u001b[0m\u001b[1;33m.\u001b[0m\u001b[0m_endpoint\u001b[0m\u001b[1;33m.\u001b[0m\u001b[0m_response_cls\u001b[0m \u001b[1;32mis\u001b[0m \u001b[1;32mnot\u001b[0m \u001b[1;32mNone\u001b[0m\u001b[1;33m:\u001b[0m\u001b[1;33m\u001b[0m\u001b[1;33m\u001b[0m\u001b[0m\n",
      "\u001b[1;32m~\\AppData\\Local\\Continuum\\anaconda3\\envs\\tfgpu\\lib\\site-packages\\sigopt\\interface.py\u001b[0m in \u001b[0;36m_request\u001b[1;34m(self, method, url, params)\u001b[0m\n\u001b[0;32m    213\u001b[0m       \u001b[0murl\u001b[0m\u001b[1;33m,\u001b[0m\u001b[1;33m\u001b[0m\u001b[1;33m\u001b[0m\u001b[0m\n\u001b[0;32m    214\u001b[0m       \u001b[0mjson\u001b[0m\u001b[1;33m=\u001b[0m\u001b[0mjson\u001b[0m\u001b[1;33m,\u001b[0m\u001b[1;33m\u001b[0m\u001b[1;33m\u001b[0m\u001b[0m\n\u001b[1;32m--> 215\u001b[1;33m       \u001b[0mparams\u001b[0m\u001b[1;33m=\u001b[0m\u001b[0mparams\u001b[0m\u001b[1;33m,\u001b[0m\u001b[1;33m\u001b[0m\u001b[1;33m\u001b[0m\u001b[0m\n\u001b[0m\u001b[0;32m    216\u001b[0m     )\n\u001b[0;32m    217\u001b[0m \u001b[1;33m\u001b[0m\u001b[0m\n",
      "\u001b[1;32m~\\AppData\\Local\\Continuum\\anaconda3\\envs\\tfgpu\\lib\\site-packages\\sigopt\\requestor.py\u001b[0m in \u001b[0;36mrequest\u001b[1;34m(self, method, url, params, json, headers)\u001b[0m\n\u001b[0;32m     60\u001b[0m       \u001b[0mmessage\u001b[0m\u001b[1;33m.\u001b[0m\u001b[0mappend\u001b[0m\u001b[1;33m(\u001b[0m\u001b[0mstr\u001b[0m\u001b[1;33m(\u001b[0m\u001b[0me\u001b[0m\u001b[1;33m)\u001b[0m\u001b[1;33m)\u001b[0m\u001b[1;33m\u001b[0m\u001b[1;33m\u001b[0m\u001b[0m\n\u001b[0;32m     61\u001b[0m       \u001b[1;32mraise\u001b[0m \u001b[0mConnectionException\u001b[0m\u001b[1;33m(\u001b[0m\u001b[1;34m'\\n'\u001b[0m\u001b[1;33m.\u001b[0m\u001b[0mjoin\u001b[0m\u001b[1;33m(\u001b[0m\u001b[0mmessage\u001b[0m\u001b[1;33m)\u001b[0m\u001b[1;33m)\u001b[0m\u001b[1;33m\u001b[0m\u001b[1;33m\u001b[0m\u001b[0m\n\u001b[1;32m---> 62\u001b[1;33m     \u001b[1;32mreturn\u001b[0m \u001b[0mself\u001b[0m\u001b[1;33m.\u001b[0m\u001b[0m_handle_response\u001b[0m\u001b[1;33m(\u001b[0m\u001b[0mresponse\u001b[0m\u001b[1;33m)\u001b[0m\u001b[1;33m\u001b[0m\u001b[1;33m\u001b[0m\u001b[0m\n\u001b[0m\u001b[0;32m     63\u001b[0m \u001b[1;33m\u001b[0m\u001b[0m\n\u001b[0;32m     64\u001b[0m   \u001b[1;32mdef\u001b[0m \u001b[0m_with_default_headers\u001b[0m\u001b[1;33m(\u001b[0m\u001b[0mself\u001b[0m\u001b[1;33m,\u001b[0m \u001b[0mheaders\u001b[0m\u001b[1;33m)\u001b[0m\u001b[1;33m:\u001b[0m\u001b[1;33m\u001b[0m\u001b[1;33m\u001b[0m\u001b[0m\n",
      "\u001b[1;32m~\\AppData\\Local\\Continuum\\anaconda3\\envs\\tfgpu\\lib\\site-packages\\sigopt\\requestor.py\u001b[0m in \u001b[0;36m_handle_response\u001b[1;34m(self, response)\u001b[0m\n\u001b[0;32m     82\u001b[0m     \u001b[1;32mif\u001b[0m \u001b[0mis_success\u001b[0m\u001b[1;33m:\u001b[0m\u001b[1;33m\u001b[0m\u001b[1;33m\u001b[0m\u001b[0m\n\u001b[0;32m     83\u001b[0m       \u001b[1;32mreturn\u001b[0m \u001b[0mresponse_json\u001b[0m\u001b[1;33m\u001b[0m\u001b[1;33m\u001b[0m\u001b[0m\n\u001b[1;32m---> 84\u001b[1;33m     \u001b[1;32mraise\u001b[0m \u001b[0mApiException\u001b[0m\u001b[1;33m(\u001b[0m\u001b[0mresponse_json\u001b[0m\u001b[1;33m,\u001b[0m \u001b[0mstatus_code\u001b[0m\u001b[1;33m)\u001b[0m\u001b[1;33m\u001b[0m\u001b[1;33m\u001b[0m\u001b[0m\n\u001b[0m",
      "\u001b[1;31mApiException\u001b[0m: ApiException (403): You have exceeded the maximum number of open suggestions for this plan (10). Close suggestions by deleting them or reporting matching observations."
     ]
    }
   ],
   "source": [
    "for _ in range(experiment.observation_budget):\n",
    "    suggestion = conn.experiments(experiment.id).suggestions().create()\n",
    "    assignments = suggestion.assignments\n",
    "    value = evaluate_model(assignments)\n",
    "\n",
    "    conn.experiments(experiment.id).observations().create(\n",
    "        suggestion=suggestion.id,\n",
    "        value=value\n",
    "    )"
   ]
  },
  {
   "cell_type": "code",
   "execution_count": 20,
   "metadata": {},
   "outputs": [
    {
     "name": "stdout",
     "output_type": "stream",
     "text": [
      "Assignments({\n",
      "  \"dense_classification\": 419,\n",
      "  \"dense_regression\": 429,\n",
      "  \"dropout_classification\": 0.7891512795706512,\n",
      "  \"dropout_regression\": 0.51069019825524,\n",
      "  \"regression_loss\": \"iou_loss\"\n",
      "})\n"
     ]
    }
   ],
   "source": [
    "assignments = conn.experiments(experiment.id).best_assignments().fetch().data[0].assignments\n",
    "\n",
    "print(assignments)"
   ]
  },
  {
   "cell_type": "markdown",
   "metadata": {},
   "source": [
    "### Risultati"
   ]
  },
  {
   "cell_type": "code",
   "execution_count": 38,
   "metadata": {},
   "outputs": [],
   "source": [
    "trials = np.arange(1,86,1)"
   ]
  },
  {
   "cell_type": "code",
   "execution_count": 41,
   "metadata": {},
   "outputs": [],
   "source": [
    "a = np.repeat(0.949, 2)\n",
    "b = np.repeat(0.972,6)\n",
    "c = np.repeat(0.973,4)\n",
    "d = np.repeat(0.976, 48)\n",
    "e = np.repeat(0.977, 18)\n",
    "f = np.repeat(0.980, 7)\n",
    "values = np.concatenate ([a,b,c,d,e,f],axis = 0)"
   ]
  },
  {
   "cell_type": "code",
   "execution_count": 49,
   "metadata": {},
   "outputs": [
    {
     "data": {
      "image/png": "[encoded data removed]",
      "text/plain": [
       "<Figure size 720x360 with 1 Axes>"
      ]
     },
     "metadata": {},
     "output_type": "display_data"
    }
   ],
   "source": [
    "import matplotlib.pyplot as plt\n",
    "import seaborn as sns\n",
    "sns.set_style(\"darkgrid\", {\"axes.facecolor\": \".9\"})\n",
    "sns.set_context(\"notebook\", font_scale=1.25)\n",
    "plt.figure(figsize = (10,5))\n",
    "plt.plot(list(values), marker = \"o\", color = \"orange\")\n",
    "plt.xlabel(\"Numero di iterazioni\")\n",
    "plt.title(\"Ottimizzazione del modello multi-task\" )\n",
    "plt.ylabel(\"f(x)\")\n",
    "plt.savefig('Report/ottimizzazione_classificazione.png')"
   ]
  },
  {
   "cell_type": "code",
   "execution_count": null,
   "metadata": {},
   "outputs": [],
   "source": [
    "# This is a SigOpt-tuned model\n",
    "classifier = create_model(assignments)"
   ]
  },
  {
   "cell_type": "code",
   "execution_count": 25,
   "metadata": {},
   "outputs": [],
   "source": [
    "#model.save_weights('weights/classificazione_multiclasse.hdf5')"
   ]
  },
  {
   "cell_type": "code",
   "execution_count": 26,
   "metadata": {},
   "outputs": [],
   "source": [
    "predictions = model.predict(X_test)"
   ]
  },
  {
   "cell_type": "code",
   "execution_count": 28,
   "metadata": {},
   "outputs": [
    {
     "name": "stdout",
     "output_type": "stream",
     "text": [
      "              precision    recall  f1-score   support\n",
      "\n",
      "           0       0.95      0.97      0.96        60\n",
      "           1       0.96      0.99      0.97       720\n",
      "           2       0.96      0.98      0.97       750\n",
      "           3       0.99      0.95      0.97       450\n",
      "           4       0.99      0.98      0.99       660\n",
      "           5       0.95      0.99      0.97       630\n",
      "           6       0.98      0.93      0.96       150\n",
      "           7       1.00      0.92      0.96       450\n",
      "           8       0.95      0.99      0.97       450\n",
      "           9       0.95      0.97      0.96       480\n",
      "          10       1.00      1.00      1.00       660\n",
      "          11       0.86      1.00      0.92       420\n",
      "          12       1.00      0.94      0.97       690\n",
      "          13       0.94      0.99      0.97       720\n",
      "          14       1.00      0.98      0.99       270\n",
      "          15       1.00      0.96      0.98       210\n",
      "          16       1.00      1.00      1.00       150\n",
      "          17       1.00      0.90      0.95       360\n",
      "          18       1.00      0.84      0.92       390\n",
      "          19       0.85      1.00      0.92        60\n",
      "          20       0.90      0.97      0.93        90\n",
      "          21       0.84      0.69      0.76        90\n",
      "          22       0.99      0.89      0.94       120\n",
      "          23       0.79      0.99      0.88       150\n",
      "          24       0.99      0.99      0.99        90\n",
      "          25       0.92      0.96      0.94       480\n",
      "          26       0.97      0.93      0.95       180\n",
      "          27       0.46      0.50      0.48        60\n",
      "          28       0.99      0.98      0.99       150\n",
      "          29       0.96      1.00      0.98        90\n",
      "          30       0.99      0.69      0.82       150\n",
      "          31       0.94      0.98      0.96       270\n",
      "          32       1.00      1.00      1.00        60\n",
      "          33       0.98      0.99      0.98       210\n",
      "          34       1.00      1.00      1.00       120\n",
      "          35       0.99      0.98      0.99       390\n",
      "          36       1.00      0.99      1.00       120\n",
      "          37       0.98      1.00      0.99        60\n",
      "          38       1.00      0.98      0.99       690\n",
      "          39       0.99      0.99      0.99        90\n",
      "          40       0.97      1.00      0.98        90\n",
      "          41       0.89      0.92      0.90        60\n",
      "          42       0.95      0.93      0.94        90\n",
      "\n",
      "    accuracy                           0.96     12630\n",
      "   macro avg       0.95      0.95      0.95     12630\n",
      "weighted avg       0.96      0.96      0.96     12630\n",
      "\n"
     ]
    }
   ],
   "source": [
    "preds = np.argmax(predictions[0], axis = 1)\n",
    "print(classification_report(np.argmax(y_test[:,0:43], axis = 1), preds))"
   ]
  }
 ],
 "metadata": {
  "kernelspec": {
   "display_name": "Python 3",
   "language": "python",
   "name": "python3"
  },
  "language_info": {
   "codemirror_mode": {
    "name": "ipython",
    "version": 3
   },
   "file_extension": ".py",
   "mimetype": "text/x-python",
   "name": "python",
   "nbconvert_exporter": "python",
   "pygments_lexer": "ipython3",
   "version": "3.7.3"
  }
 },
 "nbformat": 4,
 "nbformat_minor": 2
}

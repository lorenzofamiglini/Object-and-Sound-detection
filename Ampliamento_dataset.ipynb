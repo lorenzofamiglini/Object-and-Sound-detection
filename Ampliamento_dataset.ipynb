{
 "cells": [
  {
   "cell_type": "code",
   "execution_count": 1,
   "metadata": {},
   "outputs": [],
   "source": [
    "import pandas as pd\n",
    "import numpy as np"
   ]
  },
  {
   "cell_type": "code",
   "execution_count": 40,
   "metadata": {},
   "outputs": [],
   "source": [
    "df = pd.read_csv('final_segnali_stradali.csv', sep=\";\")"
   ]
  },
  {
   "cell_type": "code",
   "execution_count": 41,
   "metadata": {},
   "outputs": [
    {
     "name": "stderr",
     "output_type": "stream",
     "text": [
      "/Library/Frameworks/Python.framework/Versions/3.7/lib/python3.7/site-packages/ipykernel_launcher.py:1: SettingWithCopyWarning: \n",
      "A value is trying to be set on a copy of a slice from a DataFrame\n",
      "\n",
      "See the caveats in the documentation: http://pandas.pydata.org/pandas-docs/stable/user_guide/indexing.html#returning-a-view-versus-a-copy\n",
      "  \"\"\"Entry point for launching an IPython kernel.\n"
     ]
    }
   ],
   "source": [
    "df['title'][30] = 'Pericolo ghiaccio'"
   ]
  },
  {
   "cell_type": "code",
   "execution_count": 42,
   "metadata": {},
   "outputs": [
    {
     "name": "stderr",
     "output_type": "stream",
     "text": [
      "/Library/Frameworks/Python.framework/Versions/3.7/lib/python3.7/site-packages/ipykernel_launcher.py:1: SettingWithCopyWarning: \n",
      "A value is trying to be set on a copy of a slice from a DataFrame\n",
      "\n",
      "See the caveats in the documentation: http://pandas.pydata.org/pandas-docs/stable/user_guide/indexing.html#returning-a-view-versus-a-copy\n",
      "  \"\"\"Entry point for launching an IPython kernel.\n"
     ]
    }
   ],
   "source": [
    "df['description'][30] = 'Indica la possibilità di trovare tratti di strada ghiacciati in caso di bassa temperatura, o su strade già coperte di neve.'  "
   ]
  },
  {
   "cell_type": "code",
   "execution_count": 43,
   "metadata": {},
   "outputs": [],
   "source": [
    "df['type'] = np.nan"
   ]
  },
  {
   "cell_type": "code",
   "execution_count": 44,
   "metadata": {},
   "outputs": [
    {
     "name": "stderr",
     "output_type": "stream",
     "text": [
      "/Library/Frameworks/Python.framework/Versions/3.7/lib/python3.7/site-packages/ipykernel_launcher.py:1: SettingWithCopyWarning: \n",
      "A value is trying to be set on a copy of a slice from a DataFrame\n",
      "\n",
      "See the caveats in the documentation: http://pandas.pydata.org/pandas-docs/stable/user_guide/indexing.html#returning-a-view-versus-a-copy\n",
      "  \"\"\"Entry point for launching an IPython kernel.\n",
      "/Library/Frameworks/Python.framework/Versions/3.7/lib/python3.7/site-packages/ipykernel_launcher.py:2: SettingWithCopyWarning: \n",
      "A value is trying to be set on a copy of a slice from a DataFrame\n",
      "\n",
      "See the caveats in the documentation: http://pandas.pydata.org/pandas-docs/stable/user_guide/indexing.html#returning-a-view-versus-a-copy\n",
      "  \n",
      "/Library/Frameworks/Python.framework/Versions/3.7/lib/python3.7/site-packages/ipykernel_launcher.py:3: SettingWithCopyWarning: \n",
      "A value is trying to be set on a copy of a slice from a DataFrame\n",
      "\n",
      "See the caveats in the documentation: http://pandas.pydata.org/pandas-docs/stable/user_guide/indexing.html#returning-a-view-versus-a-copy\n",
      "  This is separate from the ipykernel package so we can avoid doing imports until\n",
      "/Library/Frameworks/Python.framework/Versions/3.7/lib/python3.7/site-packages/ipykernel_launcher.py:4: SettingWithCopyWarning: \n",
      "A value is trying to be set on a copy of a slice from a DataFrame\n",
      "\n",
      "See the caveats in the documentation: http://pandas.pydata.org/pandas-docs/stable/user_guide/indexing.html#returning-a-view-versus-a-copy\n",
      "  after removing the cwd from sys.path.\n",
      "/Library/Frameworks/Python.framework/Versions/3.7/lib/python3.7/site-packages/ipykernel_launcher.py:5: SettingWithCopyWarning: \n",
      "A value is trying to be set on a copy of a slice from a DataFrame\n",
      "\n",
      "See the caveats in the documentation: http://pandas.pydata.org/pandas-docs/stable/user_guide/indexing.html#returning-a-view-versus-a-copy\n",
      "  \"\"\"\n",
      "/Library/Frameworks/Python.framework/Versions/3.7/lib/python3.7/site-packages/ipykernel_launcher.py:6: SettingWithCopyWarning: \n",
      "A value is trying to be set on a copy of a slice from a DataFrame\n",
      "\n",
      "See the caveats in the documentation: http://pandas.pydata.org/pandas-docs/stable/user_guide/indexing.html#returning-a-view-versus-a-copy\n",
      "  \n",
      "/Library/Frameworks/Python.framework/Versions/3.7/lib/python3.7/site-packages/ipykernel_launcher.py:7: SettingWithCopyWarning: \n",
      "A value is trying to be set on a copy of a slice from a DataFrame\n",
      "\n",
      "See the caveats in the documentation: http://pandas.pydata.org/pandas-docs/stable/user_guide/indexing.html#returning-a-view-versus-a-copy\n",
      "  import sys\n",
      "/Library/Frameworks/Python.framework/Versions/3.7/lib/python3.7/site-packages/ipykernel_launcher.py:8: SettingWithCopyWarning: \n",
      "A value is trying to be set on a copy of a slice from a DataFrame\n",
      "\n",
      "See the caveats in the documentation: http://pandas.pydata.org/pandas-docs/stable/user_guide/indexing.html#returning-a-view-versus-a-copy\n",
      "  \n",
      "/Library/Frameworks/Python.framework/Versions/3.7/lib/python3.7/site-packages/ipykernel_launcher.py:9: SettingWithCopyWarning: \n",
      "A value is trying to be set on a copy of a slice from a DataFrame\n",
      "\n",
      "See the caveats in the documentation: http://pandas.pydata.org/pandas-docs/stable/user_guide/indexing.html#returning-a-view-versus-a-copy\n",
      "  if __name__ == '__main__':\n",
      "/Library/Frameworks/Python.framework/Versions/3.7/lib/python3.7/site-packages/ipykernel_launcher.py:10: SettingWithCopyWarning: \n",
      "A value is trying to be set on a copy of a slice from a DataFrame\n",
      "\n",
      "See the caveats in the documentation: http://pandas.pydata.org/pandas-docs/stable/user_guide/indexing.html#returning-a-view-versus-a-copy\n",
      "  # Remove the CWD from sys.path while we load stuff.\n"
     ]
    }
   ],
   "source": [
    "df['type'][0:11] = 'divieto'\n",
    "df['type'][11:15] = 'precedenza'\n",
    "df['type'][15:18] = 'divieto'\n",
    "df['type'][18:25] = 'pericolo'\n",
    "df['type'][25] = 'cantiere'\n",
    "df['type'][26:32] = 'pericolo'\n",
    "df['type'][32] = 'divieto'\n",
    "df['type'][33:41] = 'obbligo'\n",
    "df['type'][41] = 'divieto'\n",
    "df['type'][42] = 'divieto'"
   ]
  },
  {
   "cell_type": "code",
   "execution_count": 45,
   "metadata": {},
   "outputs": [],
   "source": [
    "df['penalty'] = np.nan"
   ]
  },
  {
   "cell_type": "code",
   "execution_count": 46,
   "metadata": {
    "scrolled": true
   },
   "outputs": [
    {
     "data": {
      "text/plain": [
       "0    NaN\n",
       "1    NaN\n",
       "2    NaN\n",
       "3    NaN\n",
       "4    NaN\n",
       "5    NaN\n",
       "6    NaN\n",
       "7    NaN\n",
       "8    NaN\n",
       "9    NaN\n",
       "10   NaN\n",
       "11   NaN\n",
       "12   NaN\n",
       "13   NaN\n",
       "14   NaN\n",
       "15   NaN\n",
       "16   NaN\n",
       "17   NaN\n",
       "18   NaN\n",
       "19   NaN\n",
       "20   NaN\n",
       "21   NaN\n",
       "22   NaN\n",
       "23   NaN\n",
       "24   NaN\n",
       "25   NaN\n",
       "26   NaN\n",
       "27   NaN\n",
       "28   NaN\n",
       "29   NaN\n",
       "30   NaN\n",
       "31   NaN\n",
       "32   NaN\n",
       "33   NaN\n",
       "34   NaN\n",
       "35   NaN\n",
       "36   NaN\n",
       "37   NaN\n",
       "38   NaN\n",
       "39   NaN\n",
       "40   NaN\n",
       "41   NaN\n",
       "42   NaN\n",
       "Name: penalty, dtype: float64"
      ]
     },
     "execution_count": 46,
     "metadata": {},
     "output_type": "execute_result"
    }
   ],
   "source": [
    "df.penalty"
   ]
  },
  {
   "cell_type": "code",
   "execution_count": 47,
   "metadata": {
    "collapsed": true
   },
   "outputs": [
    {
     "name": "stderr",
     "output_type": "stream",
     "text": [
      "/Library/Frameworks/Python.framework/Versions/3.7/lib/python3.7/site-packages/ipykernel_launcher.py:1: SettingWithCopyWarning: \n",
      "A value is trying to be set on a copy of a slice from a DataFrame\n",
      "\n",
      "See the caveats in the documentation: http://pandas.pydata.org/pandas-docs/stable/user_guide/indexing.html#returning-a-view-versus-a-copy\n",
      "  \"\"\"Entry point for launching an IPython kernel.\n",
      "/Library/Frameworks/Python.framework/Versions/3.7/lib/python3.7/site-packages/ipykernel_launcher.py:2: SettingWithCopyWarning: \n",
      "A value is trying to be set on a copy of a slice from a DataFrame\n",
      "\n",
      "See the caveats in the documentation: http://pandas.pydata.org/pandas-docs/stable/user_guide/indexing.html#returning-a-view-versus-a-copy\n",
      "  \n",
      "/Library/Frameworks/Python.framework/Versions/3.7/lib/python3.7/site-packages/ipykernel_launcher.py:3: SettingWithCopyWarning: \n",
      "A value is trying to be set on a copy of a slice from a DataFrame\n",
      "\n",
      "See the caveats in the documentation: http://pandas.pydata.org/pandas-docs/stable/user_guide/indexing.html#returning-a-view-versus-a-copy\n",
      "  This is separate from the ipykernel package so we can avoid doing imports until\n",
      "/Library/Frameworks/Python.framework/Versions/3.7/lib/python3.7/site-packages/ipykernel_launcher.py:4: SettingWithCopyWarning: \n",
      "A value is trying to be set on a copy of a slice from a DataFrame\n",
      "\n",
      "See the caveats in the documentation: http://pandas.pydata.org/pandas-docs/stable/user_guide/indexing.html#returning-a-view-versus-a-copy\n",
      "  after removing the cwd from sys.path.\n",
      "/Library/Frameworks/Python.framework/Versions/3.7/lib/python3.7/site-packages/ipykernel_launcher.py:5: SettingWithCopyWarning: \n",
      "A value is trying to be set on a copy of a slice from a DataFrame\n",
      "\n",
      "See the caveats in the documentation: http://pandas.pydata.org/pandas-docs/stable/user_guide/indexing.html#returning-a-view-versus-a-copy\n",
      "  \"\"\"\n",
      "/Library/Frameworks/Python.framework/Versions/3.7/lib/python3.7/site-packages/ipykernel_launcher.py:6: SettingWithCopyWarning: \n",
      "A value is trying to be set on a copy of a slice from a DataFrame\n",
      "\n",
      "See the caveats in the documentation: http://pandas.pydata.org/pandas-docs/stable/user_guide/indexing.html#returning-a-view-versus-a-copy\n",
      "  \n",
      "/Library/Frameworks/Python.framework/Versions/3.7/lib/python3.7/site-packages/ipykernel_launcher.py:7: SettingWithCopyWarning: \n",
      "A value is trying to be set on a copy of a slice from a DataFrame\n",
      "\n",
      "See the caveats in the documentation: http://pandas.pydata.org/pandas-docs/stable/user_guide/indexing.html#returning-a-view-versus-a-copy\n",
      "  import sys\n",
      "/Library/Frameworks/Python.framework/Versions/3.7/lib/python3.7/site-packages/ipykernel_launcher.py:8: SettingWithCopyWarning: \n",
      "A value is trying to be set on a copy of a slice from a DataFrame\n",
      "\n",
      "See the caveats in the documentation: http://pandas.pydata.org/pandas-docs/stable/user_guide/indexing.html#returning-a-view-versus-a-copy\n",
      "  \n",
      "/Library/Frameworks/Python.framework/Versions/3.7/lib/python3.7/site-packages/ipykernel_launcher.py:9: SettingWithCopyWarning: \n",
      "A value is trying to be set on a copy of a slice from a DataFrame\n",
      "\n",
      "See the caveats in the documentation: http://pandas.pydata.org/pandas-docs/stable/user_guide/indexing.html#returning-a-view-versus-a-copy\n",
      "  if __name__ == '__main__':\n",
      "/Library/Frameworks/Python.framework/Versions/3.7/lib/python3.7/site-packages/ipykernel_launcher.py:10: SettingWithCopyWarning: \n",
      "A value is trying to be set on a copy of a slice from a DataFrame\n",
      "\n",
      "See the caveats in the documentation: http://pandas.pydata.org/pandas-docs/stable/user_guide/indexing.html#returning-a-view-versus-a-copy\n",
      "  # Remove the CWD from sys.path while we load stuff.\n",
      "/Library/Frameworks/Python.framework/Versions/3.7/lib/python3.7/site-packages/ipykernel_launcher.py:11: SettingWithCopyWarning: \n",
      "A value is trying to be set on a copy of a slice from a DataFrame\n",
      "\n",
      "See the caveats in the documentation: http://pandas.pydata.org/pandas-docs/stable/user_guide/indexing.html#returning-a-view-versus-a-copy\n",
      "  # This is added back by InteractiveShellApp.init_path()\n",
      "/Library/Frameworks/Python.framework/Versions/3.7/lib/python3.7/site-packages/ipykernel_launcher.py:12: SettingWithCopyWarning: \n",
      "A value is trying to be set on a copy of a slice from a DataFrame\n",
      "\n",
      "See the caveats in the documentation: http://pandas.pydata.org/pandas-docs/stable/user_guide/indexing.html#returning-a-view-versus-a-copy\n",
      "  if sys.path[0] == '':\n",
      "/Library/Frameworks/Python.framework/Versions/3.7/lib/python3.7/site-packages/ipykernel_launcher.py:13: SettingWithCopyWarning: \n",
      "A value is trying to be set on a copy of a slice from a DataFrame\n",
      "\n",
      "See the caveats in the documentation: http://pandas.pydata.org/pandas-docs/stable/user_guide/indexing.html#returning-a-view-versus-a-copy\n",
      "  del sys.path[0]\n"
     ]
    }
   ],
   "source": [
    "df['penalty'][0:9] = 'Fino a 10 km/h in più rispetto al limite - sanzione pecuniaria compresa tra 42 e 173 euro. Oltre 10 km/h e fino a 40 km/h in più - sanzione pecuniaria compresa tra 173 e 695 euro e decurtazione di 3 punti sulla patente. Oltre 40 km/h e non oltre i 60 km/h - sanzione pecuniaria tra 544 e 21714 euro, decurtazione di 6 punti sulla patente e sanzione accessoria della sospensione della patente di guida da uno a tre mesi. Chiunque supera di oltre 60 km/h i limiti massimi di velocità è punito con una sanzione pecuniaria compresa 847 e 3.389, con la decurtazione di 10 punti sulla patente e la sanzione accessoria della sospensione della patente da sei a dodici mesi. In caso di recidiva in un biennio è disposta la revoca della patente di guida. La sanzione per chi procede troppo piano è una multa che può andare da un minimo di 41 euro ad un massimo di 168 euro.'\n",
    "df['penalty'][9] = 'Le sanzioni per il sorpasso non autorizzato sono le seguenti: – sorpasso della striscia continua senza il segnale di divieto e senza incorrere in altre situazioni più pericolose: multa di 41 euro, 84 se effettuata fuori città, oltre alla decurtazione di 2 punti dalla patente; – in presenza del cartello verticale di divieto scatta la multa di 41 euro se il sorpasso è eseguito nel centro urbano, e di 84 euro fuori città. Non è prevista decurtazione dei punti; – se si sorpassa la striscia continua e c’è il segnale di divieto, si arriva a una multa di 82 euro in città, 168 euro fuori città con due punti decurtati dalla patente; – se la manovra di sorpasso presenta requisiti di maggiore gravità collegati al caso concreto (per esempio: in condizione di scarsa visibilità, in curva, negli incroci, presso passaggi pedonali, nei dossi ecc.) la multa va da 162 a 1272 euro, è prevista la decurtazione di 10 punti dalla patente oltre alla possibile sospensione della stessa'\n",
    "df['penalty'][10] = 'Sanzione pecuniaria da € 328 a € 1311 + sottrazione di 10 punti + sospensione da 2 a 6 mesi'\n",
    "df['penalty'][11:15] = 'Le sanzioni per il mancato rispetto delle regole sulle precedenze vanno dai 163 ai 652 euro ed è previsto che, se questa violazione viene ripetuta per due volte in due anni, ci sia la sospensione della patente per un periodo variabile da uno a tre mesi. La violazione delle norme sulla precedenza comporta anche la decurtazione di punti dalla patente: 6 punti in caso di mancato arresto al segnale di stop e 5 punti negli altri casi di mancata precedenza. Per i neopatentati, cioè per coloro che compiono la violazione entro i primi 3 anni dal rilascio della patente, i punti tolti sono raddoppiati.'\n",
    "df['penalty'][15:17] = 'Pagamento di una somma compresa tra un minimo di 84 ed un massimo di 335 €. La determinazione dell’entità della sanzione dipende da una serie di variabili soggettive, tra cui personalità e condizioni economiche del trasgressore.'\n",
    "df['penalty'][17] = 'Colui che viola il divieto di circolazione in senso vietato dovrà pagare una multa di 41 euro se l’infrazione viene commessa nei centri abitati e di 84 euro se la violazione avviene fuori dagli stessi.'\n",
    "df['penalty'][18:25] = 'Non dispobile, in quanto segnale di pericolo'\n",
    "df['penalty'][26:32] = 'Non dispobile, in quanto segnale di pericolo'\n",
    "df['penalty'][25] = 'Non disponibile, in quanto segnale di cantiere'\n",
    "df['penalty'][32] = 'Non disponibile, in quanto fine segnale di divieto'\n",
    "df['penalty'][33:40] = 'Multa €42 – 173 nei centri abitati, Sanzione € 87 – 345. Fuori dai centri abitati: Multa € 42 – 173 + 2 punti se i segnali sono temporanei (ad esempio quando c’è un cantiere)'\n",
    "df['penalty'][40] = 'Per mancata precedenza in rotonda il CDS prevede: multa che va da € 167 a € 666 + sottrazione di 5 punti e/o sospensione della patente da 1 a 3 mesi per recidiva nel biennio'\n",
    "df['penalty'][41:43] = 'Non disponibile, in quanto fine segnale di divieto'"
   ]
  },
  {
   "cell_type": "code",
   "execution_count": 50,
   "metadata": {},
   "outputs": [],
   "source": [
    "df = df.drop(['Unnamed: 0'], axis=1)"
   ]
  },
  {
   "cell_type": "code",
   "execution_count": 52,
   "metadata": {},
   "outputs": [
    {
     "data": {
      "text/html": [
       "<div>\n",
       "<style scoped>\n",
       "    .dataframe tbody tr th:only-of-type {\n",
       "        vertical-align: middle;\n",
       "    }\n",
       "\n",
       "    .dataframe tbody tr th {\n",
       "        vertical-align: top;\n",
       "    }\n",
       "\n",
       "    .dataframe thead th {\n",
       "        text-align: right;\n",
       "    }\n",
       "</style>\n",
       "<table border=\"1\" class=\"dataframe\">\n",
       "  <thead>\n",
       "    <tr style=\"text-align: right;\">\n",
       "      <th></th>\n",
       "      <th>title</th>\n",
       "      <th>target</th>\n",
       "      <th>description</th>\n",
       "      <th>type</th>\n",
       "      <th>penalty</th>\n",
       "    </tr>\n",
       "  </thead>\n",
       "  <tbody>\n",
       "    <tr>\n",
       "      <td>0</td>\n",
       "      <td>Limite massimo di velocità di 20 Km/h</td>\n",
       "      <td>0</td>\n",
       "      <td>Indica la velocità massima consentita per tutt...</td>\n",
       "      <td>divieto</td>\n",
       "      <td>Fino a 10 km/h in più rispetto al limite - san...</td>\n",
       "    </tr>\n",
       "    <tr>\n",
       "      <td>1</td>\n",
       "      <td>Limite massimo di velocità di 30 Km/h</td>\n",
       "      <td>1</td>\n",
       "      <td>Indica la velocità massima consentita per tutt...</td>\n",
       "      <td>divieto</td>\n",
       "      <td>Fino a 10 km/h in più rispetto al limite - san...</td>\n",
       "    </tr>\n",
       "    <tr>\n",
       "      <td>2</td>\n",
       "      <td>Limite massimo di velocità di 50 Km/h</td>\n",
       "      <td>2</td>\n",
       "      <td>Indica la velocità massima consentita per tutt...</td>\n",
       "      <td>divieto</td>\n",
       "      <td>Fino a 10 km/h in più rispetto al limite - san...</td>\n",
       "    </tr>\n",
       "    <tr>\n",
       "      <td>3</td>\n",
       "      <td>Limite massimo di velocità di 60 Km/h</td>\n",
       "      <td>3</td>\n",
       "      <td>Indica la velocità massima consentita per tutt...</td>\n",
       "      <td>divieto</td>\n",
       "      <td>Fino a 10 km/h in più rispetto al limite - san...</td>\n",
       "    </tr>\n",
       "    <tr>\n",
       "      <td>4</td>\n",
       "      <td>Limite massimo di velocità di 70 Km/h</td>\n",
       "      <td>4</td>\n",
       "      <td>Indica la velocità massima consentita per tutt...</td>\n",
       "      <td>divieto</td>\n",
       "      <td>Fino a 10 km/h in più rispetto al limite - san...</td>\n",
       "    </tr>\n",
       "  </tbody>\n",
       "</table>\n",
       "</div>"
      ],
      "text/plain": [
       "                                   title  target  \\\n",
       "0  Limite massimo di velocità di 20 Km/h       0   \n",
       "1  Limite massimo di velocità di 30 Km/h       1   \n",
       "2  Limite massimo di velocità di 50 Km/h       2   \n",
       "3  Limite massimo di velocità di 60 Km/h       3   \n",
       "4  Limite massimo di velocità di 70 Km/h       4   \n",
       "\n",
       "                                         description     type  \\\n",
       "0  Indica la velocità massima consentita per tutt...  divieto   \n",
       "1  Indica la velocità massima consentita per tutt...  divieto   \n",
       "2  Indica la velocità massima consentita per tutt...  divieto   \n",
       "3  Indica la velocità massima consentita per tutt...  divieto   \n",
       "4  Indica la velocità massima consentita per tutt...  divieto   \n",
       "\n",
       "                                             penalty  \n",
       "0  Fino a 10 km/h in più rispetto al limite - san...  \n",
       "1  Fino a 10 km/h in più rispetto al limite - san...  \n",
       "2  Fino a 10 km/h in più rispetto al limite - san...  \n",
       "3  Fino a 10 km/h in più rispetto al limite - san...  \n",
       "4  Fino a 10 km/h in più rispetto al limite - san...  "
      ]
     },
     "execution_count": 52,
     "metadata": {},
     "output_type": "execute_result"
    }
   ],
   "source": [
    "df.head()"
   ]
  },
  {
   "cell_type": "code",
   "execution_count": null,
   "metadata": {},
   "outputs": [],
   "source": []
  },
  {
   "cell_type": "code",
   "execution_count": null,
   "metadata": {},
   "outputs": [],
   "source": []
  }
 ],
 "metadata": {
  "kernelspec": {
   "display_name": "Python 3",
   "language": "python",
   "name": "python3"
  },
  "language_info": {
   "codemirror_mode": {
    "name": "ipython",
    "version": 3
   },
   "file_extension": ".py",
   "mimetype": "text/x-python",
   "name": "python",
   "nbconvert_exporter": "python",
   "pygments_lexer": "ipython3",
   "version": "3.7.3"
  }
 },
 "nbformat": 4,
 "nbformat_minor": 2
}
